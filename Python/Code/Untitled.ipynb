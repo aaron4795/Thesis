{
 "cells": [
  {
   "cell_type": "code",
   "execution_count": null,
   "id": "faec100e",
   "metadata": {},
   "outputs": [],
   "source": [
    "# Rename columns to have a consistent naming\n",
    "Final1.rename(columns={'HomeTeam' : 'Home_Team', 'AwayTeam' : 'Away_Team',\n",
    "       'HomeGoals' : 'Home_Goals', 'AwayGoals' : 'Away_Goals', \n",
    "       'HomeFouls' : 'Home_Fouls', 'AwayFouls' : 'Away_Fouls',\n",
    "       'HomeFld' : 'Home_Fld', 'AwayFld' : 'Away_Fld', \n",
    "       'HomeYellow' : 'Home_Yellow', 'AwayYellow' : 'Away_Yellow',\n",
    "       'HomeRed' : 'Home_Red', 'AwayRed' : 'Away_Red',\n",
    "       'HomeOffsides' : 'Home_Offsides', 'AwayOffsides' : 'Away_Offsides', \n",
    "       'HomePenConc' : 'Home_PenConc', 'AwayPenConc' : 'Away_PenConc',\n",
    "       'HomePenAtt' : 'Home_PenAtt', 'AwayPenAtt' : 'Away_PenAtt',\n",
    "       'HomeAnnual Wages EUR' : 'Home_AnnualWagesEUR',\n",
    "       'AwayAnnual Wages EUR' : 'Away_AnnualWagesEUR',\n",
    "       'HomeEquipo' : 'Home_Equipo', 'AwayEquipo' : 'Away_Equipo',\n",
    "       'HomeMktValue' : 'Home_MktValue', 'AwayMktValue' : 'Away_MktValue'}, inplace=True)"
   ]
  }
 ],
 "metadata": {
  "kernelspec": {
   "display_name": "Python 3 (ipykernel)",
   "language": "python",
   "name": "python3"
  },
  "language_info": {
   "codemirror_mode": {
    "name": "ipython",
    "version": 3
   },
   "file_extension": ".py",
   "mimetype": "text/x-python",
   "name": "python",
   "nbconvert_exporter": "python",
   "pygments_lexer": "ipython3",
   "version": "3.10.9"
  }
 },
 "nbformat": 4,
 "nbformat_minor": 5
}
