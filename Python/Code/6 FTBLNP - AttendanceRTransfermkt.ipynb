{
 "cells": [
  {
   "cell_type": "code",
   "execution_count": null,
   "id": "0fb573d8",
   "metadata": {},
   "outputs": [],
   "source": []
  },
  {
   "cell_type": "code",
   "execution_count": null,
   "id": "b3893104",
   "metadata": {},
   "outputs": [],
   "source": []
  },
  {
   "cell_type": "code",
   "execution_count": null,
   "id": "892bc156",
   "metadata": {},
   "outputs": [],
   "source": []
  },
  {
   "cell_type": "code",
   "execution_count": null,
   "id": "cca63bee",
   "metadata": {},
   "outputs": [],
   "source": []
  },
  {
   "cell_type": "code",
   "execution_count": null,
   "id": "c2ea2f3d",
   "metadata": {},
   "outputs": [],
   "source": []
  },
  {
   "cell_type": "code",
   "execution_count": null,
   "id": "cb6d1763",
   "metadata": {},
   "outputs": [],
   "source": [
    "xxx\n",
    "def standard_teams(df):\n",
    "    replacements = {\n",
    "        'Almeria' : 'Almería', 'Athletic' : 'Athletic Club', \n",
    "        'CA Osasuna' : 'Osasuna', 'Cádiz CF' : 'Cádiz', \n",
    "        'Celta de Vigo' : 'Celta Vigo', 'Córdoba CF' : 'Córdoba', \n",
    "        'Hércules CF' : 'Hércules', 'Dep. La Coruña' : 'Deportivo La Coruña', \n",
    "        'Málaga CF' : 'Málaga', 'Racing' : 'Racing Santander', \n",
    "        'Sp Gijon' : 'Sporting Gijón', 'Villareal' : 'Villarreal', \n",
    "        'CD Leganés' : 'Leganés', 'CD Numancia' : 'Numancia', \n",
    "        'CD Tenerife' : 'Tenerife', 'Elche CF' : 'Elche', \n",
    "        'RCD Mallorca' : 'Mallorca', 'Real Betis' : 'Betis', \n",
    "        'Real Oviedo' : 'Oviedo', 'Real Valladolid' : 'Valladolid', \n",
    "        'Real Zaragoza' : 'Zaragoza', 'Recr. Huelva' : 'Recreativo', \n",
    "        'SD ' : '', 'Sevilla FC' : 'Sevilla', 'UD ' : '', \n",
    "        'Xerez CD' : 'Xerez', 'Granada CF' : 'Granada'\n",
    "    }\n",
    "    \n",
    "    variables = ['Home_Team', 'Away_Team', 'PenaltyTaker', 'PenaltyConc']\n",
    "    for vars in variables:\n",
    "        for old_value, new_value in replacements.items():\n",
    "            df[vars] = df[vars].str.replace(old_value, new_value, regex = True)\n",
    "\n",
    "# Apply the function\n",
    "standard_teams(missed)"
   ]
  }
 ],
 "metadata": {
  "kernelspec": {
   "display_name": "Python 3 (ipykernel)",
   "language": "python",
   "name": "python3"
  },
  "language_info": {
   "codemirror_mode": {
    "name": "ipython",
    "version": 3
   },
   "file_extension": ".py",
   "mimetype": "text/x-python",
   "name": "python",
   "nbconvert_exporter": "python",
   "pygments_lexer": "ipython3",
   "version": "3.10.9"
  }
 },
 "nbformat": 4,
 "nbformat_minor": 5
}
