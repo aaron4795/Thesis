{
 "cells": [
  {
   "cell_type": "code",
   "execution_count": 1,
   "id": "8ea59f85",
   "metadata": {},
   "outputs": [],
   "source": [
    "# Import libraries\n",
    "import pandas as pd\n",
    "import os\n",
    "import numpy as np\n",
    "\n",
    "# Set working directory\n",
    "os.chdir('C:\\\\Users\\\\aaron\\\\Desktop\\\\GitHub\\\\Thesis\\\\Python')"
   ]
  },
  {
   "cell_type": "code",
   "execution_count": 2,
   "id": "f8272689",
   "metadata": {},
   "outputs": [
    {
     "name": "stdout",
     "output_type": "stream",
     "text": [
      "1\n",
      "2\n",
      "3\n",
      "4\n",
      "5\n",
      "6\n",
      "7\n",
      "8\n",
      "9\n",
      "10\n",
      "11\n",
      "12\n",
      "13\n",
      "14\n",
      "15\n",
      "16\n"
     ]
    }
   ],
   "source": [
    "# Once performed this once, there's no need to perform this again as it is time consuming\n",
    "\n",
    "#dataframes = {}\n",
    "\n",
    "for i in range(1, 17):\n",
    "    print(i)\n",
    "\n",
    "    # Define the path file and file path\n",
    "    filename = f'h{i}.csv'\n",
    "    filepath = os.path.join(r'Data\\RFEF - CTA', filename)\n",
    "\n",
    "    # Import data\n",
    "    #rfef_cta = pd.read_csv(filepath, encoding='ISO-8859-1')\n",
    "    \n",
    "    #dataframes[filename] = rfef_cta\n",
    "    \n",
    "#print(dataframes.keys())"
   ]
  },
  {
   "cell_type": "code",
   "execution_count": 3,
   "id": "633ecf20",
   "metadata": {},
   "outputs": [],
   "source": [
    "# Concat dictionary entries in one dataframe\n",
    "#rfef_cta = pd.concat(dataframes.values(), ignore_index = True)\n",
    "\n",
    "#len(rfef_cta)"
   ]
  },
  {
   "cell_type": "code",
   "execution_count": 4,
   "id": "9196fc0e",
   "metadata": {},
   "outputs": [],
   "source": [
    "# rfef_cta.to_csv('Data\\RFEF - CTA\\SOURCODE.csv')"
   ]
  },
  {
   "cell_type": "code",
   "execution_count": 5,
   "id": "b1b9ba66",
   "metadata": {},
   "outputs": [],
   "source": [
    "rfef_cta = pd.read_csv('Data\\RFEF - CTA\\SOURCODE.csv')"
   ]
  },
  {
   "cell_type": "code",
   "execution_count": 6,
   "id": "d5df70e8",
   "metadata": {},
   "outputs": [],
   "source": [
    "rfef_cta.drop(['Unnamed: 0'], axis = 1, inplace = True)\n",
    "rfef_cta = rfef_cta.dropna()"
   ]
  },
  {
   "cell_type": "code",
   "execution_count": 7,
   "id": "811d13e0",
   "metadata": {},
   "outputs": [],
   "source": [
    "tab_character = chr(9)\n",
    "quotation_character = chr(34)\n",
    "rfef_cta['x'] = rfef_cta['x'].str.replace(tab_character, '')\n",
    "rfef_cta['x'] = rfef_cta['x'].str.replace('  ', '')\n",
    "rfef_cta['x'] = rfef_cta['x'].str.replace(quotation_character, '')"
   ]
  },
  {
   "cell_type": "code",
   "execution_count": 8,
   "id": "1efdf14c",
   "metadata": {},
   "outputs": [
    {
     "data": {
      "text/plain": [
       "4846122"
      ]
     },
     "execution_count": 8,
     "metadata": {},
     "output_type": "execute_result"
    }
   ],
   "source": [
    "# Drop rows where we don't have any value\n",
    "rfef_cta = rfef_cta[rfef_cta['x'] != '']\n",
    "rfef_cta = rfef_cta[rfef_cta['x'] != ' ']\n",
    "\n",
    "len(rfef_cta)"
   ]
  },
  {
   "cell_type": "code",
   "execution_count": 9,
   "id": "f2660e92",
   "metadata": {},
   "outputs": [
    {
     "data": {
      "text/plain": [
       "102256"
      ]
     },
     "execution_count": 9,
     "metadata": {},
     "output_type": "execute_result"
    }
   ],
   "source": [
    "# Keep obs where we find a certain chain of characters\n",
    "rfef_cta['aux'] = np.where((rfef_cta['x'].str.find('Temporada') > 0) |\n",
    "                           (rfef_cta['x'].str.find('Jornada') > 0) |\n",
    "                           (rfef_cta['x'].str.find('Acta del Partido celebrado') > 0) |\n",
    "                           (rfef_cta['x'].str.find('<td width=225') > 0) |\n",
    "                           (rfef_cta['x'].str.find('class=NEGRITA>-') > 0) |\n",
    "                           (rfef_cta['x'].str.find('EXPULSIONES') > 0) |\n",
    "                           (rfef_cta['x'].str.find('motivo: doble amarilla') > 0), 1, 0)\n",
    "\n",
    "rfef_cta = rfef_cta[rfef_cta['aux'] == 1]\n",
    "\n",
    "rfef_cta = rfef_cta[~rfef_cta['x'].str.contains(\"Liga 2ª División\", na=False)]\n",
    "\n",
    "len(rfef_cta)"
   ]
  },
  {
   "cell_type": "code",
   "execution_count": 10,
   "id": "c91c0199",
   "metadata": {},
   "outputs": [],
   "source": [
    "# Standarize\n",
    "rfef_cta['x'] = rfef_cta['x'].str.replace('Liga 1ª División', 'Liga 1ra División')"
   ]
  },
  {
   "cell_type": "code",
   "execution_count": 11,
   "id": "0f11c16a",
   "metadata": {},
   "outputs": [
    {
     "data": {
      "text/plain": [
       "102256"
      ]
     },
     "execution_count": 11,
     "metadata": {},
     "output_type": "execute_result"
    }
   ],
   "source": [
    "# Clean obs\n",
    "strings_to_remove = ['<td width=225 class=TEXTO_COLOR>', '</td>',\n",
    "'<td height=15 colspan=2 class=NEGRITA>- ',\n",
    "':', '<td width=30%><span class=TIT_PAG>&nbsp;',\n",
    "'</span>', '<td align=right width=30%><span class=TIT_PAG>',\n",
    "'&nbsp;', '<td class=BG_TIT_PAG><span class=tit4>',\n",
    "'<td height=15 >+ ', '<td height=15 colspan=3 class=tit4>B.- ']\n",
    "\n",
    "for s in strings_to_remove:\n",
    "    rfef_cta['x'] = rfef_cta['x'].str.replace(s, '', regex = True)\n",
    "\n",
    "\n",
    "rfef_cta['x'] = np.where((rfef_cta['x'].str.contains('addMenuItem',)), \n",
    "                         'Liga 1ra División', rfef_cta['x'])\n",
    "\n",
    "rfef_cta['x'] = rfef_cta['x'].str.replace('<td height=15 >+ ', '', regex = False)\n",
    "\n",
    "len(rfef_cta)"
   ]
  },
  {
   "cell_type": "code",
   "execution_count": 12,
   "id": "22e75e73",
   "metadata": {},
   "outputs": [],
   "source": [
    "# Reset index and drop unneded variables\n",
    "rfef_cta.reset_index(inplace = True)\n",
    "rfef_cta.drop(['index', 'aux'], axis = 1, inplace = True)"
   ]
  },
  {
   "cell_type": "code",
   "execution_count": 13,
   "id": "7dfe910a",
   "metadata": {},
   "outputs": [
    {
     "data": {
      "text/plain": [
       "102247"
      ]
     },
     "execution_count": 13,
     "metadata": {},
     "output_type": "execute_result"
    }
   ],
   "source": [
    "# Drop obs that have certain chain of characters\n",
    "rfef_cta = rfef_cta[~rfef_cta['x'].str.contains(\"<td align=right class=BG_TIT_PAG>\", na = False)]\n",
    "rfef_cta = rfef_cta[~rfef_cta['x'].str.contains(\"<td height=15 colspan=2 >\", na = False)]\n",
    "rfef_cta = rfef_cta[~rfef_cta['x'].str.contains(\"<td width=570 height=15 >\", na = False)]\n",
    "rfef_cta = rfef_cta[~rfef_cta['x'].str.contains(\"El segundo tiempo comenzó con 30\", na = False)]\n",
    "\n",
    "len(rfef_cta)"
   ]
  },
  {
   "cell_type": "code",
   "execution_count": 14,
   "id": "69cc6415",
   "metadata": {},
   "outputs": [],
   "source": [
    "# Standarize teams names\n",
    "rfef_cta['x'] = rfef_cta['x'].str.replace('Málaga CF SAD', 'Málaga', regex = True)\n",
    "rfef_cta['x'] = rfef_cta['x'].str.replace('Villarreal CF SAD', 'Villarreal', regex = True)\n",
    "rfef_cta['x'] = rfef_cta['x'].str.replace('RCD Espanyol de Barcelona SAD', 'Espanyol', regex = True)\n",
    "rfef_cta['x'] = rfef_cta['x'].str.replace('Real Zaragoza SAD', 'Zaragoza', regex = True)\n",
    "rfef_cta['x'] = rfef_cta['x'].str.replace('FC Barcelona', 'Barcelona', regex = True)\n",
    "rfef_cta['x'] = rfef_cta['x'].str.replace('Real Sociedad de Fútbol SAD', 'Real Sociedad', regex = True)\n",
    "rfef_cta['x'] = rfef_cta['x'].str.replace('Real Betis Balompié SAD', 'Betis', regex = True)\n",
    "rfef_cta['x'] = rfef_cta['x'].str.replace('Real Madrid CF', 'Real Madrid', regex = True)\n",
    "rfef_cta['x'] = rfef_cta['x'].str.replace('Sevilla FC SAD', 'Sevilla', regex = True)\n",
    "rfef_cta['x'] = rfef_cta['x'].str.replace('Club Atlético de Madrid SAD', 'Atlético Madrid', regex = True)\n",
    "rfef_cta['x'] = rfef_cta['x'].str.replace('Real Valladolid CF SAD', 'Valladolid', regex = True)\n",
    "rfef_cta['x'] = rfef_cta['x'].str.replace('Albacete Balompié SAD', 'Albacete', regex = True)\n",
    "rfef_cta['x'] = rfef_cta['x'].str.replace('RC Deportivo', 'Deportivo La Coruña', regex = True)\n",
    "rfef_cta['x'] = rfef_cta['x'].str.replace('RC Celta de Vigo SAD', 'Celta Vigo', regex = True)\n",
    "rfef_cta['x'] = rfef_cta['x'].str.replace('Club Atlético Osasuna', 'Osasuna', regex = True)\n",
    "rfef_cta['x'] = rfef_cta['x'].str.replace('Real Murcia CF', 'Real Murcia', regex = True)\n",
    "rfef_cta['x'] = rfef_cta['x'].str.replace('Real Racing Club de Santander SAD', 'Racing Santander', regex = True)\n",
    "rfef_cta['x'] = rfef_cta['x'].str.replace('Athletic Club', 'Athletic Club', regex = True)\n",
    "rfef_cta['x'] = rfef_cta['x'].str.replace('Valencia CF SAD', 'Valencia', regex = True)\n",
    "rfef_cta['x'] = rfef_cta['x'].str.replace('RCD Mallorca SAD', 'Mallorca', regex = True)\n",
    "rfef_cta['x'] = rfef_cta['x'].str.replace('Levante UD SAD', 'Levante', regex = True)\n",
    "rfef_cta['x'] = rfef_cta['x'].str.replace('Getafe CF SAD', 'Getafe', regex = True)\n",
    "rfef_cta['x'] = rfef_cta['x'].str.replace('CD Numancia de Soria', 'Numancia', regex = True)\n",
    "rfef_cta['x'] = rfef_cta['x'].str.replace('Cádiz CF SAD', 'Cádiz', regex = True)\n",
    "rfef_cta['x'] = rfef_cta['x'].str.replace('Deportivo Alavés SAD', 'Alavés', regex = True)\n",
    "rfef_cta['x'] = rfef_cta['x'].str.replace('RC Recreativo de Huelva SAD', 'Recreativo', regex = True)\n",
    "rfef_cta['x'] = rfef_cta['x'].str.replace('Gimnàstic de Tarragona', 'Gimnàstic', regex = True)\n",
    "rfef_cta['x'] = rfef_cta['x'].str.replace('UD Almería SAD', 'Almería', regex = True)\n",
    "rfef_cta['x'] = rfef_cta['x'].str.replace('Real Sporting de Gijón SAD', 'Sporting Gijón', regex = True)\n",
    "rfef_cta['x'] = rfef_cta['x'].str.replace('Xerez C.D. SAD', 'Xerez', regex = True)\n",
    "rfef_cta['x'] = rfef_cta['x'].str.replace('CD Tenerife SAD', 'Tenerife', regex = True)\n",
    "rfef_cta['x'] = rfef_cta['x'].str.replace('Hércules de Alicante CF SAD', 'Hércules', regex = True)\n",
    "rfef_cta['x'] = rfef_cta['x'].str.replace('Granada CF SAD', 'Granada', regex = True)\n",
    "rfef_cta['x'] = rfef_cta['x'].str.replace('Rayo Vallecano de Madrid SAD', 'Rayo Vallecano', regex = True)\n",
    "rfef_cta['x'] = rfef_cta['x'].str.replace('Elche CF SAD', 'Elche', regex = True)\n",
    "rfef_cta['x'] = rfef_cta['x'].str.replace('Córdoba CF', 'Córdoba', regex = True)\n",
    "rfef_cta['x'] = rfef_cta['x'].str.replace('SD Eibar SAD', 'Eibar', regex = True)\n",
    "rfef_cta['x'] = rfef_cta['x'].str.replace('UD Las Palmas SAD', 'Las Palmas', regex = True)\n",
    "rfef_cta['x'] = rfef_cta['x'].str.replace('CD Leganés SAD', 'Leganés', regex = True)"
   ]
  },
  {
   "cell_type": "code",
   "execution_count": 15,
   "id": "0df04ec3",
   "metadata": {},
   "outputs": [],
   "source": [
    "# Define new variables based on the content of x variable\n",
    "rfef_cta['Season'] = np.where((rfef_cta['x'].str.contains('Temporada')), rfef_cta['x'], float('nan'))\n",
    "rfef_cta['Jornada'] = np.where((rfef_cta['x'].str.contains('Jornada')), rfef_cta['x'], float('nan'))\n",
    "rfef_cta['Acta'] = np.where((rfef_cta['x'].str.contains('Acta del Partido')), rfef_cta['x'], float('nan'))\n",
    "\n",
    "rfef_cta['homeEquipo'] = np.where((rfef_cta['x'].shift(1).str.contains('Acta del Partido')), rfef_cta['x'], float('nan'))\n",
    "rfef_cta['awayEquipo'] = np.where((rfef_cta['x'].shift(2).str.contains('Acta del Partido')), rfef_cta['x'], float('nan'))\n",
    "\n",
    "rfef_cta['Exp'] = np.where((rfef_cta['x'].str.contains('EXPULSIONES')), rfef_cta['x'], float('nan'))\n",
    "rfef_cta['ExpJ'] = np.where((rfef_cta['x'].str.contains('En el minuto')) & (rfef_cta['x'].str.contains('el jugador')), \n",
    "                            rfef_cta['x'], float('nan'))"
   ]
  },
  {
   "cell_type": "code",
   "execution_count": 16,
   "id": "8750b813",
   "metadata": {},
   "outputs": [
    {
     "data": {
      "text/plain": [
       "Index(['Unnamed: 0.1', 'x', 'Season', 'Jornada', 'Acta', 'homeEquipo',\n",
       "       'awayEquipo', 'Exp', 'ExpJ'],\n",
       "      dtype='object')"
      ]
     },
     "execution_count": 16,
     "metadata": {},
     "output_type": "execute_result"
    }
   ],
   "source": [
    "rfef_cta.columns"
   ]
  },
  {
   "cell_type": "code",
   "execution_count": 17,
   "id": "4010966a",
   "metadata": {},
   "outputs": [],
   "source": [
    "rfef_cta['Aux'] = np.where((~rfef_cta['Jornada'].isna()) | \n",
    "                           (~rfef_cta['Acta'].isna()) |\n",
    "                           (~rfef_cta['homeEquipo'].isna()) |\n",
    "                           (~rfef_cta['awayEquipo'].isna()), 1, 0)"
   ]
  },
  {
   "cell_type": "code",
   "execution_count": 18,
   "id": "8eb031b1",
   "metadata": {},
   "outputs": [],
   "source": [
    "rfef_cta['Jornada'] = rfef_cta['Jornada'].shift(-1)\n",
    "rfef_cta['Acta'] = rfef_cta['Acta'].shift(-2)\n",
    "rfef_cta['homeEquipo'] = rfef_cta['homeEquipo'].shift(-3)\n",
    "rfef_cta['awayEquipo'] = rfef_cta['awayEquipo'].shift(-4)\n",
    "\n",
    "rfef_cta = rfef_cta[rfef_cta['Aux'] != 1]"
   ]
  },
  {
   "cell_type": "code",
   "execution_count": 19,
   "id": "418a85ee",
   "metadata": {},
   "outputs": [],
   "source": [
    "rfef_cta['Equipo'] = np.where(((rfef_cta['x'].shift(1).str.contains('EXPULSIONES')) |\n",
    "                              (rfef_cta['x'].shift(2).str.contains('EXPULSIONES')) |\n",
    "                              (rfef_cta['x'].shift(-1).str.contains('En el minuto'))) &\n",
    "                              (~rfef_cta['x'].str.contains('En el minuto')) |\n",
    "                              ((rfef_cta['x'].shift(1).str.contains('En el minuto')) &\n",
    "                              (~rfef_cta['x'].str.contains('En el minuto')) &\n",
    "                              (rfef_cta['x'].shift(-3).str.contains('EXPULSIONES'))), \n",
    "                              rfef_cta['x'], float('nan'))"
   ]
  },
  {
   "cell_type": "code",
   "execution_count": 20,
   "id": "168179a6",
   "metadata": {},
   "outputs": [],
   "source": [
    "# Drop obs that lack relevant data\n",
    "rfef_cta['Aux'] = np.where((rfef_cta['awayEquipo'].isna()) &\n",
    "                           (rfef_cta['Exp'].isna()) &\n",
    "                           (rfef_cta['ExpJ'].isna()) &\n",
    "                           (rfef_cta['Equipo'].isna()), 1, 0)\n",
    "\n",
    "rfef_cta = rfef_cta[rfef_cta['Aux'] != 1]"
   ]
  },
  {
   "cell_type": "code",
   "execution_count": 21,
   "id": "2880c087",
   "metadata": {},
   "outputs": [
    {
     "name": "stdout",
     "output_type": "stream",
     "text": [
      "51699\n",
      "30054\n",
      "11613\n",
      "5466\n",
      "4396\n"
     ]
    }
   ],
   "source": [
    "# Drop obs that lack relevant data\n",
    "rfef_cta.columns\n",
    "\n",
    "print(len(rfef_cta))\n",
    "\n",
    "rfef_cta['Aux'] = np.where( ((~rfef_cta['Exp'].isna()) & (rfef_cta['ExpJ'].shift(1).str.contains('minuto'))) |\n",
    "                            ((~rfef_cta['Exp'].isna()) & (~rfef_cta['awayEquipo'].shift(-3).isna()))\n",
    "                            , 1, 0)\n",
    "\n",
    "rfef_cta['Aux'] = np.where((rfef_cta['Aux'].shift(1) == 1) | (rfef_cta['Aux'].shift(2) == 1), 1, rfef_cta['Aux'])\n",
    "\n",
    "rfef_cta = rfef_cta[rfef_cta['Aux'] != 1]\n",
    "\n",
    "print(len(rfef_cta))\n",
    "\n",
    "rfef_cta['Aux'] = np.where( (~rfef_cta['Exp'].isna()) & (~rfef_cta['Exp'].shift(-4).isna()), 1, 0)\n",
    "rfef_cta['Aux'] = np.where( (rfef_cta['Aux'].shift(1) == 1) | (rfef_cta['Aux'].shift(2) == 1), 1, rfef_cta['Aux'])\n",
    "\n",
    "rfef_cta = rfef_cta[rfef_cta['Aux'] != 1]\n",
    "\n",
    "print(len(rfef_cta))\n",
    "\n",
    "# Drop those matches observations that don't have double yellow card incidents\n",
    "rfef_cta['Aux'] = np.where((~rfef_cta['Season'].isna()) & (rfef_cta['Exp'].shift(-1).isna()), 1, 0)\n",
    "rfef_cta = rfef_cta[rfef_cta['Aux'] != 1]\n",
    "\n",
    "print(len(rfef_cta))\n",
    "\n",
    "rfef_cta = rfef_cta[rfef_cta['Exp'].isna()]\n",
    "\n",
    "print(len(rfef_cta))\n",
    "\n",
    "# Drop redundant variables\n",
    "rfef_cta.drop(['x', 'Exp'], axis = 1, inplace = True)\n",
    "\n",
    "# Adjust Equipo variable to match its players\n",
    "rfef_cta['Equipo'] = np.where( (~rfef_cta['ExpJ'].isna() ), \n",
    "                             rfef_cta['Equipo'].shift(1), float('nan'))\n",
    "\n",
    "rfef_cta['Equipo'] = np.where( (~rfef_cta['ExpJ'].isna() ) & rfef_cta['Equipo'].isna(), \n",
    "                           rfef_cta['Equipo'].shift(1), \n",
    "                            rfef_cta['Equipo'])\n",
    "\n",
    "# ADJUST THIS WITH A WHILE LOOP"
   ]
  },
  {
   "cell_type": "code",
   "execution_count": 22,
   "id": "bc99b49d",
   "metadata": {},
   "outputs": [],
   "source": [
    "rfef_cta = rfef_cta[(~rfef_cta['ExpJ'].isna()) | \n",
    "                    (~rfef_cta['awayEquipo'].isna())]"
   ]
  },
  {
   "cell_type": "code",
   "execution_count": 23,
   "id": "1bb1cc80",
   "metadata": {},
   "outputs": [],
   "source": [
    "vars = ['Season', 'Jornada', 'Acta', 'homeEquipo', 'awayEquipo']\n",
    "\n",
    "aux = rfef_cta['Season'].isna().sum()\n",
    "\n",
    "while aux != 0:\n",
    "    for var in vars:\n",
    "        rfef_cta[var] = np.where( (rfef_cta[var].isna() ), rfef_cta[var].shift(1), rfef_cta[var])\n",
    "    \n",
    "    aux = rfef_cta['Season'].isna().sum()"
   ]
  },
  {
   "cell_type": "code",
   "execution_count": 24,
   "id": "f49e60e7",
   "metadata": {},
   "outputs": [],
   "source": [
    "rfef_cta['Partido'] = rfef_cta['homeEquipo'] + ' vs ' + rfef_cta['awayEquipo']"
   ]
  },
  {
   "cell_type": "code",
   "execution_count": 25,
   "id": "05131a7e",
   "metadata": {},
   "outputs": [],
   "source": [
    "rfef_cta['ExpJ'] = np.where( (rfef_cta['ExpJ'].isna()), \n",
    "                           0, 1)\n",
    "\n",
    "# Aggregate data per match per team\n",
    "rfef_cta = rfef_cta.groupby(['Season', 'Jornada', 'Acta', 'Partido', 'Equipo'], as_index = False).agg({'ExpJ' : 'sum'})"
   ]
  },
  {
   "cell_type": "code",
   "execution_count": 26,
   "id": "43b2e8fb",
   "metadata": {},
   "outputs": [],
   "source": [
    "# Clean the value of Jornada variable\n",
    "old = \"Jornada Nº \"\n",
    "new = \"La Liga (Matchweek \"\n",
    "\n",
    "rfef_cta['Jornada'] = rfef_cta['Jornada'].str.replace(old, new, regex = True) + ')'"
   ]
  },
  {
   "cell_type": "code",
   "execution_count": 27,
   "id": "51209fa2",
   "metadata": {},
   "outputs": [],
   "source": [
    "# Next steps is to do this for all data\n",
    "# Then check if its doing okay"
   ]
  },
  {
   "cell_type": "code",
   "execution_count": 28,
   "id": "1bc07424",
   "metadata": {},
   "outputs": [],
   "source": [
    "# Insert manually missing values\n",
    "manual_insert = {\n",
    "    'Season': ['Temporada 2006/2007', 'Temporada 2006/2007', 'Temporada 2009/2010', 'Temporada 2009/2010'],\n",
    "    'Jornada': ['La Liga (Matchweek 19)', 'La Liga (Matchweek 19)', 'La Liga (Matchweek 10)', 'La Liga (Matchweek 10)'],\n",
    "    'Acta': ['Acta del Partido celebrado el 21 de enero de 2007', 'Acta del Partido celebrado el 21 de enero de 2007', \n",
    "             'Acta del Partido celebrado el 8 de noviembre de 2009', 'Acta del Partido celebrado el 8 de noviembre de 2009'],\n",
    "    'Partido': ['Atlético Madrid vs Osasuna', 'Atlético Madrid vs Osasuna', 'Valladolid vs Xerez', 'Valladolid vs Xerez'],\n",
    "    'Equipo': ['Osasuna', 'Atlético Madrid', 'Valladolid', 'Xerez'],\n",
    "    'ExpJ': [1, 0, 0, 1]\n",
    "}\n",
    "\n",
    "df = pd.DataFrame(manual_insert)"
   ]
  },
  {
   "cell_type": "code",
   "execution_count": 29,
   "id": "88c9c266",
   "metadata": {},
   "outputs": [],
   "source": [
    "# Append with larger dataset\n",
    "rfef_cta = pd.concat([rfef_cta, df], ignore_index=True)"
   ]
  },
  {
   "cell_type": "code",
   "execution_count": 30,
   "id": "b161b999",
   "metadata": {},
   "outputs": [
    {
     "name": "stderr",
     "output_type": "stream",
     "text": [
      "C:\\Users\\aaron\\AppData\\Local\\Temp\\ipykernel_20476\\374197435.py:6: FutureWarning: In a future version of pandas all arguments of StringMethods.split except for the argument 'pat' will be keyword-only.\n",
      "  rfef_cta['Year'] = rfef_cta['Season'].str.split(\"/\", 1).str[0]\n"
     ]
    }
   ],
   "source": [
    "# Clean Season variable\n",
    "rfef_cta['Season'] = rfef_cta['Season'].str.replace('Temporada ', '', regex = True)\n",
    "rfef_cta['Season'] = rfef_cta['Season'].str.replace(' ', '', regex = True)\n",
    "\n",
    "# Define Year variable\n",
    "rfef_cta['Year'] = rfef_cta['Season'].str.split(\"/\", 1).str[0]"
   ]
  },
  {
   "cell_type": "code",
   "execution_count": 31,
   "id": "0eb08e0e",
   "metadata": {},
   "outputs": [
    {
     "name": "stderr",
     "output_type": "stream",
     "text": [
      "C:\\Users\\aaron\\AppData\\Local\\Temp\\ipykernel_20476\\3400577177.py:2: FutureWarning: In a future version of pandas all arguments of StringMethods.split except for the argument 'pat' will be keyword-only.\n",
      "  rfef_cta['Local'] = np.where( (rfef_cta['Partido'].str.split(' vs ', 1).str[0] == rfef_cta['Equipo']),\n"
     ]
    },
    {
     "data": {
      "text/html": [
       "<div>\n",
       "<style scoped>\n",
       "    .dataframe tbody tr th:only-of-type {\n",
       "        vertical-align: middle;\n",
       "    }\n",
       "\n",
       "    .dataframe tbody tr th {\n",
       "        vertical-align: top;\n",
       "    }\n",
       "\n",
       "    .dataframe thead th {\n",
       "        text-align: right;\n",
       "    }\n",
       "</style>\n",
       "<table border=\"1\" class=\"dataframe\">\n",
       "  <thead>\n",
       "    <tr style=\"text-align: right;\">\n",
       "      <th></th>\n",
       "      <th>Season</th>\n",
       "      <th>Jornada</th>\n",
       "      <th>Acta</th>\n",
       "      <th>Partido</th>\n",
       "      <th>Equipo</th>\n",
       "      <th>ExpJ</th>\n",
       "      <th>Year</th>\n",
       "      <th>Local</th>\n",
       "    </tr>\n",
       "  </thead>\n",
       "  <tbody>\n",
       "    <tr>\n",
       "      <th>0</th>\n",
       "      <td>2003/2004</td>\n",
       "      <td>La Liga (Matchweek 1)</td>\n",
       "      <td>Acta del Partido celebrado el 30 de agosto de ...</td>\n",
       "      <td>Málaga vs Villarreal</td>\n",
       "      <td>Málaga</td>\n",
       "      <td>1</td>\n",
       "      <td>2003</td>\n",
       "      <td>1</td>\n",
       "    </tr>\n",
       "    <tr>\n",
       "      <th>1</th>\n",
       "      <td>2003/2004</td>\n",
       "      <td>La Liga (Matchweek 1)</td>\n",
       "      <td>Acta del Partido celebrado el 30 de agosto de ...</td>\n",
       "      <td>Málaga vs Villarreal</td>\n",
       "      <td>Villarreal</td>\n",
       "      <td>1</td>\n",
       "      <td>2003</td>\n",
       "      <td>0</td>\n",
       "    </tr>\n",
       "    <tr>\n",
       "      <th>2</th>\n",
       "      <td>2003/2004</td>\n",
       "      <td>La Liga (Matchweek 10)</td>\n",
       "      <td>Acta del Partido celebrado el 02 de noviembre ...</td>\n",
       "      <td>Espanyol vs Zaragoza</td>\n",
       "      <td>Espanyol</td>\n",
       "      <td>1</td>\n",
       "      <td>2003</td>\n",
       "      <td>1</td>\n",
       "    </tr>\n",
       "    <tr>\n",
       "      <th>3</th>\n",
       "      <td>2003/2004</td>\n",
       "      <td>La Liga (Matchweek 10)</td>\n",
       "      <td>Acta del Partido celebrado el 02 de noviembre ...</td>\n",
       "      <td>Real Sociedad vs Barcelona</td>\n",
       "      <td>Barcelona</td>\n",
       "      <td>1</td>\n",
       "      <td>2003</td>\n",
       "      <td>0</td>\n",
       "    </tr>\n",
       "    <tr>\n",
       "      <th>4</th>\n",
       "      <td>2003/2004</td>\n",
       "      <td>La Liga (Matchweek 11)</td>\n",
       "      <td>Acta del Partido celebrado el 09 de noviembre ...</td>\n",
       "      <td>Barcelona vs Betis</td>\n",
       "      <td>Betis</td>\n",
       "      <td>1</td>\n",
       "      <td>2003</td>\n",
       "      <td>0</td>\n",
       "    </tr>\n",
       "    <tr>\n",
       "      <th>...</th>\n",
       "      <td>...</td>\n",
       "      <td>...</td>\n",
       "      <td>...</td>\n",
       "      <td>...</td>\n",
       "      <td>...</td>\n",
       "      <td>...</td>\n",
       "      <td>...</td>\n",
       "      <td>...</td>\n",
       "    </tr>\n",
       "    <tr>\n",
       "      <th>1137</th>\n",
       "      <td>2021/2022</td>\n",
       "      <td>La Liga (Matchweek 9)</td>\n",
       "      <td>Acta del Partido celebrado el 16 de octubre de...</td>\n",
       "      <td>Real Sociedad vs Mallorca</td>\n",
       "      <td>Real Sociedad</td>\n",
       "      <td>1</td>\n",
       "      <td>2021</td>\n",
       "      <td>1</td>\n",
       "    </tr>\n",
       "    <tr>\n",
       "      <th>1138</th>\n",
       "      <td>2006/2007</td>\n",
       "      <td>La Liga (Matchweek 19)</td>\n",
       "      <td>Acta del Partido celebrado el 21 de enero de 2007</td>\n",
       "      <td>Atlético Madrid vs Osasuna</td>\n",
       "      <td>Osasuna</td>\n",
       "      <td>1</td>\n",
       "      <td>2006</td>\n",
       "      <td>0</td>\n",
       "    </tr>\n",
       "    <tr>\n",
       "      <th>1139</th>\n",
       "      <td>2006/2007</td>\n",
       "      <td>La Liga (Matchweek 19)</td>\n",
       "      <td>Acta del Partido celebrado el 21 de enero de 2007</td>\n",
       "      <td>Atlético Madrid vs Osasuna</td>\n",
       "      <td>Atlético Madrid</td>\n",
       "      <td>0</td>\n",
       "      <td>2006</td>\n",
       "      <td>1</td>\n",
       "    </tr>\n",
       "    <tr>\n",
       "      <th>1140</th>\n",
       "      <td>2009/2010</td>\n",
       "      <td>La Liga (Matchweek 10)</td>\n",
       "      <td>Acta del Partido celebrado el 8 de noviembre d...</td>\n",
       "      <td>Valladolid vs Xerez</td>\n",
       "      <td>Valladolid</td>\n",
       "      <td>0</td>\n",
       "      <td>2009</td>\n",
       "      <td>1</td>\n",
       "    </tr>\n",
       "    <tr>\n",
       "      <th>1141</th>\n",
       "      <td>2009/2010</td>\n",
       "      <td>La Liga (Matchweek 10)</td>\n",
       "      <td>Acta del Partido celebrado el 8 de noviembre d...</td>\n",
       "      <td>Valladolid vs Xerez</td>\n",
       "      <td>Xerez</td>\n",
       "      <td>1</td>\n",
       "      <td>2009</td>\n",
       "      <td>0</td>\n",
       "    </tr>\n",
       "  </tbody>\n",
       "</table>\n",
       "<p>1142 rows × 8 columns</p>\n",
       "</div>"
      ],
      "text/plain": [
       "         Season                 Jornada  \\\n",
       "0     2003/2004   La Liga (Matchweek 1)   \n",
       "1     2003/2004   La Liga (Matchweek 1)   \n",
       "2     2003/2004  La Liga (Matchweek 10)   \n",
       "3     2003/2004  La Liga (Matchweek 10)   \n",
       "4     2003/2004  La Liga (Matchweek 11)   \n",
       "...         ...                     ...   \n",
       "1137  2021/2022   La Liga (Matchweek 9)   \n",
       "1138  2006/2007  La Liga (Matchweek 19)   \n",
       "1139  2006/2007  La Liga (Matchweek 19)   \n",
       "1140  2009/2010  La Liga (Matchweek 10)   \n",
       "1141  2009/2010  La Liga (Matchweek 10)   \n",
       "\n",
       "                                                   Acta  \\\n",
       "0     Acta del Partido celebrado el 30 de agosto de ...   \n",
       "1     Acta del Partido celebrado el 30 de agosto de ...   \n",
       "2     Acta del Partido celebrado el 02 de noviembre ...   \n",
       "3     Acta del Partido celebrado el 02 de noviembre ...   \n",
       "4     Acta del Partido celebrado el 09 de noviembre ...   \n",
       "...                                                 ...   \n",
       "1137  Acta del Partido celebrado el 16 de octubre de...   \n",
       "1138  Acta del Partido celebrado el 21 de enero de 2007   \n",
       "1139  Acta del Partido celebrado el 21 de enero de 2007   \n",
       "1140  Acta del Partido celebrado el 8 de noviembre d...   \n",
       "1141  Acta del Partido celebrado el 8 de noviembre d...   \n",
       "\n",
       "                         Partido           Equipo  ExpJ  Year  Local  \n",
       "0           Málaga vs Villarreal           Málaga     1  2003      1  \n",
       "1           Málaga vs Villarreal       Villarreal     1  2003      0  \n",
       "2           Espanyol vs Zaragoza         Espanyol     1  2003      1  \n",
       "3     Real Sociedad vs Barcelona        Barcelona     1  2003      0  \n",
       "4             Barcelona vs Betis            Betis     1  2003      0  \n",
       "...                          ...              ...   ...   ...    ...  \n",
       "1137   Real Sociedad vs Mallorca    Real Sociedad     1  2021      1  \n",
       "1138  Atlético Madrid vs Osasuna          Osasuna     1  2006      0  \n",
       "1139  Atlético Madrid vs Osasuna  Atlético Madrid     0  2006      1  \n",
       "1140         Valladolid vs Xerez       Valladolid     0  2009      1  \n",
       "1141         Valladolid vs Xerez            Xerez     1  2009      0  \n",
       "\n",
       "[1142 rows x 8 columns]"
      ]
     },
     "execution_count": 31,
     "metadata": {},
     "output_type": "execute_result"
    }
   ],
   "source": [
    "# Define Local variable\n",
    "rfef_cta['Local'] = np.where( (rfef_cta['Partido'].str.split(' vs ', 1).str[0] == rfef_cta['Equipo']), \n",
    "                             1, 0)\n",
    "rfef_cta"
   ]
  },
  {
   "cell_type": "code",
   "execution_count": 32,
   "id": "8e69e07e",
   "metadata": {},
   "outputs": [],
   "source": [
    "# Define Second yellow card home and away variable\n",
    "rfef_cta['SecYCrdHOME'] = np.where( (rfef_cta['Local'] == 1 ), rfef_cta['ExpJ'], 0)\n",
    "rfef_cta['SecYCrdAWAY'] = np.where( (rfef_cta['Local'] != 1 ), rfef_cta['ExpJ'], 0)"
   ]
  },
  {
   "cell_type": "code",
   "execution_count": 33,
   "id": "f3899d99",
   "metadata": {},
   "outputs": [
    {
     "data": {
      "text/html": [
       "<div>\n",
       "<style scoped>\n",
       "    .dataframe tbody tr th:only-of-type {\n",
       "        vertical-align: middle;\n",
       "    }\n",
       "\n",
       "    .dataframe tbody tr th {\n",
       "        vertical-align: top;\n",
       "    }\n",
       "\n",
       "    .dataframe thead th {\n",
       "        text-align: right;\n",
       "    }\n",
       "</style>\n",
       "<table border=\"1\" class=\"dataframe\">\n",
       "  <thead>\n",
       "    <tr style=\"text-align: right;\">\n",
       "      <th></th>\n",
       "      <th>Partido</th>\n",
       "      <th>Acta</th>\n",
       "      <th>SecYCrdHOME</th>\n",
       "      <th>SecYCrdAWAY</th>\n",
       "    </tr>\n",
       "  </thead>\n",
       "  <tbody>\n",
       "  </tbody>\n",
       "</table>\n",
       "</div>"
      ],
      "text/plain": [
       "Empty DataFrame\n",
       "Columns: [Partido, Acta, SecYCrdHOME, SecYCrdAWAY]\n",
       "Index: []"
      ]
     },
     "execution_count": 33,
     "metadata": {},
     "output_type": "execute_result"
    }
   ],
   "source": [
    "# Check for matches where there was no second yellow card to drop those obs\n",
    "rf_aux = rfef_cta.groupby(['Partido', 'Acta'], as_index = False).agg({'SecYCrdHOME' : 'mean', \n",
    "                                                                    'SecYCrdAWAY' : 'mean'})\n",
    "rf_aux = rf_aux[ (rf_aux['SecYCrdAWAY']  == 0) & (rf_aux['SecYCrdHOME']  == 0)]\n",
    "rf_aux\n",
    "\n",
    "# No need to do anything"
   ]
  },
  {
   "cell_type": "code",
   "execution_count": 34,
   "id": "116b84ba",
   "metadata": {},
   "outputs": [],
   "source": [
    "# Define labels for Matchweeks and Teams\n",
    "\n",
    "# Define the mapping from team names to numeric IDs\n",
    "team_name_to_id = {\n",
    "    \"Alavés\": 1, \"Albacete\": 2, \"Almería\": 3,\n",
    "    \"Athletic Club\": 4, \"Atlético Madrid\": 5,\n",
    "    \"Barcelona\": 6, \"Betis\": 7,\n",
    "    \"Celta Vigo\": 8, \"Cádiz\": 9,\n",
    "    \"Córdoba\": 10, \"Deportivo La Coruña\": 11,\n",
    "    \"Eibar\": 12, \"Elche\": 13,\n",
    "    \"Espanyol\": 14, \"Extremadura\": 15,\n",
    "    \"Getafe\": 16, \"Gimnàstic\": 17,\n",
    "    \"Girona\": 18, \"Granada\": 19,\n",
    "    \"Huesca\": 20, \"Hércules\": 21,\n",
    "    \"Las Palmas\": 22, \"Leganés\": 23,\n",
    "    \"Levante\": 24, \"Mallorca\": 25,\n",
    "    \"Málaga\": 26, \"Numancia\": 27,\n",
    "    \"Osasuna\": 28, \"Oviedo\": 29,\n",
    "    \"Racing Santander\": 30, \"Rayo Vallecano\": 31,\n",
    "    \"Real Madrid\": 32, \"Real Murcia\": 33,\n",
    "    \"Real Sociedad\": 34, \"Recreativo\": 35,\n",
    "    \"Salamanca\": 36, \"Sevilla\": 37,\n",
    "    \"Sporting Gijón\": 38, \"Tenerife\": 39,\n",
    "    \"Valencia\": 40, \"Valladolid\": 41,\n",
    "    \"Villarreal\": 42, \"Xerez\": 43,\n",
    "    \"Zaragoza\": 44\n",
    "}\n",
    "\n",
    "# Convert the 'Equipo' string variable to a new numeric 'team' variable\n",
    "rfef_cta['team'] = rfef_cta['Equipo'].map(team_name_to_id)"
   ]
  },
  {
   "cell_type": "code",
   "execution_count": 35,
   "id": "2377fd64",
   "metadata": {},
   "outputs": [],
   "source": [
    "# Define the mapping from matchweek names to numeric IDs\n",
    "jornada_to_matchweek_id = {\n",
    "    \"La Liga (Matchweek 1)\": 1, \"La Liga (Matchweek 2)\": 2,\n",
    "    \"La Liga (Matchweek 3)\": 3, \"La Liga (Matchweek 4)\": 4,\n",
    "    \"La Liga (Matchweek 5)\": 5, \"La Liga (Matchweek 6)\": 6,\n",
    "    \"La Liga (Matchweek 7)\": 7, \"La Liga (Matchweek 8)\": 8,\n",
    "    \"La Liga (Matchweek 9)\": 9, \"La Liga (Matchweek 10)\": 10,\n",
    "    \"La Liga (Matchweek 11)\": 11, \"La Liga (Matchweek 12)\": 12,\n",
    "    \"La Liga (Matchweek 13)\": 13, \"La Liga (Matchweek 14)\": 14,\n",
    "    \"La Liga (Matchweek 15)\": 15, \"La Liga (Matchweek 16)\": 16,\n",
    "    \"La Liga (Matchweek 17)\": 17, \"La Liga (Matchweek 18)\": 18,\n",
    "    \"La Liga (Matchweek 19)\": 19, \"La Liga (Matchweek 20)\": 20,\n",
    "    \"La Liga (Matchweek 21)\": 21, \"La Liga (Matchweek 22)\": 22,\n",
    "    \"La Liga (Matchweek 23)\": 23, \"La Liga (Matchweek 24)\": 24,\n",
    "    \"La Liga (Matchweek 25)\": 25, \"La Liga (Matchweek 26)\": 26,\n",
    "    \"La Liga (Matchweek 27)\": 27, \"La Liga (Matchweek 28)\": 28,\n",
    "    \"La Liga (Matchweek 29)\": 29, \"La Liga (Matchweek 30)\": 30,\n",
    "    \"La Liga (Matchweek 31)\": 31, \"La Liga (Matchweek 32)\": 32,\n",
    "    \"La Liga (Matchweek 33)\": 33, \"La Liga (Matchweek 34)\": 34,\n",
    "    \"La Liga (Matchweek 35)\": 35, \"La Liga (Matchweek 36)\": 36,\n",
    "    \"La Liga (Matchweek 37)\": 37, \"La Liga (Matchweek 38)\": 38\n",
    "}\n",
    "\n",
    "# Convert 'Jornada' string to numeric 'Matchweek'\n",
    "rfef_cta['Matchweek'] = rfef_cta['Jornada'].map(jornada_to_matchweek_id)"
   ]
  },
  {
   "cell_type": "code",
   "execution_count": 36,
   "id": "a34287f1",
   "metadata": {},
   "outputs": [
    {
     "data": {
      "text/html": [
       "<div>\n",
       "<style scoped>\n",
       "    .dataframe tbody tr th:only-of-type {\n",
       "        vertical-align: middle;\n",
       "    }\n",
       "\n",
       "    .dataframe tbody tr th {\n",
       "        vertical-align: top;\n",
       "    }\n",
       "\n",
       "    .dataframe thead th {\n",
       "        text-align: right;\n",
       "    }\n",
       "</style>\n",
       "<table border=\"1\" class=\"dataframe\">\n",
       "  <thead>\n",
       "    <tr style=\"text-align: right;\">\n",
       "      <th></th>\n",
       "      <th>Season</th>\n",
       "      <th>Jornada</th>\n",
       "      <th>Acta</th>\n",
       "      <th>Partido</th>\n",
       "      <th>Equipo</th>\n",
       "      <th>ExpJ</th>\n",
       "      <th>Year</th>\n",
       "      <th>Local</th>\n",
       "      <th>SecYCrdHOME</th>\n",
       "      <th>SecYCrdAWAY</th>\n",
       "      <th>team</th>\n",
       "      <th>Matchweek</th>\n",
       "    </tr>\n",
       "  </thead>\n",
       "  <tbody>\n",
       "    <tr>\n",
       "      <th>0</th>\n",
       "      <td>2003/2004</td>\n",
       "      <td>La Liga (Matchweek 1)</td>\n",
       "      <td>Acta del Partido celebrado el 30 de agosto de ...</td>\n",
       "      <td>Málaga vs Villarreal</td>\n",
       "      <td>Málaga</td>\n",
       "      <td>1</td>\n",
       "      <td>2003</td>\n",
       "      <td>1</td>\n",
       "      <td>1</td>\n",
       "      <td>0</td>\n",
       "      <td>26.0</td>\n",
       "      <td>1</td>\n",
       "    </tr>\n",
       "    <tr>\n",
       "      <th>1</th>\n",
       "      <td>2003/2004</td>\n",
       "      <td>La Liga (Matchweek 1)</td>\n",
       "      <td>Acta del Partido celebrado el 30 de agosto de ...</td>\n",
       "      <td>Málaga vs Villarreal</td>\n",
       "      <td>Villarreal</td>\n",
       "      <td>1</td>\n",
       "      <td>2003</td>\n",
       "      <td>0</td>\n",
       "      <td>0</td>\n",
       "      <td>1</td>\n",
       "      <td>42.0</td>\n",
       "      <td>1</td>\n",
       "    </tr>\n",
       "    <tr>\n",
       "      <th>2</th>\n",
       "      <td>2003/2004</td>\n",
       "      <td>La Liga (Matchweek 10)</td>\n",
       "      <td>Acta del Partido celebrado el 02 de noviembre ...</td>\n",
       "      <td>Espanyol vs Zaragoza</td>\n",
       "      <td>Espanyol</td>\n",
       "      <td>1</td>\n",
       "      <td>2003</td>\n",
       "      <td>1</td>\n",
       "      <td>1</td>\n",
       "      <td>0</td>\n",
       "      <td>14.0</td>\n",
       "      <td>10</td>\n",
       "    </tr>\n",
       "    <tr>\n",
       "      <th>3</th>\n",
       "      <td>2003/2004</td>\n",
       "      <td>La Liga (Matchweek 10)</td>\n",
       "      <td>Acta del Partido celebrado el 02 de noviembre ...</td>\n",
       "      <td>Real Sociedad vs Barcelona</td>\n",
       "      <td>Barcelona</td>\n",
       "      <td>1</td>\n",
       "      <td>2003</td>\n",
       "      <td>0</td>\n",
       "      <td>0</td>\n",
       "      <td>1</td>\n",
       "      <td>6.0</td>\n",
       "      <td>10</td>\n",
       "    </tr>\n",
       "    <tr>\n",
       "      <th>4</th>\n",
       "      <td>2003/2004</td>\n",
       "      <td>La Liga (Matchweek 11)</td>\n",
       "      <td>Acta del Partido celebrado el 09 de noviembre ...</td>\n",
       "      <td>Barcelona vs Betis</td>\n",
       "      <td>Betis</td>\n",
       "      <td>1</td>\n",
       "      <td>2003</td>\n",
       "      <td>0</td>\n",
       "      <td>0</td>\n",
       "      <td>1</td>\n",
       "      <td>7.0</td>\n",
       "      <td>11</td>\n",
       "    </tr>\n",
       "  </tbody>\n",
       "</table>\n",
       "</div>"
      ],
      "text/plain": [
       "      Season                 Jornada  \\\n",
       "0  2003/2004   La Liga (Matchweek 1)   \n",
       "1  2003/2004   La Liga (Matchweek 1)   \n",
       "2  2003/2004  La Liga (Matchweek 10)   \n",
       "3  2003/2004  La Liga (Matchweek 10)   \n",
       "4  2003/2004  La Liga (Matchweek 11)   \n",
       "\n",
       "                                                Acta  \\\n",
       "0  Acta del Partido celebrado el 30 de agosto de ...   \n",
       "1  Acta del Partido celebrado el 30 de agosto de ...   \n",
       "2  Acta del Partido celebrado el 02 de noviembre ...   \n",
       "3  Acta del Partido celebrado el 02 de noviembre ...   \n",
       "4  Acta del Partido celebrado el 09 de noviembre ...   \n",
       "\n",
       "                      Partido      Equipo  ExpJ  Year  Local  SecYCrdHOME  \\\n",
       "0        Málaga vs Villarreal      Málaga     1  2003      1            1   \n",
       "1        Málaga vs Villarreal  Villarreal     1  2003      0            0   \n",
       "2        Espanyol vs Zaragoza    Espanyol     1  2003      1            1   \n",
       "3  Real Sociedad vs Barcelona   Barcelona     1  2003      0            0   \n",
       "4          Barcelona vs Betis       Betis     1  2003      0            0   \n",
       "\n",
       "   SecYCrdAWAY  team  Matchweek  \n",
       "0            0  26.0          1  \n",
       "1            1  42.0          1  \n",
       "2            0  14.0         10  \n",
       "3            1   6.0         10  \n",
       "4            1   7.0         11  "
      ]
     },
     "execution_count": 36,
     "metadata": {},
     "output_type": "execute_result"
    }
   ],
   "source": [
    "rfef_cta.head()"
   ]
  },
  {
   "cell_type": "code",
   "execution_count": 37,
   "id": "15b613da",
   "metadata": {},
   "outputs": [
    {
     "data": {
      "text/plain": [
       "Index(['Season', 'Jornada', 'Acta', 'Partido', 'Equipo', 'ExpJ', 'Year',\n",
       "       'Local', 'SecYCrdHOME', 'SecYCrdAWAY', 'team', 'Matchweek'],\n",
       "      dtype='object')"
      ]
     },
     "execution_count": 37,
     "metadata": {},
     "output_type": "execute_result"
    }
   ],
   "source": [
    "rfef_cta.columns"
   ]
  },
  {
   "cell_type": "code",
   "execution_count": 39,
   "id": "7d0b5e74",
   "metadata": {},
   "outputs": [],
   "source": [
    "# Keep relevant columns\n",
    "rfef_cta = rfef_cta[['Year', 'Season', 'Matchweek', 'Partido', \n",
    "                             'Equipo', 'SecYCrdHOME', 'SecYCrdAWAY']]"
   ]
  },
  {
   "cell_type": "code",
   "execution_count": null,
   "id": "32c71e98",
   "metadata": {},
   "outputs": [],
   "source": [
    "rfef_cta.to_excel('lol.xlsx')"
   ]
  },
  {
   "cell_type": "code",
   "execution_count": null,
   "id": "23c84266",
   "metadata": {},
   "outputs": [],
   "source": [
    "# Save final output"
   ]
  }
 ],
 "metadata": {
  "kernelspec": {
   "display_name": "Python 3 (ipykernel)",
   "language": "python",
   "name": "python3"
  },
  "language_info": {
   "codemirror_mode": {
    "name": "ipython",
    "version": 3
   },
   "file_extension": ".py",
   "mimetype": "text/x-python",
   "name": "python",
   "nbconvert_exporter": "python",
   "pygments_lexer": "ipython3",
   "version": "3.10.9"
  }
 },
 "nbformat": 4,
 "nbformat_minor": 5
}
