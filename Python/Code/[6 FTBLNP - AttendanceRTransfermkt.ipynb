{
 "cells": [
  {
   "cell_type": "code",
   "execution_count": 3,
   "id": "0fb573d8",
   "metadata": {},
   "outputs": [],
   "source": [
    "# Import libraries\n",
    "import pandas as pd\n",
    "import os\n",
    "import numpy as np\n",
    "import math\n",
    "\n",
    "# Set working directory\n",
    "os.chdir('C:\\\\Users\\\\aaron\\\\Desktop\\\\GitHub\\\\Thesis\\\\Python')"
   ]
  },
  {
   "cell_type": "code",
   "execution_count": 16,
   "id": "b3893104",
   "metadata": {},
   "outputs": [
    {
     "data": {
      "text/plain": [
       "dict_keys([2001, 2002, 2003, 2004, 2005, 2006, 2007, 2008, 2009, 2010, 2011, 2012, 2013, 2014, 2015, 2016, 2017, 2018, 2019, 2020, 2021])"
      ]
     },
     "execution_count": 16,
     "metadata": {},
     "output_type": "execute_result"
    }
   ],
   "source": [
    "# Import data going through all the relevant sheets\n",
    "df = {\n",
    "    t: pd.read_excel('data\\FootballLineups\\Aux0102-1415.xlsx', sheet_name=f\"{t}{t+1}\")\n",
    "    .replace(f'/La-Liga-{t}--{t+1}/', '', regex = True)\n",
    "    .assign(Season = t)\n",
    "    for t in range(2001,2022)\n",
    "}\n",
    "\n",
    "df.keys()"
   ]
  },
  {
   "cell_type": "code",
   "execution_count": 17,
   "id": "892bc156",
   "metadata": {},
   "outputs": [],
   "source": [
    "# Concatenate all the keys in one dataframe and keep relevant obs\n",
    "AUXLINKS = pd.concat(df.values(), ignore_index=True)\n",
    "\n",
    "AUXLINKS = AUXLINKS[ (AUXLINKS['/'].str.contains('/match/')) | \n",
    "                    (AUXLINKS['/'].str.contains('/team/'))]"
   ]
  },
  {
   "cell_type": "code",
   "execution_count": 18,
   "id": "cca63bee",
   "metadata": {},
   "outputs": [],
   "source": [
    "# Clean observations\n",
    "AUXLINKS['/'] = AUXLINKS['/'].replace('/team/', '', regex = True)"
   ]
  },
  {
   "cell_type": "code",
   "execution_count": 19,
   "id": "fb7c6895",
   "metadata": {},
   "outputs": [
    {
     "data": {
      "text/html": [
       "<div>\n",
       "<style scoped>\n",
       "    .dataframe tbody tr th:only-of-type {\n",
       "        vertical-align: middle;\n",
       "    }\n",
       "\n",
       "    .dataframe tbody tr th {\n",
       "        vertical-align: top;\n",
       "    }\n",
       "\n",
       "    .dataframe thead th {\n",
       "        text-align: right;\n",
       "    }\n",
       "</style>\n",
       "<table border=\"1\" class=\"dataframe\">\n",
       "  <thead>\n",
       "    <tr style=\"text-align: right;\">\n",
       "      <th></th>\n",
       "      <th>hometeam</th>\n",
       "      <th>Season</th>\n",
       "      <th>index</th>\n",
       "      <th>awayteam</th>\n",
       "      <th>url</th>\n",
       "    </tr>\n",
       "  </thead>\n",
       "  <tbody>\n",
       "    <tr>\n",
       "      <th>19</th>\n",
       "      <td>Valencia</td>\n",
       "      <td>2001</td>\n",
       "      <td>NaN</td>\n",
       "      <td>/match/169492/</td>\n",
       "      <td>https://m.football-lineups.comReal-Zaragoza</td>\n",
       "    </tr>\n",
       "    <tr>\n",
       "      <th>21</th>\n",
       "      <td>Real-Zaragoza</td>\n",
       "      <td>2001</td>\n",
       "      <td>NaN</td>\n",
       "      <td>Barcelona</td>\n",
       "      <td>https://m.football-lineups.com/match/169492/</td>\n",
       "    </tr>\n",
       "    <tr>\n",
       "      <th>22</th>\n",
       "      <td>/match/169492/</td>\n",
       "      <td>2001</td>\n",
       "      <td>1.0</td>\n",
       "      <td>NaN</td>\n",
       "      <td>NaN</td>\n",
       "    </tr>\n",
       "    <tr>\n",
       "      <th>23</th>\n",
       "      <td>Barcelona</td>\n",
       "      <td>2001</td>\n",
       "      <td>2.0</td>\n",
       "      <td>NaN</td>\n",
       "      <td>NaN</td>\n",
       "    </tr>\n",
       "    <tr>\n",
       "      <th>25</th>\n",
       "      <td>Rayo-Vallecano</td>\n",
       "      <td>2001</td>\n",
       "      <td>NaN</td>\n",
       "      <td>Celta-Vigo</td>\n",
       "      <td>https://m.football-lineups.com/match/169493/</td>\n",
       "    </tr>\n",
       "  </tbody>\n",
       "</table>\n",
       "</div>"
      ],
      "text/plain": [
       "          hometeam  Season  index        awayteam  \\\n",
       "19        Valencia    2001    NaN  /match/169492/   \n",
       "21   Real-Zaragoza    2001    NaN       Barcelona   \n",
       "22  /match/169492/    2001    1.0             NaN   \n",
       "23       Barcelona    2001    2.0             NaN   \n",
       "25  Rayo-Vallecano    2001    NaN      Celta-Vigo   \n",
       "\n",
       "                                             url  \n",
       "19   https://m.football-lineups.comReal-Zaragoza  \n",
       "21  https://m.football-lineups.com/match/169492/  \n",
       "22                                           NaN  \n",
       "23                                           NaN  \n",
       "25  https://m.football-lineups.com/match/169493/  "
      ]
     },
     "execution_count": 19,
     "metadata": {},
     "output_type": "execute_result"
    }
   ],
   "source": [
    "# Define home and away teams variables\n",
    "AUXLINKS['index'] = np.where( (AUXLINKS['/'].str.contains('match') ), 1, float('nan') )\n",
    "AUXLINKS['index'] = np.where( (AUXLINKS['index'].shift(1) == 1 ), 2, AUXLINKS['index'])\n",
    "\n",
    "AUXLINKS = AUXLINKS.rename(columns = {'/' : 'hometeam'})\n",
    "\n",
    "AUXLINKS['awayteam'] = np.where(\n",
    "    (AUXLINKS['index'].isna()) & (~AUXLINKS['hometeam'].str.contains('match')),\n",
    "    AUXLINKS['hometeam'].shift(-2), \n",
    "    float('nan'))\n",
    "\n",
    "AUXLINKS['url'] = np.where(\n",
    "    AUXLINKS['index'].isna(),\n",
    "    'https://m.football-lineups.com' + AUXLINKS['hometeam'].shift(-1),\n",
    "    float('nan'))\n",
    "\n",
    "AUXLINKS.head()"
   ]
  },
  {
   "cell_type": "code",
   "execution_count": 6,
   "id": "6450b2dd",
   "metadata": {},
   "outputs": [
    {
     "data": {
      "text/html": [
       "<div>\n",
       "<style scoped>\n",
       "    .dataframe tbody tr th:only-of-type {\n",
       "        vertical-align: middle;\n",
       "    }\n",
       "\n",
       "    .dataframe tbody tr th {\n",
       "        vertical-align: top;\n",
       "    }\n",
       "\n",
       "    .dataframe thead th {\n",
       "        text-align: right;\n",
       "    }\n",
       "</style>\n",
       "<table border=\"1\" class=\"dataframe\">\n",
       "  <thead>\n",
       "    <tr style=\"text-align: right;\">\n",
       "      <th></th>\n",
       "      <th>hometeam</th>\n",
       "      <th>index</th>\n",
       "      <th>awayteam</th>\n",
       "      <th>url</th>\n",
       "    </tr>\n",
       "  </thead>\n",
       "  <tbody>\n",
       "    <tr>\n",
       "      <th>21</th>\n",
       "      <td>Real-Zaragoza</td>\n",
       "      <td>NaN</td>\n",
       "      <td>Barcelona</td>\n",
       "      <td>https://m.football-lineups.com/match/169492/</td>\n",
       "    </tr>\n",
       "    <tr>\n",
       "      <th>25</th>\n",
       "      <td>Rayo-Vallecano</td>\n",
       "      <td>NaN</td>\n",
       "      <td>Celta-Vigo</td>\n",
       "      <td>https://m.football-lineups.com/match/169493/</td>\n",
       "    </tr>\n",
       "    <tr>\n",
       "      <th>29</th>\n",
       "      <td>Osasuna</td>\n",
       "      <td>NaN</td>\n",
       "      <td>Alaves</td>\n",
       "      <td>https://m.football-lineups.com/match/169494/</td>\n",
       "    </tr>\n",
       "    <tr>\n",
       "      <th>33</th>\n",
       "      <td>Tenerife</td>\n",
       "      <td>NaN</td>\n",
       "      <td>Athletic-Bilbao</td>\n",
       "      <td>https://m.football-lineups.com/match/169495/</td>\n",
       "    </tr>\n",
       "    <tr>\n",
       "      <th>37</th>\n",
       "      <td>Real-Sociedad</td>\n",
       "      <td>NaN</td>\n",
       "      <td>UD-Las-Palmas</td>\n",
       "      <td>https://m.football-lineups.com/match/169496/</td>\n",
       "    </tr>\n",
       "  </tbody>\n",
       "</table>\n",
       "</div>"
      ],
      "text/plain": [
       "          hometeam  index         awayteam  \\\n",
       "21   Real-Zaragoza    NaN        Barcelona   \n",
       "25  Rayo-Vallecano    NaN       Celta-Vigo   \n",
       "29         Osasuna    NaN           Alaves   \n",
       "33        Tenerife    NaN  Athletic-Bilbao   \n",
       "37   Real-Sociedad    NaN    UD-Las-Palmas   \n",
       "\n",
       "                                             url  \n",
       "21  https://m.football-lineups.com/match/169492/  \n",
       "25  https://m.football-lineups.com/match/169493/  \n",
       "29  https://m.football-lineups.com/match/169494/  \n",
       "33  https://m.football-lineups.com/match/169495/  \n",
       "37  https://m.football-lineups.com/match/169496/  "
      ]
     },
     "execution_count": 6,
     "metadata": {},
     "output_type": "execute_result"
    }
   ],
   "source": [
    "# Keep relevant obs\n",
    "AUXLINKS = AUXLINKS[AUXLINKS['index'].isna()]\n",
    "AUXLINKS = AUXLINKS[~AUXLINKS['awayteam'].str.contains('match')]\n",
    "AUXLINKS.head()"
   ]
  },
  {
   "cell_type": "code",
   "execution_count": 7,
   "id": "c2ea2f3d",
   "metadata": {},
   "outputs": [],
   "source": [
    "AUXLINKS['match'] = AUXLINKS['hometeam'] + ' vs ' + AUXLINKS['awayteam']\n",
    "AUXLINKS = AUXLINKS.drop(['index'], axis = 1)"
   ]
  },
  {
   "cell_type": "code",
   "execution_count": 8,
   "id": "5194a511",
   "metadata": {},
   "outputs": [],
   "source": [
    "#SOLVE ERROR\n",
    "#AUXLINKS.to_excel('externaldata/FootballLineups/AUXLINKS.xlsx')"
   ]
  },
  {
   "cell_type": "markdown",
   "id": "61fd113f",
   "metadata": {},
   "source": [
    "# Football Lineup Data"
   ]
  },
  {
   "cell_type": "code",
   "execution_count": 9,
   "id": "1f117bb1",
   "metadata": {},
   "outputs": [
    {
     "data": {
      "text/plain": [
       "dict_keys([1, 2, 3, 4, 5, 6, 7, 8, 9, 10, 11, 12, 13, 14, 15, 16, 17, 18, 19, 20, 21, 22, 23, 24, 25, 26, 27, 28, 29, 30, 31, 32, 33, 34, 35, 36, 37, 38, 39, 40, 41, 42, 43, 44, 45, 46, 47, 48, 49, 50, 51, 52, 53, 54, 55, 56, 57, 58, 59, 60, 61, 62, 63, 64, 65, 66, 67, 68, 69, 70, 71, 72, 73, 74, 75, 76, 77, 78, 79, 80, 81, 82, 83, 84, 85, 86, 87, 88, 89, 90, 91, 92, 93, 94, 95, 96, 97, 98, 99, 100, 101])"
      ]
     },
     "execution_count": 9,
     "metadata": {},
     "output_type": "execute_result"
    }
   ],
   "source": [
    "# Import data going through all the relevant sheets\n",
    "df = {\n",
    "    t: pd.read_excel(os.path.join(r'data\\FootballLineups\\HACKIN', f'HACKIN{t}.xlsx'), sheet_name=0)\n",
    "    .rename(columns={'x1': 'X1', 'x2': 'X2', 'x3': 'X3'})\n",
    "    for t in range(1,102)\n",
    "}\n",
    "\n",
    "df.keys()"
   ]
  },
  {
   "cell_type": "code",
   "execution_count": 14,
   "id": "dd0b9943",
   "metadata": {},
   "outputs": [],
   "source": [
    "# Concatenate all the keys in one dataframe and keep relevant obs\n",
    "StatsFL = pd.concat(df.values(), ignore_index=True)\n",
    "\n",
    "# Keep relevant columns and obs\n",
    "StatsFL = StatsFL[StatsFL['Var.4'].isna()]\n",
    "StatsFL = StatsFL.drop(['Rate', 'Var.4'], axis = 1)\n",
    "\n",
    "# Rename variables\n",
    "StatsFL = StatsFL.rename(columns = {'X1' : 'Home_Team', 'X2' : 'Stats', 'X3' : 'Away_Team'})\n",
    "\n",
    "StatsFL.head()"
   ]
  },
  {
   "cell_type": "code",
   "execution_count": 15,
   "id": "cb2bd8e5",
   "metadata": {},
   "outputs": [
    {
     "data": {
      "text/html": [
       "<div>\n",
       "<style scoped>\n",
       "    .dataframe tbody tr th:only-of-type {\n",
       "        vertical-align: middle;\n",
       "    }\n",
       "\n",
       "    .dataframe tbody tr th {\n",
       "        vertical-align: top;\n",
       "    }\n",
       "\n",
       "    .dataframe thead th {\n",
       "        text-align: right;\n",
       "    }\n",
       "</style>\n",
       "<table border=\"1\" class=\"dataframe\">\n",
       "  <thead>\n",
       "    <tr style=\"text-align: right;\">\n",
       "      <th></th>\n",
       "      <th>Home_Team</th>\n",
       "      <th>Stats</th>\n",
       "      <th>Away_Team</th>\n",
       "      <th>url</th>\n",
       "    </tr>\n",
       "  </thead>\n",
       "  <tbody>\n",
       "    <tr>\n",
       "      <th>0</th>\n",
       "      <td>18</td>\n",
       "      <td>Shots</td>\n",
       "      <td>14</td>\n",
       "      <td>https://m.football-lineups.com/match/212868/</td>\n",
       "    </tr>\n",
       "    <tr>\n",
       "      <th>1</th>\n",
       "      <td>11</td>\n",
       "      <td>Shots on goal</td>\n",
       "      <td>6</td>\n",
       "      <td>https://m.football-lineups.com/match/212868/</td>\n",
       "    </tr>\n",
       "    <tr>\n",
       "      <th>2</th>\n",
       "      <td>12</td>\n",
       "      <td>Fouls</td>\n",
       "      <td>13</td>\n",
       "      <td>https://m.football-lineups.com/match/212868/</td>\n",
       "    </tr>\n",
       "    <tr>\n",
       "      <th>3</th>\n",
       "      <td>8</td>\n",
       "      <td>Corner Kicks</td>\n",
       "      <td>7</td>\n",
       "      <td>https://m.football-lineups.com/match/212868/</td>\n",
       "    </tr>\n",
       "    <tr>\n",
       "      <th>4</th>\n",
       "      <td>3</td>\n",
       "      <td>Offsides</td>\n",
       "      <td>1</td>\n",
       "      <td>https://m.football-lineups.com/match/212868/</td>\n",
       "    </tr>\n",
       "    <tr>\n",
       "      <th>...</th>\n",
       "      <td>...</td>\n",
       "      <td>...</td>\n",
       "      <td>...</td>\n",
       "      <td>...</td>\n",
       "    </tr>\n",
       "    <tr>\n",
       "      <th>39564</th>\n",
       "      <td>9</td>\n",
       "      <td>Shots on goal</td>\n",
       "      <td>2</td>\n",
       "      <td>https://m.football-lineups.com/match/390429/</td>\n",
       "    </tr>\n",
       "    <tr>\n",
       "      <th>39565</th>\n",
       "      <td>11</td>\n",
       "      <td>Fouls</td>\n",
       "      <td>9</td>\n",
       "      <td>https://m.football-lineups.com/match/390429/</td>\n",
       "    </tr>\n",
       "    <tr>\n",
       "      <th>39566</th>\n",
       "      <td>8</td>\n",
       "      <td>Corner Kicks</td>\n",
       "      <td>3</td>\n",
       "      <td>https://m.football-lineups.com/match/390429/</td>\n",
       "    </tr>\n",
       "    <tr>\n",
       "      <th>39567</th>\n",
       "      <td>2</td>\n",
       "      <td>Offsides</td>\n",
       "      <td>1</td>\n",
       "      <td>https://m.football-lineups.com/match/390429/</td>\n",
       "    </tr>\n",
       "    <tr>\n",
       "      <th>39568</th>\n",
       "      <td>59%</td>\n",
       "      <td>% possession</td>\n",
       "      <td>41%</td>\n",
       "      <td>https://m.football-lineups.com/match/390429/</td>\n",
       "    </tr>\n",
       "  </tbody>\n",
       "</table>\n",
       "<p>39556 rows × 4 columns</p>\n",
       "</div>"
      ],
      "text/plain": [
       "      Home_Team          Stats Away_Team  \\\n",
       "0            18          Shots        14   \n",
       "1            11  Shots on goal         6   \n",
       "2            12          Fouls        13   \n",
       "3             8   Corner Kicks         7   \n",
       "4             3       Offsides         1   \n",
       "...         ...            ...       ...   \n",
       "39564         9  Shots on goal         2   \n",
       "39565        11          Fouls         9   \n",
       "39566         8   Corner Kicks         3   \n",
       "39567         2       Offsides         1   \n",
       "39568       59%   % possession       41%   \n",
       "\n",
       "                                                url  \n",
       "0      https://m.football-lineups.com/match/212868/  \n",
       "1      https://m.football-lineups.com/match/212868/  \n",
       "2      https://m.football-lineups.com/match/212868/  \n",
       "3      https://m.football-lineups.com/match/212868/  \n",
       "4      https://m.football-lineups.com/match/212868/  \n",
       "...                                             ...  \n",
       "39564  https://m.football-lineups.com/match/390429/  \n",
       "39565  https://m.football-lineups.com/match/390429/  \n",
       "39566  https://m.football-lineups.com/match/390429/  \n",
       "39567  https://m.football-lineups.com/match/390429/  \n",
       "39568  https://m.football-lineups.com/match/390429/  \n",
       "\n",
       "[39556 rows x 4 columns]"
      ]
     },
     "execution_count": 15,
     "metadata": {},
     "output_type": "execute_result"
    }
   ],
   "source": [
    "# Merge with AUXLINKS data"
   ]
  },
  {
   "cell_type": "code",
   "execution_count": null,
   "id": "0d73f566",
   "metadata": {},
   "outputs": [],
   "source": [
    "# Keep relevant obs and clean data\n",
    "MergeFootballLineups = MergeFootballLineups[\n",
    "    MergeFootballLineups['Stats'] == 'Offsides' |\n",
    "    MergeFootballLineups['Stats'] == '% possession' |\n",
    "    MergeFootballLineups['Stats'] == 'Fouls']\n",
    "\n",
    "MergeFootballLineups['Stats'] = MergeFootballLineups['Stats'].str.replace(' ', '', regex = True)\n",
    "MergeFootballLineups['Stats'] = MergeFootballLineups['Stats'].str.replace('%', '', regex = True)"
   ]
  },
  {
   "cell_type": "code",
   "execution_count": null,
   "id": "94c58b58",
   "metadata": {},
   "outputs": [],
   "source": [
    "# Reshape data\n",
    "\n",
    "# Make proper replacements"
   ]
  },
  {
   "cell_type": "code",
   "execution_count": null,
   "id": "94f84a93",
   "metadata": {},
   "outputs": [],
   "source": [
    "# Drop obs\n",
    "MergeFootballLineups = MergeFootballLineups[(MergeFootballLineups['HomeFouls'].isna()) &\n",
    "                                            (MergeFootballLineups['AwayFouls'].isna()) &\n",
    "                                            (MergeFootballLineups['HomeOffsides'].isna()) &\n",
    "                                            (MergeFootballLineups['AwayOffsides'].isna())]\n",
    "\n",
    "# Define variables for fouls in favor\n",
    "MergeFootballLineups['HomeFld'] = MergeFootballLineups['AwayFouls']\n",
    "MergeFootballLineups['AwayFld'] = MergeFootballLineups['HomeFouls']"
   ]
  },
  {
   "cell_type": "code",
   "execution_count": null,
   "id": "4104a3fc",
   "metadata": {},
   "outputs": [],
   "source": [
    "# Adjusting for erros in the data\n",
    "\n",
    "# A list of dictionaries containing all your corrections\n",
    "match_corrections = [\n",
    "    {'match': 'Atlético Madrid vs Deportivo La Coruña', 'Season': '20052006', 'HomePoss': 53, 'AwayPoss': 47, 'HomeFoul': 25, 'AwayFoul': 26, 'HomeFld': 26, 'AwayFld': 25},\n",
    "    {'match': 'Atlético Madrid vs Sevilla', 'Season': '20052006', 'HomePoss': 68, 'AwayPoss': 32, 'HomeFoul': 13, 'AwayFoul': 13, 'HomeFld': 13, 'AwayFld': 13, 'HomeOff': 1, 'AwayOff': 3},\n",
    "    {'match': 'Zaragoza vs Real Madrid', 'Season': '20062007', 'HomePoss': 45, 'AwayPoss': 55, 'HomeOffsides': 4, 'AwayOffsides': 3},\n",
    "    {'match': 'Atlético Madrid vs Sevilla', 'Season': '20062007', 'HomePoss': 59, 'AwayPoss': 41, 'HomeFouls': 23, 'AwayFouls': 16, 'HomeFld': 16, 'AwayFld': 23, 'HomeOffsides': 0, 'AwayOffsides': 4},\n",
    "    {'match': 'Sevilla vs Levante', 'Season': '20062007', 'HomePoss': 59, 'AwayPoss': 41, 'HomeFoul': 18, 'AwayFoul': 25, 'HomeFld': 25, 'AwayFld': 18, 'HomeOff': 2, 'AwayOff': 4},\n",
    "    {'match': 'Sporting Gijón vs Barcelona', 'Season': '20082009', 'HomePoss': 32, 'AwayPoss': 68, 'HomeOffsides': 0, 'AwayOffsides': 0},\n",
    "    {'match': 'Tenerife vs Mallorca', 'Season': '20092010', 'HomePoss': 50, 'AwayPoss': 50},\n",
    "    {'match': 'Barcelona vs Real Sociedad', 'Season': '20102011', 'HomeFld': 9, 'AwayFld': 9, 'AwayOffsides': 6},\n",
    "    {'match': 'Rayo Vallecano vs Zaragoza', 'Season': '20112012', 'HomePoss': 61, 'AwayPoss': 39, 'HomeFouls': 19, 'AwayFouls': 14, 'HomeFld': 14, 'AwayFld': 19, 'HomeOffsides': 0, 'AwayOffsides': 4},\n",
    "    {'match': 'Valladolid vs Levante', 'Season': '20132014', 'HomePoss': 67, 'AwayPoss': 33, 'HomeFoul': 13, 'AwayFoul': 16, 'HomeFld': 16, 'AwayFld': 13},\n",
    "    {'match': 'Levante vs Elche', 'Season': '20132014', 'HomePoss': 46, 'AwayPoss': 54},\n",
    "    {'match': 'Real Murcia vs Athletic Club', 'Season': '20072008', 'HomePoss': 55, 'AwayPoss': 45, 'HomeFouls': 20, 'AwayFouls': 13, 'HomeFld': 13, 'AwayFld': 20, 'HomeOffsides': 6, 'AwayOffsides': 3},\n",
    "    {'match': 'Real Murcia vs Mallorca', 'Season': '20072008', 'HomePoss': 56, 'AwayPoss': 44, 'HomeFouls': 19, 'AwayFouls': 18, 'HomeFld': 18, 'AwayFld': 19, 'HomeOffsides': 4, 'AwayOffsides': 5},\n",
    "    {'match': 'Sevilla vs Valladolid', 'Season': '20072008', 'HomePoss': 46, 'AwayPoss': 54, 'HomeFouls': 16, 'AwayFouls': 13, 'HomeFld': 13, 'AwayFld': 16, 'HomeOffsides': 6, 'AwayOffsides': 2},\n",
    "    {'match': 'Espanyol vs Real Murcia', 'Season': '20072008', 'HomePoss': 63, 'AwayPoss': 37, 'HomeFouls': 21, 'AwayFouls': 20, 'HomeFld': 20, 'AwayFld': 21, 'HomeOffsides': 5, 'AwayOffsides': 4},\n",
    "]\n",
    "\n",
    "# Create a corrections DataFrame from the list\n",
    "corrections_df = pd.DataFrame(match_corrections)\n",
    "\n",
    "# Apply corrections\n",
    "#MISSING XXXXX"
   ]
  },
  {
   "cell_type": "code",
   "execution_count": 20,
   "id": "65608338",
   "metadata": {},
   "outputs": [],
   "source": [
    "# Adjusting for Missing Values\n",
    "manual_insert = {\n",
    "    'Season': [\n",
    "        'Temporada 2006/2007', 'Temporada 2006/2007', 'Temporada 2006/2007', 'Temporada 2006/2007',\n",
    "        'Temporada 2006/2007', 'Temporada 2006/2007', 'Temporada 2006/2007', 'Temporada 2009/2010',\n",
    "        'Temporada 2009/2010', 'Temporada 2013/2014'\n",
    "    ],\n",
    "    'hometeam': [\n",
    "        'Valencia', 'Gimnàstic', 'Real Sociedad', 'Sevilla',\n",
    "        'Sevilla', 'Villarreal', 'Atlético Madrid', 'Barcelona',\n",
    "        'Racing Santander', 'Granada'\n",
    "    ],\n",
    "    'awayteam': [\n",
    "        'Real Sociedad', 'Villarreal', 'Sevilla', 'Betis',\n",
    "        'Getafe', 'Sevilla', 'Racing Santander', 'Almería',\n",
    "        'Deportivo La Coruña', 'Celta Vigo'\n",
    "    ],\n",
    "    'match': [\n",
    "        'Valencia vs Real Sociedad', 'Gimnàstic vs Villarreal', 'Real Sociedad vs Sevilla', 'Sevilla vs Betis',\n",
    "        'Sevilla vs Getafe', 'Villarreal vs Sevilla', 'Atlético Madrid vs Racing Santander', 'Barcelona vs Almería',\n",
    "        'Racing Santander vs Deportivo La Coruña', 'Granada vs Celta Vigo'\n",
    "    ],\n",
    "    \n",
    "    'homePossession': [53, 61, 47, 51, 50, 52, 66, 73, 51, 49],\n",
    "    'AwayPossession': [47, 39, 53, 49, 50, 48, 34, 27, 49, 51],\n",
    "    'HomeFouls': [19, 21, 20, 29, 16, 28, 18, 18, 18, 10],\n",
    "    'AwayFouls': [19, 14, 16, 24, 19, 18, 24, 14, 12, 14],\n",
    "    'HomeFld': [19, 14, 16, 24, 19, 18, 24, 14, 12, 14],\n",
    "    'AwayFld': [19, 21, 20, 29, 16, 28, 18, 18, 18, 10],\n",
    "    'HomeOffsides': [4, 1, 3, 1, 4, 3, 4, 3, 0, 1],\n",
    "    'AwayOffsides': [2, 0, 2, 1, 4, 1, 3, 3, 2, 2],\n",
    "    'url': [''] * 10\n",
    "}\n",
    "\n",
    "\n",
    "df = pd.DataFrame(manual_insert)\n",
    "\n",
    "\n",
    "#Merge with original data here XXXXX\n",
    "\n",
    "MergeFootballLineups['HomeOffsides'] = np.where(MergeFootballLineups['url'] == \"https://m.football-lineups.com/match/64162/\",\n",
    "                                               0, MergeFootballLineups['HomeOffsides'])\n",
    "MergeFootballLineups['AwayOffsides'] = np.where(MergeFootballLineups['url'] == \"https://m.football-lineups.com/match/64162/\",\n",
    "                                               2, MergeFootballLineups['AwayOffsides'])\n",
    "\n",
    "# Drop duplicates XXX\n",
    "# first check if there's any\n"
   ]
  },
  {
   "cell_type": "code",
   "execution_count": 1,
   "id": "90b00955",
   "metadata": {},
   "outputs": [
    {
     "ename": "NameError",
     "evalue": "name 'missed' is not defined",
     "output_type": "error",
     "traceback": [
      "\u001b[1;31m---------------------------------------------------------------------------\u001b[0m",
      "\u001b[1;31mNameError\u001b[0m                                 Traceback (most recent call last)",
      "Cell \u001b[1;32mIn[1], line 17\u001b[0m\n\u001b[0;32m     14\u001b[0m             df[\u001b[38;5;28mvars\u001b[39m] \u001b[38;5;241m=\u001b[39m df[\u001b[38;5;28mvars\u001b[39m]\u001b[38;5;241m.\u001b[39mstr\u001b[38;5;241m.\u001b[39mreplace(old_value, new_value, regex \u001b[38;5;241m=\u001b[39m \u001b[38;5;28;01mTrue\u001b[39;00m)\n\u001b[0;32m     16\u001b[0m \u001b[38;5;66;03m# Apply the function\u001b[39;00m\n\u001b[1;32m---> 17\u001b[0m standard_teams(\u001b[43mmissed\u001b[49m)\n",
      "\u001b[1;31mNameError\u001b[0m: name 'missed' is not defined"
     ]
    }
   ],
   "source": [
    "# Adjust Season obs\n",
    "def standard_teams(df):\n",
    "    replacements = {\n",
    "        '20042005' : '0405', '20052006' : '0506',\n",
    "        '20062007' : '0607', '20072008' : '0708',\n",
    "        '20082009' : '0809', '20092010' : '0910',\n",
    "        '20102011' : '1011', '20112012' : '1112',\n",
    "        '20122013' : '1213', '20132014' : '1314',\n",
    "        '20142015' : '1415'\n",
    "    }\n",
    "    \n",
    "    for old_value, new_value in replacements.items():\n",
    "        df['Season'] = df['Season'].str.replace(old_value, new_value, regex = True)\n",
    "\n",
    "# Apply the function\n",
    "#standard_teams()\n",
    "\n",
    "# Adjust the Missing\n",
    "MergeFootballLineups['HomeFouls'] = np.where((MergeFootballLineups['HomeFld'] == 0) &\n",
    "                                    (MergeFootballLineups['AwayFld'] == 0), \n",
    "                                    float('nan'), MergeFootballLineups['HomeFouls'])\n",
    "\n",
    "MergeFootballLineups['AwayFouls'] = np.where((MergeFootballLineups['HomeFld'] == 0) &\n",
    "                                    (MergeFootballLineups['AwayFld'] == 0), \n",
    "                                    float('nan'), MergeFootballLineups['AwayFouls'])\n",
    "\n",
    "MergeFootballLineups['HomeFld'] = np.where((MergeFootballLineups['HomeFouls'].isna()) &\n",
    "                                    (MergeFootballLineups['AwayFouls'].isna()), \n",
    "                                    float('nan'), MergeFootballLineups['HomeFld'])\n",
    "\n",
    "MergeFootballLineups['AwayFld'] = np.where((MergeFootballLineups['HomeFouls'].isna()) &\n",
    "                                    (MergeFootballLineups['AwayFouls'].isna()), \n",
    "                                    float('nan'), MergeFootballLineups['AwayFld'])\n",
    "\n",
    "\n",
    "MergeFootballLineups = MergeFootballLineups.rename(columns = {'match' : 'Partido'})\n",
    "\n",
    "\n",
    "variables = ['hometeam', 'awayteam', 'Partido'] \n",
    "for vars in variables:\n",
    "    MergeFootballLineups[vars] = MergeFootballLineups[vars].str.replace('Betis', 'Real Betis')"
   ]
  },
  {
   "cell_type": "markdown",
   "id": "1c11d941",
   "metadata": {},
   "source": [
    "# Attendance R Transfermkt "
   ]
  },
  {
   "cell_type": "code",
   "execution_count": 81,
   "id": "3c639e91",
   "metadata": {},
   "outputs": [
    {
     "name": "stdout",
     "output_type": "stream",
     "text": [
      "dict_keys([1998, 1999, 2000, 2001, 2002, 2003, 2004, 2005, 2006, 2007, 2008, 2009, 2010, 2011, 2012, 2013, 2014, 2015, 2016, 2017, 2018, 2019, 2020, 2021])\n"
     ]
    }
   ],
   "source": [
    "# Import data going through all the relevant sheets\n",
    "df = {\n",
    "    t: pd.read_csv(os.path.join(r'data\\FootballLineups\\HACKIN\\TEAMS - ATTENDANCE', f'Teams{t}.csv'))\n",
    "    .assign(Year = t)\n",
    "\n",
    "    for t in range(1998, 2022)\n",
    "}\n",
    "\n",
    "print(df.keys())\n",
    "\n",
    "# Concatenate all the keys in one dataframe and keep relevant obs\n",
    "AttendanceTeams = pd.concat(df.values(), ignore_index=True)"
   ]
  },
  {
   "cell_type": "code",
   "execution_count": 84,
   "id": "6c448fa3",
   "metadata": {},
   "outputs": [
    {
     "ename": "KeyError",
     "evalue": "'value'",
     "output_type": "error",
     "traceback": [
      "\u001b[1;31m---------------------------------------------------------------------------\u001b[0m",
      "\u001b[1;31mKeyError\u001b[0m                                  Traceback (most recent call last)",
      "File \u001b[1;32m~\\anaconda3\\lib\\site-packages\\pandas\\core\\indexes\\base.py:3802\u001b[0m, in \u001b[0;36mIndex.get_loc\u001b[1;34m(self, key, method, tolerance)\u001b[0m\n\u001b[0;32m   3801\u001b[0m \u001b[38;5;28;01mtry\u001b[39;00m:\n\u001b[1;32m-> 3802\u001b[0m     \u001b[38;5;28;01mreturn\u001b[39;00m \u001b[38;5;28;43mself\u001b[39;49m\u001b[38;5;241;43m.\u001b[39;49m\u001b[43m_engine\u001b[49m\u001b[38;5;241;43m.\u001b[39;49m\u001b[43mget_loc\u001b[49m\u001b[43m(\u001b[49m\u001b[43mcasted_key\u001b[49m\u001b[43m)\u001b[49m\n\u001b[0;32m   3803\u001b[0m \u001b[38;5;28;01mexcept\u001b[39;00m \u001b[38;5;167;01mKeyError\u001b[39;00m \u001b[38;5;28;01mas\u001b[39;00m err:\n",
      "File \u001b[1;32m~\\anaconda3\\lib\\site-packages\\pandas\\_libs\\index.pyx:138\u001b[0m, in \u001b[0;36mpandas._libs.index.IndexEngine.get_loc\u001b[1;34m()\u001b[0m\n",
      "File \u001b[1;32m~\\anaconda3\\lib\\site-packages\\pandas\\_libs\\index.pyx:165\u001b[0m, in \u001b[0;36mpandas._libs.index.IndexEngine.get_loc\u001b[1;34m()\u001b[0m\n",
      "File \u001b[1;32mpandas\\_libs\\hashtable_class_helper.pxi:5745\u001b[0m, in \u001b[0;36mpandas._libs.hashtable.PyObjectHashTable.get_item\u001b[1;34m()\u001b[0m\n",
      "File \u001b[1;32mpandas\\_libs\\hashtable_class_helper.pxi:5753\u001b[0m, in \u001b[0;36mpandas._libs.hashtable.PyObjectHashTable.get_item\u001b[1;34m()\u001b[0m\n",
      "\u001b[1;31mKeyError\u001b[0m: 'value'",
      "\nThe above exception was the direct cause of the following exception:\n",
      "\u001b[1;31mKeyError\u001b[0m                                  Traceback (most recent call last)",
      "Cell \u001b[1;32mIn[84], line 1\u001b[0m\n\u001b[1;32m----> 1\u001b[0m AttendanceTeams[\u001b[38;5;124m'\u001b[39m\u001b[38;5;124mvalue\u001b[39m\u001b[38;5;124m'\u001b[39m] \u001b[38;5;241m=\u001b[39m \u001b[43mAttendanceTeams\u001b[49m\u001b[43m[\u001b[49m\u001b[38;5;124;43m'\u001b[39;49m\u001b[38;5;124;43mvalue\u001b[39;49m\u001b[38;5;124;43m'\u001b[39;49m\u001b[43m]\u001b[49m\u001b[38;5;241m.\u001b[39mstr\u001b[38;5;241m.\u001b[39mreplace(\u001b[38;5;124m'\u001b[39m\u001b[38;5;130;01m\\t\u001b[39;00m\u001b[38;5;124m'\u001b[39m, \u001b[38;5;124m'\u001b[39m\u001b[38;5;124m'\u001b[39m)\n\u001b[0;32m      2\u001b[0m AttendanceTeams[\u001b[38;5;124m'\u001b[39m\u001b[38;5;124mvalue\u001b[39m\u001b[38;5;124m'\u001b[39m] \u001b[38;5;241m=\u001b[39m AttendanceTeams[\u001b[38;5;124m'\u001b[39m\u001b[38;5;124mvalue\u001b[39m\u001b[38;5;124m'\u001b[39m]\u001b[38;5;241m.\u001b[39mstr\u001b[38;5;241m.\u001b[39mreplace(\u001b[38;5;124m'\u001b[39m\u001b[38;5;130;01m\\n\u001b[39;00m\u001b[38;5;124m'\u001b[39m, \u001b[38;5;124m'\u001b[39m\u001b[38;5;124m'\u001b[39m)\n\u001b[0;32m      3\u001b[0m AttendanceTeams[\u001b[38;5;124m'\u001b[39m\u001b[38;5;124mvalue\u001b[39m\u001b[38;5;124m'\u001b[39m] \u001b[38;5;241m=\u001b[39m AttendanceTeams[\u001b[38;5;124m'\u001b[39m\u001b[38;5;124mvalue\u001b[39m\u001b[38;5;124m'\u001b[39m]\u001b[38;5;241m.\u001b[39mstr\u001b[38;5;241m.\u001b[39mreplace(\u001b[38;5;124m'\u001b[39m\u001b[38;5;130;01m\\r\u001b[39;00m\u001b[38;5;124m'\u001b[39m, \u001b[38;5;124m'\u001b[39m\u001b[38;5;124m'\u001b[39m)\n",
      "File \u001b[1;32m~\\anaconda3\\lib\\site-packages\\pandas\\core\\frame.py:3807\u001b[0m, in \u001b[0;36mDataFrame.__getitem__\u001b[1;34m(self, key)\u001b[0m\n\u001b[0;32m   3805\u001b[0m \u001b[38;5;28;01mif\u001b[39;00m \u001b[38;5;28mself\u001b[39m\u001b[38;5;241m.\u001b[39mcolumns\u001b[38;5;241m.\u001b[39mnlevels \u001b[38;5;241m>\u001b[39m \u001b[38;5;241m1\u001b[39m:\n\u001b[0;32m   3806\u001b[0m     \u001b[38;5;28;01mreturn\u001b[39;00m \u001b[38;5;28mself\u001b[39m\u001b[38;5;241m.\u001b[39m_getitem_multilevel(key)\n\u001b[1;32m-> 3807\u001b[0m indexer \u001b[38;5;241m=\u001b[39m \u001b[38;5;28;43mself\u001b[39;49m\u001b[38;5;241;43m.\u001b[39;49m\u001b[43mcolumns\u001b[49m\u001b[38;5;241;43m.\u001b[39;49m\u001b[43mget_loc\u001b[49m\u001b[43m(\u001b[49m\u001b[43mkey\u001b[49m\u001b[43m)\u001b[49m\n\u001b[0;32m   3808\u001b[0m \u001b[38;5;28;01mif\u001b[39;00m is_integer(indexer):\n\u001b[0;32m   3809\u001b[0m     indexer \u001b[38;5;241m=\u001b[39m [indexer]\n",
      "File \u001b[1;32m~\\anaconda3\\lib\\site-packages\\pandas\\core\\indexes\\base.py:3804\u001b[0m, in \u001b[0;36mIndex.get_loc\u001b[1;34m(self, key, method, tolerance)\u001b[0m\n\u001b[0;32m   3802\u001b[0m     \u001b[38;5;28;01mreturn\u001b[39;00m \u001b[38;5;28mself\u001b[39m\u001b[38;5;241m.\u001b[39m_engine\u001b[38;5;241m.\u001b[39mget_loc(casted_key)\n\u001b[0;32m   3803\u001b[0m \u001b[38;5;28;01mexcept\u001b[39;00m \u001b[38;5;167;01mKeyError\u001b[39;00m \u001b[38;5;28;01mas\u001b[39;00m err:\n\u001b[1;32m-> 3804\u001b[0m     \u001b[38;5;28;01mraise\u001b[39;00m \u001b[38;5;167;01mKeyError\u001b[39;00m(key) \u001b[38;5;28;01mfrom\u001b[39;00m \u001b[38;5;21;01merr\u001b[39;00m\n\u001b[0;32m   3805\u001b[0m \u001b[38;5;28;01mexcept\u001b[39;00m \u001b[38;5;167;01mTypeError\u001b[39;00m:\n\u001b[0;32m   3806\u001b[0m     \u001b[38;5;66;03m# If we have a listlike key, _check_indexing_error will raise\u001b[39;00m\n\u001b[0;32m   3807\u001b[0m     \u001b[38;5;66;03m#  InvalidIndexError. Otherwise we fall through and re-raise\u001b[39;00m\n\u001b[0;32m   3808\u001b[0m     \u001b[38;5;66;03m#  the TypeError.\u001b[39;00m\n\u001b[0;32m   3809\u001b[0m     \u001b[38;5;28mself\u001b[39m\u001b[38;5;241m.\u001b[39m_check_indexing_error(key)\n",
      "\u001b[1;31mKeyError\u001b[0m: 'value'"
     ]
    }
   ],
   "source": [
    "# Clean Observations\n",
    "AttendanceTeams['value'] = AttendanceTeams['value'].str.replace('\\t', '')\n",
    "AttendanceTeams['value'] = AttendanceTeams['value'].str.replace('\\n', '')\n",
    "AttendanceTeams['value'] = AttendanceTeams['value'].str.replace('\\r', '')\n",
    "\n",
    "AttendanceTeams = AttendanceTeams.rename(columns = {'value' : 'hometeam'})\n",
    "\n",
    "AttendanceTeams['Jornada'] = AttendanceTeams['url'].str[-3:]\n",
    "AttendanceTeams['Jornada'] = AttendanceTeams['Jornada'].str.replace('g=', '', regex = True)\n",
    "AttendanceTeams['Jornada'] = AttendanceTeams['Jornada'].str.replace('=', '', regex = True)\n",
    "\n",
    "parenthesis1 = '('\n",
    "parenthesis2 = ')'\n",
    "\n",
    "AttendanceTeams['hometeam'] = AttendanceTeams['hometeam'].str.replace(parenthesis1, '', regex = True)\n",
    "AttendanceTeams['hometeam'] = AttendanceTeams['hometeam'].str.replace(parenthesis2, '', regex = True)\n",
    "AttendanceTeams['hometeam'] = AttendanceTeams['hometeam'].str.replace('.', '', regex = True)\n",
    "AttendanceTeams['hometeam'] = AttendanceTeams['hometeam'].str.replace('\\xa0', '', regex = True)\n",
    "\n",
    "AttendanceTeams['hometeam'] = AttendanceTeams['hometeam'].str.replace(r'\\d+', '', regex=True)\n",
    "\n",
    "AttendanceTeams.head()"
   ]
  },
  {
   "cell_type": "code",
   "execution_count": 83,
   "id": "709a4faf",
   "metadata": {},
   "outputs": [
    {
     "data": {
      "text/plain": [
       "array(['Alavés', 'Valencia', 'Celta de Vigo', 'Real Sociedad', 'Espanyol',\n",
       "       'UD Salamanca', 'Extremadura', 'Real Zaragoza', 'Racing',\n",
       "       'Real Madrid', 'Atlético Madrid', 'Real Valladolid', 'Athletic',\n",
       "       'Barcelona', 'Dep La Coruña', 'Villarreal', 'CD Tenerife',\n",
       "       'Real Betis', 'Real Oviedo', 'RCD Mallorca', 'Málaga CF',\n",
       "       'Sevilla FC', 'CD Numancia', 'Rayo Vallecano', 'CA Osasuna',\n",
       "       'UD Las Palmas', 'Recr Huelva', 'Albacete', 'Real Murcia',\n",
       "       'Levante', 'Getafe', 'Cádiz CF', 'Gimnàstic', 'UD Almería',\n",
       "       'Sporting Gijón', 'Xerez CD', 'Hércules CF', 'Granada CF',\n",
       "       'Elche CF', 'SD Eibar', 'Córdoba CF', 'CD Leganés', 'Girona',\n",
       "       'SD Huesca'], dtype=object)"
      ]
     },
     "execution_count": 83,
     "metadata": {},
     "output_type": "execute_result"
    }
   ],
   "source": [
    "AttendanceTeams['hometeam'].unique()"
   ]
  },
  {
   "cell_type": "code",
   "execution_count": 21,
   "id": "9c17738f",
   "metadata": {},
   "outputs": [],
   "source": [
    "AttendanceTeams"
   ]
  },
  {
   "cell_type": "code",
   "execution_count": null,
   "id": "b95bd66d",
   "metadata": {},
   "outputs": [],
   "source": []
  },
  {
   "cell_type": "code",
   "execution_count": 13,
   "id": "cb6d1763",
   "metadata": {},
   "outputs": [
    {
     "ename": "NameError",
     "evalue": "name 'xxx' is not defined",
     "output_type": "error",
     "traceback": [
      "\u001b[1;31m---------------------------------------------------------------------------\u001b[0m",
      "\u001b[1;31mNameError\u001b[0m                                 Traceback (most recent call last)",
      "Cell \u001b[1;32mIn[13], line 1\u001b[0m\n\u001b[1;32m----> 1\u001b[0m \u001b[43mxxx\u001b[49m\n\u001b[0;32m      2\u001b[0m \u001b[38;5;28;01mdef\u001b[39;00m \u001b[38;5;21mstandard_teams\u001b[39m(df):\n\u001b[0;32m      3\u001b[0m     replacements \u001b[38;5;241m=\u001b[39m {\n\u001b[0;32m      4\u001b[0m         \u001b[38;5;124m'\u001b[39m\u001b[38;5;124mAlmeria\u001b[39m\u001b[38;5;124m'\u001b[39m : \u001b[38;5;124m'\u001b[39m\u001b[38;5;124mAlmería\u001b[39m\u001b[38;5;124m'\u001b[39m, \u001b[38;5;124m'\u001b[39m\u001b[38;5;124mAthletic\u001b[39m\u001b[38;5;124m'\u001b[39m : \u001b[38;5;124m'\u001b[39m\u001b[38;5;124mAthletic Club\u001b[39m\u001b[38;5;124m'\u001b[39m, \n\u001b[0;32m      5\u001b[0m         \u001b[38;5;124m'\u001b[39m\u001b[38;5;124mCA Osasuna\u001b[39m\u001b[38;5;124m'\u001b[39m : \u001b[38;5;124m'\u001b[39m\u001b[38;5;124mOsasuna\u001b[39m\u001b[38;5;124m'\u001b[39m, \u001b[38;5;124m'\u001b[39m\u001b[38;5;124mCádiz CF\u001b[39m\u001b[38;5;124m'\u001b[39m : \u001b[38;5;124m'\u001b[39m\u001b[38;5;124mCádiz\u001b[39m\u001b[38;5;124m'\u001b[39m, \n\u001b[1;32m   (...)\u001b[0m\n\u001b[0;32m     16\u001b[0m         \u001b[38;5;124m'\u001b[39m\u001b[38;5;124mXerez CD\u001b[39m\u001b[38;5;124m'\u001b[39m : \u001b[38;5;124m'\u001b[39m\u001b[38;5;124mXerez\u001b[39m\u001b[38;5;124m'\u001b[39m, \u001b[38;5;124m'\u001b[39m\u001b[38;5;124mGranada CF\u001b[39m\u001b[38;5;124m'\u001b[39m : \u001b[38;5;124m'\u001b[39m\u001b[38;5;124mGranada\u001b[39m\u001b[38;5;124m'\u001b[39m\n\u001b[0;32m     17\u001b[0m     }\n",
      "\u001b[1;31mNameError\u001b[0m: name 'xxx' is not defined"
     ]
    }
   ],
   "source": [
    "xxx\n",
    "def standard_teams(df):\n",
    "    replacements = {\n",
    "        'Almeria' : 'Almería', 'Athletic' : 'Athletic Club', \n",
    "        'CA Osasuna' : 'Osasuna', 'Cádiz CF' : 'Cádiz', \n",
    "        'Celta de Vigo' : 'Celta Vigo', 'Córdoba CF' : 'Córdoba', \n",
    "        'Hércules CF' : 'Hércules', 'Dep. La Coruña' : 'Deportivo La Coruña', \n",
    "        'Málaga CF' : 'Málaga', 'Racing' : 'Racing Santander', \n",
    "        'Sp Gijon' : 'Sporting Gijón', 'Villareal' : 'Villarreal', \n",
    "        'CD Leganés' : 'Leganés', 'CD Numancia' : 'Numancia', \n",
    "        'CD Tenerife' : 'Tenerife', 'Elche CF' : 'Elche', \n",
    "        'RCD Mallorca' : 'Mallorca', 'Real Betis' : 'Betis', \n",
    "        'Real Oviedo' : 'Oviedo', 'Real Valladolid' : 'Valladolid', \n",
    "        'Real Zaragoza' : 'Zaragoza', 'Recr. Huelva' : 'Recreativo', \n",
    "        'SD ' : '', 'Sevilla FC' : 'Sevilla', 'UD ' : '', \n",
    "        'Xerez CD' : 'Xerez', 'Granada CF' : 'Granada'\n",
    "    }\n",
    "    \n",
    "    variables = ['Home_Team', 'Away_Team', 'PenaltyTaker', 'PenaltyConc']\n",
    "    for vars in variables:\n",
    "        for old_value, new_value in replacements.items():\n",
    "            df[vars] = df[vars].str.replace(old_value, new_value, regex = True)\n",
    "\n",
    "# Apply the function\n",
    "standard_teams(missed)"
   ]
  }
 ],
 "metadata": {
  "kernelspec": {
   "display_name": "Python 3 (ipykernel)",
   "language": "python",
   "name": "python3"
  },
  "language_info": {
   "codemirror_mode": {
    "name": "ipython",
    "version": 3
   },
   "file_extension": ".py",
   "mimetype": "text/x-python",
   "name": "python",
   "nbconvert_exporter": "python",
   "pygments_lexer": "ipython3",
   "version": "3.10.9"
  }
 },
 "nbformat": 4,
 "nbformat_minor": 5
}
