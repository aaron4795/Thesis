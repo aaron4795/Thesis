{
 "cells": [
  {
   "cell_type": "code",
   "execution_count": 1,
   "id": "bd801fe5",
   "metadata": {},
   "outputs": [],
   "source": [
    "# Import libraries\n",
    "import pandas as pd\n",
    "import os\n",
    "import numpy as np\n",
    "import warnings\n",
    "warnings.filterwarnings(\"ignore\")\n",
    "\n",
    "# Set working directory\n",
    "os.chdir('C:\\\\Users\\\\aaron\\\\Desktop\\\\GitHub\\\\Thesis\\\\Python')"
   ]
  },
  {
   "cell_type": "code",
   "execution_count": 2,
   "id": "1507a74b",
   "metadata": {},
   "outputs": [],
   "source": [
    "time = ['9899', '9900', '0001', '0102', '0203', '0304', '0405', '0506',\n",
    "        '0607', '0708', '0809', '0910', '1011', '1112', '1213', '1314',\n",
    "        '1415', '1516', '1617', '1718', '1819', '1920', '2021', '2122']\n",
    "\n",
    "# Define the columns for newer and older seasons\n",
    "new_season_cols = ['index', 'Matchweek', 'Home_Team', 'Away_Team', 'Home_Score', 'Away_Score',\n",
    "                   'Home_Yellow_Cards', 'Home_Red_Cards', 'Away_Yellow_Cards', 'Away_Red_Cards',\n",
    "                   'Team', 'Home_Away', 'Gls', 'PK', 'PKatt', 'CrdY', 'CrdR']\n",
    "\n",
    "old_season_cols = new_season_cols + ['Fls', 'Fld', 'Off']\n",
    "\n",
    "# Define seasons with different columns\n",
    "new_seasons = {'1718', '1819', '1920', '2021', '2122'}\n",
    "\n",
    "# Loop through seasons and process the files\n",
    "summ = {\n",
    "    t: pd.read_excel(os.path.join(r'data\\FBREF\\summary', f\"sum{t}.xlsx\"), sheet_name=0)\n",
    "    .rename(columns={'Unnamed: 0': 'index'})\n",
    "    .filter(items=new_season_cols if t in new_seasons else old_season_cols)\n",
    "    .assign(Season=t, Partido=lambda df: df['Home_Team'] + \" vs \" + df['Away_Team'])\n",
    "\n",
    "    for t in time\n",
    "}\n",
    "\n",
    "# Concatenate all dataframes\n",
    "summary = pd.concat(summ.values(), ignore_index=True)"
   ]
  },
  {
   "cell_type": "code",
   "execution_count": 3,
   "id": "6f663cd1",
   "metadata": {},
   "outputs": [],
   "source": [
    "# Define the columns for newer and older seasons\n",
    "posscols = ['Matchweek', 'Home_Team', 'Away_Team', 'Team', 'Home_Away', 'Touches_Touches', 'DefPen_Touches']\n",
    "\n",
    "t2 = {'1718', '1819', '1920', '2021', '2122'}\n",
    "\n",
    "# Loop through seasons and process the files\n",
    "poss = {\n",
    "    t: pd.read_excel(os.path.join(r'data\\FBREF\\possession', f\"poss{t}.xlsx\"), sheet_name=0)\n",
    "    .rename(columns={'Unnamed: 0': 'index'})\n",
    "    .filter(items=posscols)\n",
    "    .assign(Season=t, Partido=lambda df: df['Home_Team'] + \" vs \" + df['Away_Team'])\n",
    "\n",
    "    for t in t2\n",
    "}\n",
    "\n",
    "# Concatenate all dataframes\n",
    "possession = pd.concat(poss.values(), ignore_index=True)"
   ]
  },
  {
   "cell_type": "code",
   "execution_count": 4,
   "id": "b20bc67a",
   "metadata": {},
   "outputs": [],
   "source": [
    "# Define the columns for newer and older seasons\n",
    "misccols = ['Matchweek', 'Home_Team', 'Away_Team', 'Team', 'Home_Away', 'PKwon', 'PKcon']\n",
    "\n",
    "# Loop through seasons and process the files\n",
    "misc = {\n",
    "    t: pd.read_excel(os.path.join(r'data\\FBREF\\misc', f\"dfmisc{t}.xlsx\"), sheet_name=0)\n",
    "    .rename(columns={'Unnamed: 0': 'index'})\n",
    "    .filter(items=misccols)\n",
    "    .assign(Season=t, Partido=lambda df: df['Home_Team'] + \" vs \" + df['Away_Team'])\n",
    "\n",
    "    for t in t2\n",
    "}\n",
    "\n",
    "# Concatenate all dataframes\n",
    "misc = pd.concat(misc.values(), ignore_index=True)"
   ]
  },
  {
   "cell_type": "code",
   "execution_count": 5,
   "id": "824b2b03",
   "metadata": {},
   "outputs": [],
   "source": [
    "# Define the columns for newer and older seasons\n",
    "pascols = ['Matchweek', 'Home_Team', 'Away_Team', 'Team', 'Home_Away', 'KP', 'Final_Third', 'PPA']\n",
    "\n",
    "# Loop through seasons and process the files\n",
    "passc = {\n",
    "    t: pd.read_excel(os.path.join(r'data\\FBREF\\passing', f\"dfpassing{t}.xlsx\"), sheet_name=0)\n",
    "    .rename(columns={'Unnamed: 0': 'index'})\n",
    "    .filter(items=pascols)\n",
    "    .assign(Season=t, Partido=lambda df: df['Home_Team'] + \" vs \" + df['Away_Team'])\n",
    "\n",
    "    for t in t2\n",
    "}\n",
    "\n",
    "# Concatenate all dataframes\n",
    "passing = pd.concat(passc.values(), ignore_index=True)"
   ]
  },
  {
   "cell_type": "code",
   "execution_count": 6,
   "id": "5d931845",
   "metadata": {},
   "outputs": [],
   "source": [
    "mergin_vars = ['Matchweek', 'Season', 'Partido', 'Home_Team', 'Away_Team', 'Team', 'Home_Away']\n",
    "\n",
    "DataPMatchFBREF = pd.merge(summary, possession, on = mergin_vars, how = 'outer')\n",
    "DataPMatchFBREF = pd.merge(DataPMatchFBREF, misc, on = mergin_vars, how = 'outer')\n",
    "DataPMatchFBREF = pd.merge(DataPMatchFBREF, passing, on = mergin_vars, how = 'outer')"
   ]
  },
  {
   "cell_type": "code",
   "execution_count": 7,
   "id": "ed9646af",
   "metadata": {},
   "outputs": [],
   "source": [
    "season_to_year = {\n",
    "    '9899': 1998, '9900': 1999, '0001': 2000, '0102': 2001, '0203': 2002, \n",
    "    '0304': 2003, '0405': 2004, '0506': 2005, '0607': 2006, '0708': 2007, \n",
    "    '0809': 2008, '0910': 2009, '1011': 2010, '1112': 2011, '1213': 2012, \n",
    "    '1314': 2013, '1415': 2014, '1516': 2015, '1617': 2016, '1718': 2017, \n",
    "    '1819': 2018, '1920': 2019, '2021': 2020, '2122': 2021\n",
    "}\n",
    "\n",
    "DataPMatchFBREF['Year'] = DataPMatchFBREF['Season'].map(season_to_year)\n"
   ]
  },
  {
   "cell_type": "code",
   "execution_count": 8,
   "id": "10e2f83c",
   "metadata": {},
   "outputs": [
    {
     "name": "stdout",
     "output_type": "stream",
     "text": [
      "<class 'pandas.core.frame.DataFrame'>\n",
      "Int64Index: 18240 entries, 0 to 18239\n",
      "Data columns (total 30 columns):\n",
      " #   Column             Non-Null Count  Dtype  \n",
      "---  ------             --------------  -----  \n",
      " 0   index              17482 non-null  float64\n",
      " 1   Matchweek          18240 non-null  object \n",
      " 2   Home_Team          18240 non-null  object \n",
      " 3   Away_Team          18240 non-null  object \n",
      " 4   Home_Score         18240 non-null  int64  \n",
      " 5   Away_Score         18240 non-null  int64  \n",
      " 6   Home_Yellow_Cards  18240 non-null  int64  \n",
      " 7   Home_Red_Cards     18240 non-null  int64  \n",
      " 8   Away_Yellow_Cards  18240 non-null  int64  \n",
      " 9   Away_Red_Cards     18240 non-null  int64  \n",
      " 10  Team               18240 non-null  object \n",
      " 11  Home_Away          18240 non-null  object \n",
      " 12  Gls                18240 non-null  int64  \n",
      " 13  PK                 18240 non-null  int64  \n",
      " 14  PKatt              6080 non-null   float64\n",
      " 15  CrdY               18240 non-null  int64  \n",
      " 16  CrdR               18240 non-null  int64  \n",
      " 17  Fls                1520 non-null   float64\n",
      " 18  Fld                1520 non-null   float64\n",
      " 19  Off                1520 non-null   float64\n",
      " 20  Season             18240 non-null  object \n",
      " 21  Partido            18240 non-null  object \n",
      " 22  Touches_Touches    3800 non-null   float64\n",
      " 23  DefPen_Touches     760 non-null    float64\n",
      " 24  PKwon              3800 non-null   float64\n",
      " 25  PKcon              3800 non-null   float64\n",
      " 26  KP                 3800 non-null   float64\n",
      " 27  Final_Third        3800 non-null   float64\n",
      " 28  PPA                3800 non-null   float64\n",
      " 29  Year               18240 non-null  int64  \n",
      "dtypes: float64(12), int64(11), object(7)\n",
      "memory usage: 4.3+ MB\n"
     ]
    }
   ],
   "source": [
    "DataPMatchFBREF.info()"
   ]
  },
  {
   "cell_type": "code",
   "execution_count": 9,
   "id": "8092f7d7",
   "metadata": {},
   "outputs": [
    {
     "data": {
      "text/plain": [
       "Index(['index', 'Matchweek', 'Home_Team', 'Away_Team', 'Home_Score',\n",
       "       'Away_Score', 'Home_Yellow_Cards', 'Home_Red_Cards',\n",
       "       'Away_Yellow_Cards', 'Away_Red_Cards', 'Team', 'Home_Away', 'Gls', 'PK',\n",
       "       'PKatt', 'CrdY', 'CrdR', 'Fls', 'Fld', 'Off', 'Season', 'Partido',\n",
       "       'Touches_Touches', 'DefPen_Touches', 'PKwon', 'PKcon', 'KP',\n",
       "       'Final_Third', 'PPA', 'Year'],\n",
       "      dtype='object')"
      ]
     },
     "execution_count": 9,
     "metadata": {},
     "output_type": "execute_result"
    }
   ],
   "source": [
    "DataPMatchFBREF.keys()"
   ]
  },
  {
   "cell_type": "code",
   "execution_count": 10,
   "id": "30b24e42",
   "metadata": {},
   "outputs": [],
   "source": [
    "varsaux = ['Gls', 'PK', 'PKatt', 'Fls', 'Fld', 'Off', 'Touches_Touches', 'DefPen_Touches', \n",
    "           'PKwon', 'PKcon', 'KP', 'Final_Third', 'PPA']\n",
    "\n",
    "for vary in varsaux:\n",
    "    for locvi in ['Home', 'Away']:  # Only two unique values in 'Home_Away'\n",
    "        var = locvi + vary\n",
    "        DataPMatchFBREF[var] = np.where(DataPMatchFBREF['Home_Away'] == locvi, \n",
    "                                        DataPMatchFBREF[vary], 0)\n",
    "        \n",
    "        if locvi == 'Away':\n",
    "            DataPMatchFBREF[var] = DataPMatchFBREF[var].shift(periods=-1)  # Shift for 'Away' only\n"
   ]
  },
  {
   "cell_type": "code",
   "execution_count": 11,
   "id": "b727599c",
   "metadata": {},
   "outputs": [],
   "source": [
    "DataPMatchFBREF.to_excel('DataPMatchFBREF.xlsx')"
   ]
  },
  {
   "cell_type": "code",
   "execution_count": null,
   "id": "3f46865f",
   "metadata": {},
   "outputs": [],
   "source": []
  },
  {
   "cell_type": "code",
   "execution_count": null,
   "id": "9a44471a",
   "metadata": {},
   "outputs": [],
   "source": []
  },
  {
   "cell_type": "code",
   "execution_count": 12,
   "id": "2bfb87a4",
   "metadata": {},
   "outputs": [
    {
     "ename": "NameError",
     "evalue": "name 'xxx' is not defined",
     "output_type": "error",
     "traceback": [
      "\u001b[1;31m---------------------------------------------------------------------------\u001b[0m",
      "\u001b[1;31mNameError\u001b[0m                                 Traceback (most recent call last)",
      "Cell \u001b[1;32mIn[12], line 1\u001b[0m\n\u001b[1;32m----> 1\u001b[0m \u001b[43mxxx\u001b[49m\n\u001b[0;32m      2\u001b[0m varsaux \u001b[38;5;241m=\u001b[39m [\u001b[38;5;124m'\u001b[39m\u001b[38;5;124mGls\u001b[39m\u001b[38;5;124m'\u001b[39m, \u001b[38;5;124m'\u001b[39m\u001b[38;5;124mPK\u001b[39m\u001b[38;5;124m'\u001b[39m, \u001b[38;5;124m'\u001b[39m\u001b[38;5;124mPKatt\u001b[39m\u001b[38;5;124m'\u001b[39m, \u001b[38;5;124m'\u001b[39m\u001b[38;5;124mFls\u001b[39m\u001b[38;5;124m'\u001b[39m, \u001b[38;5;124m'\u001b[39m\u001b[38;5;124mFld\u001b[39m\u001b[38;5;124m'\u001b[39m, \u001b[38;5;124m'\u001b[39m\u001b[38;5;124mOff\u001b[39m\u001b[38;5;124m'\u001b[39m, \u001b[38;5;124m'\u001b[39m\u001b[38;5;124mTouches_Touches\u001b[39m\u001b[38;5;124m'\u001b[39m, \u001b[38;5;124m'\u001b[39m\u001b[38;5;124mDefPen_Touches\u001b[39m\u001b[38;5;124m'\u001b[39m, \n\u001b[0;32m      3\u001b[0m  \u001b[38;5;124m'\u001b[39m\u001b[38;5;124mPKwon\u001b[39m\u001b[38;5;124m'\u001b[39m, \u001b[38;5;124m'\u001b[39m\u001b[38;5;124mPKcon\u001b[39m\u001b[38;5;124m'\u001b[39m, \u001b[38;5;124m'\u001b[39m\u001b[38;5;124mKP\u001b[39m\u001b[38;5;124m'\u001b[39m, \u001b[38;5;124m'\u001b[39m\u001b[38;5;124mFinal_Third\u001b[39m\u001b[38;5;124m'\u001b[39m, \u001b[38;5;124m'\u001b[39m\u001b[38;5;124mPPA\u001b[39m\u001b[38;5;124m'\u001b[39m]\n\u001b[0;32m      5\u001b[0m \u001b[38;5;28;01mfor\u001b[39;00m vary \u001b[38;5;129;01min\u001b[39;00m varsaux:\n",
      "\u001b[1;31mNameError\u001b[0m: name 'xxx' is not defined"
     ]
    }
   ],
   "source": []
  },
  {
   "cell_type": "code",
   "execution_count": null,
   "id": "0edbd169",
   "metadata": {},
   "outputs": [],
   "source": []
  },
  {
   "cell_type": "code",
   "execution_count": null,
   "id": "eeb0b813",
   "metadata": {},
   "outputs": [],
   "source": [
    "DataPMatchFBREF.to_excel('DataPMatchFBREF.xlsx')"
   ]
  },
  {
   "cell_type": "code",
   "execution_count": null,
   "id": "69815cd2",
   "metadata": {},
   "outputs": [],
   "source": [
    "DataPMatchFBREF.keys()"
   ]
  },
  {
   "cell_type": "code",
   "execution_count": null,
   "id": "79ce44d3",
   "metadata": {},
   "outputs": [],
   "source": [
    "xxxxxxxxx\n",
    "xxx\n",
    "def standard_teams(df):\n",
    "    replacements = {\n",
    "        'Albacete Balompié' : 'Albacete', 'Athletic Bilbao' : 'Athletic Club', \n",
    "        'Atlético de Madrid' : 'Atlético Madrid', 'CA Osasuna' : 'Osasuna', \n",
    "        'Cádiz CF' : 'Cádiz', 'CD Leganés' : 'Leganés', \n",
    "        'CD Numancia' : 'Numancia', 'CD Tenerife' : 'Tenerife', \n",
    "        'Celta de Vigo' : 'Celta Vigo', 'Córdoba CF' : 'Córdoba', \n",
    "        'Deportivo Alavés' : 'Alavés', 'Deportivo de La Coruña' : 'La Coruña', \n",
    "        'Elche CF' : 'Elche', 'FC Barcelona' : 'Barcelona', \n",
    "        'Getafe CF' : 'Getafe', 'Gimnàstic de Tarragona' : 'Gimnàstic', \n",
    "        'Girona FC' : 'Girona', 'Granada CF' : 'Granada', \n",
    "        'Hércules CF' : 'Hércules', 'Levante UD' : 'Levante', \n",
    "        'Málaga CF' : 'Málaga', 'Racing Santander' : 'Racing Sant', \n",
    "        'RCD Espanyol Barcelona' : 'Espanyol', 'RCD Mallorca' : 'Mallorca', \n",
    "        'Real Betis Balompié' : 'Betis', 'Real Murcia CF' : 'Real Murcia', \n",
    "        'Real Oviedo' : 'Oviedo', 'Real Valladolid' : 'Valladolid', \n",
    "        'Real Zaragoza' : 'Zaragoza', 'Recreativo Huelva' : 'Recreativo', \n",
    "        'SD Eibar' : 'Eibar', 'SD Huesca' : 'Huesca', \n",
    "        'Sevilla FC' : 'Sevilla', 'UD Almería' : 'Almería', \n",
    "        'UD Las Palmas' : 'Las Palmas', 'Valencia CF' : 'Valencia', \n",
    "        'Valladolid CF' : 'Valladolid', 'Villarreal CF' : 'Villarreal', \n",
    "        'Xerez CD' : 'Xerez'\n",
    "    }\n",
    "    \n",
    "    variables = ['Home_Team', 'Away_Team', 'PenaltyTaker', 'PenaltyConc']\n",
    "    for vars in variables:\n",
    "        for old_value, new_value in replacements.items():\n",
    "            df[vars] = df[vars].str.replace(old_value, new_value, regex = True)\n",
    "\n",
    "# Apply the function\n",
    "standard_teams(missed)"
   ]
  },
  {
   "cell_type": "code",
   "execution_count": null,
   "id": "df263345",
   "metadata": {},
   "outputs": [],
   "source": [
    "def standard_teams(df):\n",
    "    replacements = {\n",
    "        'Ã¡' : 'á', 'Ã ' : 'à', 'Ã©' : 'é', 'Ã­' : 'í', \n",
    "        'Ã³' : 'ó', 'Ã±' : 'ñ', 'Girona FC' : 'Girona', \n",
    "        'SD Huesca' : 'Huesca', \n",
    "    }\n",
    "    \n",
    "    variables = ['Home_Team', 'Away_Team', 'PenaltyTaker', 'PenaltyConc']\n",
    "    for vars in variables:\n",
    "        for old_value, new_value in replacements.items():\n",
    "            df[vars] = df[vars].str.replace(old_value, new_value, regex = True)\n",
    "\n",
    "# Apply the function\n",
    "standard_teams(missed)\n"
   ]
  },
  {
   "cell_type": "code",
   "execution_count": null,
   "id": "4e5ba778",
   "metadata": {},
   "outputs": [],
   "source": [
    "def standard_teams(df):\n",
    "    replacements = {        \n",
    "        ', ' : '', 'â‚¬ ' : '', '£' : '', \n",
    "    }\n",
    "    \n",
    "    variables = ['Home_Team', 'Away_Team', 'PenaltyTaker', 'PenaltyConc']\n",
    "    for vars in variables:\n",
    "        for old_value, new_value in replacements.items():\n",
    "            df[vars] = df[vars].str.replace(old_value, new_value, regex = True)\n",
    "\n",
    "# Apply the function\n",
    "standard_teams(missed)\n"
   ]
  },
  {
   "cell_type": "code",
   "execution_count": null,
   "id": "0a40a2e7",
   "metadata": {},
   "outputs": [],
   "source": [
    "def standard_teams(df):\n",
    "    replacements = {\n",
    "    }\n",
    "    \n",
    "    variables = ['Home_Team', 'Away_Team', 'PenaltyTaker', 'PenaltyConc']\n",
    "    for vars in variables:\n",
    "        for old_value, new_value in replacements.items():\n",
    "            df[vars] = df[vars].str.replace(old_value, new_value, regex = True)\n",
    "\n",
    "# Apply the function\n",
    "standard_teams(missed)\n"
   ]
  }
 ],
 "metadata": {
  "kernelspec": {
   "display_name": "Python 3 (ipykernel)",
   "language": "python",
   "name": "python3"
  },
  "language_info": {
   "codemirror_mode": {
    "name": "ipython",
    "version": 3
   },
   "file_extension": ".py",
   "mimetype": "text/x-python",
   "name": "python",
   "nbconvert_exporter": "python",
   "pygments_lexer": "ipython3",
   "version": "3.10.9"
  }
 },
 "nbformat": 4,
 "nbformat_minor": 5
}
