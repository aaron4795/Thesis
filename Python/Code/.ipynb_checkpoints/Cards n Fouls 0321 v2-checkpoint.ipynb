{
 "cells": [
  {
   "cell_type": "code",
   "execution_count": 1,
   "id": "1425f634",
   "metadata": {},
   "outputs": [],
   "source": [
    "# Import libraries\n",
    "import pandas as pd\n",
    "import os\n",
    "\n",
    "# Set working directory\n",
    "os.chdir('C:\\\\Users\\\\aaron\\\\Desktop\\\\GitHub\\\\Thesis\\\\Python')"
   ]
  },
  {
   "cell_type": "code",
   "execution_count": 2,
   "id": "fc8eef13",
   "metadata": {},
   "outputs": [],
   "source": [
    "# Import data, just one year\n",
    "time = ['0506', '0607', '0708', '0809', '0910', '1011', '1112', '1213', '1314', '1415',\n",
    "        '1516', '1617', '1718', '1819', '1920', '2021', '2122']\n",
    "\n",
    "# Dictionary to store DataFrames\n",
    "dataframes = {}\n",
    "dataAway = {}\n",
    "dataHome = {}\n",
    "\n",
    "# Iterate over the list of years\n",
    "for i in time:\n",
    "    filename = f\"SP1{i}.csv\"\n",
    "    \n",
    "    filepath = os.path.join(r'Data\\FootballUK', filename)  # Use os.path.join to construct the path\n",
    "    \n",
    "    # Read csv with the data\n",
    "    df = pd.read_csv(filepath)\n",
    "    \n",
    "    # Keep variables of interest and rename them\n",
    "    df2 = df[['HomeTeam', 'AwayTeam', 'HF', 'AF', 'HY', 'AY', 'HR', 'AR']]\n",
    "    df3 = df2.rename(columns={'HF': 'homefouls', 'AF' : 'awayfouls', 'HY' : 'homeyellow', 'AY' : 'awayyellow',\n",
    "                         'HR' : 'homered', 'AR' : 'awayred'})\n",
    "    \n",
    "    df3['Season'] = f'{i}'\n",
    "    \n",
    "    # Standarize the names of the teams for the two variables below\n",
    "    team =  ['HomeTeam', 'AwayTeam']\n",
    "\n",
    "    for i in team:\n",
    "        df3[i] = df3[i].str.replace('Alaves', 'Alavés')\n",
    "        df3[i] = df3[i].str.replace('Almeria', 'Almería')\n",
    "        df3[i] = df3[i].str.replace('Ath Bilbao', 'Athletic Club')\n",
    "        df3[i] = df3[i].str.replace('Ath Madrid', 'Atlético Madrid')\n",
    "        df3[i] = df3[i].str.replace('Cadiz', 'Cádiz')\n",
    "        df3[i] = df3[i].str.replace('Celta', 'Celta Vigo')\n",
    "        df3[i] = df3[i].str.replace('Córdoba CF', 'Córdoba')\n",
    "        df3[i] = df3[i].str.replace('Espanol', 'Espanyol')\n",
    "        df3[i] = df3[i].str.replace('Gimnastic', 'Gimnàstic')\n",
    "        df3[i] = df3[i].str.replace('Hercules', 'Hércules')\n",
    "        df3[i] = df3[i].str.replace('La Coruna', 'La Coruña')\n",
    "        df3[i] = df3[i].str.replace('Leganes', 'Leganés')\n",
    "        df3[i] = df3[i].str.replace('Malaga', 'Málaga')\n",
    "        df3[i] = df3[i].str.replace('Murcia', 'Real Murcia')\n",
    "        df3[i] = df3[i].str.replace('Real Oviedo', 'Oviedo')\n",
    "        df3[i] = df3[i].str.replace('Santander', 'Racing Sant')\n",
    "        df3[i] = df3[i].str.replace('Sociedad', 'Real Sociedad')\n",
    "        df3[i] = df3[i].str.replace('Sp Gijon', 'Sporting Gijón')\n",
    "        df3[i] = df3[i].str.replace('Vallecano', 'Rayo Vallecano')\n",
    "\n",
    "        #print(df3[i].unique())\n",
    "        \n",
    "    dataframes[filename] = df3  # Store the DataFrame in the dictionary\n",
    "    \n",
    "    dataAway[filename] = df3.groupby(['AwayTeam', 'Season']).agg({'homefouls':'sum', 'homeyellow':'sum', 'homered':'sum'})\n",
    "    dataHome[filename] = df3.groupby(['HomeTeam', 'Season']).agg({'awayfouls':'sum', 'awayyellow':'sum', 'awayred':'sum'})\n",
    "    "
   ]
  },
  {
   "cell_type": "code",
   "execution_count": 3,
   "id": "bc3a96ff",
   "metadata": {},
   "outputs": [
    {
     "data": {
      "text/plain": [
       "dict_keys(['SP10506.csv', 'SP10607.csv', 'SP10708.csv', 'SP10809.csv', 'SP10910.csv', 'SP11011.csv', 'SP11112.csv', 'SP11213.csv', 'SP11314.csv', 'SP11415.csv', 'SP11516.csv', 'SP11617.csv', 'SP11718.csv', 'SP11819.csv', 'SP11920.csv', 'SP12021.csv', 'SP12122.csv'])"
      ]
     },
     "execution_count": 3,
     "metadata": {},
     "output_type": "execute_result"
    }
   ],
   "source": [
    "dataAway.keys()"
   ]
  },
  {
   "cell_type": "code",
   "execution_count": null,
   "id": "6179b3bc",
   "metadata": {},
   "outputs": [],
   "source": []
  },
  {
   "cell_type": "code",
   "execution_count": null,
   "id": "b971bd5d",
   "metadata": {},
   "outputs": [],
   "source": []
  }
 ],
 "metadata": {
  "kernelspec": {
   "display_name": "Python 3 (ipykernel)",
   "language": "python",
   "name": "python3"
  },
  "language_info": {
   "codemirror_mode": {
    "name": "ipython",
    "version": 3
   },
   "file_extension": ".py",
   "mimetype": "text/x-python",
   "name": "python",
   "nbconvert_exporter": "python",
   "pygments_lexer": "ipython3",
   "version": "3.10.9"
  }
 },
 "nbformat": 4,
 "nbformat_minor": 5
}
