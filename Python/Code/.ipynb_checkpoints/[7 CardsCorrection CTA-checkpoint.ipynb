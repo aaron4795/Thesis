{
 "cells": [
  {
   "cell_type": "code",
   "execution_count": 1,
   "id": "8ea59f85",
   "metadata": {},
   "outputs": [],
   "source": [
    "# Import libraries\n",
    "import pandas as pd\n",
    "import os\n",
    "import numpy as np\n",
    "\n",
    "# Set working directory\n",
    "os.chdir('C:\\\\Users\\\\aaron\\\\Desktop\\\\GitHub\\\\Thesis\\\\Python')"
   ]
  },
  {
   "cell_type": "code",
   "execution_count": 2,
   "id": "f8272689",
   "metadata": {},
   "outputs": [
    {
     "data": {
      "text/plain": [
       "\"\\ndataframes = {}\\n\\nfor i in range(1, 17):\\n    print(i)\\n\\n    # Define the path file and file path\\n    filename = f'h{i}.csv'\\n    filepath = os.path.join(r'Data\\\\RFEF - CTA', filename)\\n\\n    # Import data\\n    rfef_cta = pd.read_csv(filepath, encoding='ISO-8859-1')\\n    \\n    dataframes[filename] = rfef_cta\\n    \\nprint(dataframes.keys())\\n\""
      ]
     },
     "execution_count": 2,
     "metadata": {},
     "output_type": "execute_result"
    }
   ],
   "source": [
    "# Once performed this once, there's no need to perform this again as it is time consuming\n",
    "'''\n",
    "dataframes = {}\n",
    "\n",
    "for i in range(1, 17):\n",
    "    print(i)\n",
    "\n",
    "    # Define the path file and file path\n",
    "    filename = f'h{i}.csv'\n",
    "    filepath = os.path.join(r'Data\\RFEF - CTA', filename)\n",
    "\n",
    "    # Import data\n",
    "    rfef_cta = pd.read_csv(filepath, encoding='ISO-8859-1')\n",
    "    \n",
    "    dataframes[filename] = rfef_cta\n",
    "    \n",
    "print(dataframes.keys())\n",
    "'''"
   ]
  },
  {
   "cell_type": "code",
   "execution_count": 3,
   "id": "633ecf20",
   "metadata": {},
   "outputs": [
    {
     "data": {
      "text/plain": [
       "'\\n# Concat dictionary entries in one dataframe\\nrfef_cta = pd.concat(dataframes.values(), ignore_index = True)\\n\\nlen(rfef_cta)\\n'"
      ]
     },
     "execution_count": 3,
     "metadata": {},
     "output_type": "execute_result"
    }
   ],
   "source": [
    "'''\n",
    "# Concat dictionary entries in one dataframe\n",
    "rfef_cta = pd.concat(dataframes.values(), ignore_index = True)\n",
    "\n",
    "len(rfef_cta)\n",
    "'''"
   ]
  },
  {
   "cell_type": "code",
   "execution_count": 4,
   "id": "9196fc0e",
   "metadata": {},
   "outputs": [],
   "source": [
    "# rfef_cta.to_csv('Data\\RFEF - CTA\\SOURCODE.csv')"
   ]
  },
  {
   "cell_type": "code",
   "execution_count": 5,
   "id": "b1b9ba66",
   "metadata": {},
   "outputs": [],
   "source": [
    "rfef_cta = pd.read_csv('Data\\RFEF - CTA\\SOURCODE.csv')"
   ]
  },
  {
   "cell_type": "code",
   "execution_count": 6,
   "id": "d5df70e8",
   "metadata": {},
   "outputs": [],
   "source": [
    "rfef_cta.drop(['Unnamed: 0'], axis = 1, inplace = True)\n",
    "rfef_cta = rfef_cta.dropna()"
   ]
  },
  {
   "cell_type": "code",
   "execution_count": 7,
   "id": "811d13e0",
   "metadata": {},
   "outputs": [],
   "source": [
    "tab_character = chr(9)\n",
    "quotation_character = chr(34)\n",
    "rfef_cta['x'] = rfef_cta['x'].str.replace(tab_character, '')\n",
    "rfef_cta['x'] = rfef_cta['x'].str.replace('  ', '')\n",
    "rfef_cta['x'] = rfef_cta['x'].str.replace(quotation_character, '')"
   ]
  },
  {
   "cell_type": "code",
   "execution_count": 8,
   "id": "1efdf14c",
   "metadata": {},
   "outputs": [
    {
     "data": {
      "text/plain": [
       "4846122"
      ]
     },
     "execution_count": 8,
     "metadata": {},
     "output_type": "execute_result"
    }
   ],
   "source": [
    "# Drop rows where we don't have any value\n",
    "rfef_cta = rfef_cta[rfef_cta['x'] != '']\n",
    "rfef_cta = rfef_cta[rfef_cta['x'] != ' ']\n",
    "\n",
    "len(rfef_cta)"
   ]
  },
  {
   "cell_type": "code",
   "execution_count": 9,
   "id": "f2660e92",
   "metadata": {},
   "outputs": [
    {
     "data": {
      "text/plain": [
       "109473"
      ]
     },
     "execution_count": 9,
     "metadata": {},
     "output_type": "execute_result"
    }
   ],
   "source": [
    "# Keep obs where we find a certain chain of characters\n",
    "rfef_cta['aux'] = np.where((rfef_cta['x'].str.find('Temporada') > 0) |\n",
    "                           (rfef_cta['x'].str.find('Jornada') > 0) |\n",
    "                           (rfef_cta['x'].str.find('Acta del Partido celebrado') > 0) |\n",
    "                           (rfef_cta['x'].str.find('<td width=225') > 0) |\n",
    "                           (rfef_cta['x'].str.find('class=NEGRITA>-') > 0) |\n",
    "                           (rfef_cta['x'].str.find('EXPULSIONES') > 0) |\n",
    "                           (rfef_cta['x'].str.find('motivo: doble amarilla') > 0), 1, 0)\n",
    "\n",
    "rfef_cta = rfef_cta[rfef_cta['aux'] == 1]\n",
    "len(rfef_cta)"
   ]
  },
  {
   "cell_type": "code",
   "execution_count": 10,
   "id": "01ec0883",
   "metadata": {},
   "outputs": [],
   "source": [
    "rfef_cta = rfef_cta[~rfef_cta['x'].str.contains(\"Liga 2ª División\", na=False)]"
   ]
  },
  {
   "cell_type": "code",
   "execution_count": 11,
   "id": "c91c0199",
   "metadata": {},
   "outputs": [],
   "source": [
    "# Standarize\n",
    "rfef_cta['x'] = rfef_cta['x'].str.replace('Liga 1ª División', 'Liga 1ra División')"
   ]
  },
  {
   "cell_type": "code",
   "execution_count": 12,
   "id": "0f11c16a",
   "metadata": {},
   "outputs": [
    {
     "data": {
      "text/plain": [
       "102256"
      ]
     },
     "execution_count": 12,
     "metadata": {},
     "output_type": "execute_result"
    }
   ],
   "source": [
    "# Clean obs\n",
    "strings_to_remove = ['<td width=225 class=TEXTO_COLOR>', '</td>',\n",
    "'<td height=15 colspan=2 class=NEGRITA>- ',\n",
    "':', '<td width=30%><span class=TIT_PAG>&nbsp;',\n",
    "'</span>', '<td align=right width=30%><span class=TIT_PAG>',\n",
    "'&nbsp;', '<td class=BG_TIT_PAG><span class=tit4>',\n",
    "'<td height=15 >+ ', '<td height=15 colspan=3 class=tit4>B.- ']\n",
    "\n",
    "for s in strings_to_remove:\n",
    "    rfef_cta['x'] = rfef_cta['x'].str.replace(s, '', regex = True)\n",
    "\n",
    "\n",
    "rfef_cta['x'] = np.where((rfef_cta['x'].str.contains('addMenuItem',)), \n",
    "                         'Liga 1ra División', rfef_cta['x'])\n",
    "\n",
    "rfef_cta['x'] = rfef_cta['x'].str.replace('<td height=15 >+ ', '', regex = False)\n",
    "\n",
    "len(rfef_cta)"
   ]
  },
  {
   "cell_type": "code",
   "execution_count": 13,
   "id": "22e75e73",
   "metadata": {},
   "outputs": [],
   "source": [
    "# Reset index and drop unneded variables\n",
    "rfef_cta.reset_index(inplace = True)\n",
    "rfef_cta.drop(['index', 'aux'], axis = 1, inplace = True)"
   ]
  },
  {
   "cell_type": "code",
   "execution_count": 14,
   "id": "7dfe910a",
   "metadata": {},
   "outputs": [
    {
     "data": {
      "text/plain": [
       "102247"
      ]
     },
     "execution_count": 14,
     "metadata": {},
     "output_type": "execute_result"
    }
   ],
   "source": [
    "# Drop obs that have certain chain of characters\n",
    "rfef_cta = rfef_cta[~rfef_cta['x'].str.contains(\"<td align=right class=BG_TIT_PAG>\", na = False)]\n",
    "rfef_cta = rfef_cta[~rfef_cta['x'].str.contains(\"<td height=15 colspan=2 >\", na = False)]\n",
    "rfef_cta = rfef_cta[~rfef_cta['x'].str.contains(\"<td width=570 height=15 >\", na = False)]\n",
    "rfef_cta = rfef_cta[~rfef_cta['x'].str.contains(\"El segundo tiempo comenzó con 30\", na = False)]\n",
    "\n",
    "len(rfef_cta)"
   ]
  },
  {
   "cell_type": "code",
   "execution_count": 15,
   "id": "69cc6415",
   "metadata": {},
   "outputs": [],
   "source": [
    "# Standarize teams names\n",
    "rfef_cta['x'] = rfef_cta['x'].str.replace('Málaga CF SAD', 'Málaga', regex = True)\n",
    "rfef_cta['x'] = rfef_cta['x'].str.replace('Villarreal CF SAD', 'Villarreal', regex = True)\n",
    "rfef_cta['x'] = rfef_cta['x'].str.replace('RCD Espanyol de Barcelona SAD', 'Espanyol', regex = True)\n",
    "rfef_cta['x'] = rfef_cta['x'].str.replace('Real Zaragoza SAD', 'Zaragoza', regex = True)\n",
    "rfef_cta['x'] = rfef_cta['x'].str.replace('FC Barcelona', 'Barcelona', regex = True)\n",
    "rfef_cta['x'] = rfef_cta['x'].str.replace('Real Sociedad de Fútbol SAD', 'Real Sociedad', regex = True)\n",
    "rfef_cta['x'] = rfef_cta['x'].str.replace('Real Betis Balompié SAD', 'Betis', regex = True)\n",
    "rfef_cta['x'] = rfef_cta['x'].str.replace('Real Madrid CF', 'Real Madrid', regex = True)\n",
    "rfef_cta['x'] = rfef_cta['x'].str.replace('Sevilla FC SAD', 'Sevilla', regex = True)\n",
    "rfef_cta['x'] = rfef_cta['x'].str.replace('Club Atlético de Madrid SAD', 'Atlético Madrid', regex = True)\n",
    "rfef_cta['x'] = rfef_cta['x'].str.replace('Real Valladolid CF SAD', 'Valladolid', regex = True)\n",
    "rfef_cta['x'] = rfef_cta['x'].str.replace('Albacete Balompié SAD', 'Albacete', regex = True)\n",
    "rfef_cta['x'] = rfef_cta['x'].str.replace('RC Deportivo', 'Deportivo La Coruña', regex = True)\n",
    "rfef_cta['x'] = rfef_cta['x'].str.replace('RC Celta de Vigo SAD', 'Celta Vigo', regex = True)\n",
    "rfef_cta['x'] = rfef_cta['x'].str.replace('Club Atlético Osasuna', 'Osasuna', regex = True)\n",
    "rfef_cta['x'] = rfef_cta['x'].str.replace('Real Murcia CF', 'Real Murcia', regex = True)\n",
    "rfef_cta['x'] = rfef_cta['x'].str.replace('Real Racing Club de Santander SAD', 'Racing Santander', regex = True)\n",
    "rfef_cta['x'] = rfef_cta['x'].str.replace('Athletic Club', 'Athletic Club', regex = True)\n",
    "rfef_cta['x'] = rfef_cta['x'].str.replace('Valencia CF SAD', 'Valencia', regex = True)\n",
    "rfef_cta['x'] = rfef_cta['x'].str.replace('RCD Mallorca SAD', 'Mallorca', regex = True)\n",
    "rfef_cta['x'] = rfef_cta['x'].str.replace('Levante UD SAD', 'Levante', regex = True)\n",
    "rfef_cta['x'] = rfef_cta['x'].str.replace('Getafe CF SAD', 'Getafe', regex = True)\n",
    "rfef_cta['x'] = rfef_cta['x'].str.replace('CD Numancia de Soria', 'Numancia', regex = True)\n",
    "rfef_cta['x'] = rfef_cta['x'].str.replace('Cádiz CF SAD', 'Cádiz', regex = True)\n",
    "rfef_cta['x'] = rfef_cta['x'].str.replace('Deportivo Alavés SAD', 'Alavés', regex = True)\n",
    "rfef_cta['x'] = rfef_cta['x'].str.replace('RC Recreativo de Huelva SAD', 'Recreativo', regex = True)\n",
    "rfef_cta['x'] = rfef_cta['x'].str.replace('Gimnàstic de Tarragona', 'Gimnàstic', regex = True)\n",
    "rfef_cta['x'] = rfef_cta['x'].str.replace('UD Almería SAD', 'Almería', regex = True)\n",
    "rfef_cta['x'] = rfef_cta['x'].str.replace('Real Sporting de Gijón SAD', 'Sporting Gijón', regex = True)\n",
    "rfef_cta['x'] = rfef_cta['x'].str.replace('Xerez C.D. SAD', 'Xerez', regex = True)\n",
    "rfef_cta['x'] = rfef_cta['x'].str.replace('CD Tenerife SAD', 'Tenerife', regex = True)\n",
    "rfef_cta['x'] = rfef_cta['x'].str.replace('Hércules de Alicante CF SAD', 'Hércules', regex = True)\n",
    "rfef_cta['x'] = rfef_cta['x'].str.replace('Granada CF SAD', 'Granada', regex = True)\n",
    "rfef_cta['x'] = rfef_cta['x'].str.replace('Rayo Vallecano de Madrid SAD', 'Rayo Vallecano', regex = True)\n",
    "rfef_cta['x'] = rfef_cta['x'].str.replace('Elche CF SAD', 'Elche', regex = True)\n",
    "rfef_cta['x'] = rfef_cta['x'].str.replace('Córdoba CF', 'Córdoba', regex = True)\n",
    "rfef_cta['x'] = rfef_cta['x'].str.replace('SD Eibar SAD', 'Eibar', regex = True)\n",
    "rfef_cta['x'] = rfef_cta['x'].str.replace('UD Las Palmas SAD', 'Las Palmas', regex = True)\n",
    "rfef_cta['x'] = rfef_cta['x'].str.replace('CD Leganés SAD', 'Leganés', regex = True)"
   ]
  },
  {
   "cell_type": "code",
   "execution_count": 16,
   "id": "0df04ec3",
   "metadata": {},
   "outputs": [],
   "source": [
    "# Define new variables based on the content of x variable\n",
    "rfef_cta['Season'] = np.where((rfef_cta['x'].str.contains('Temporada')), rfef_cta['x'], float('nan'))\n",
    "rfef_cta['Jornada'] = np.where((rfef_cta['x'].str.contains('Jornada')), rfef_cta['x'], float('nan'))\n",
    "rfef_cta['Acta'] = np.where((rfef_cta['x'].str.contains('Acta del Partido')), rfef_cta['x'], float('nan'))\n",
    "\n",
    "rfef_cta['homeEquipo'] = np.where((rfef_cta['x'].shift(1).str.contains('Acta del Partido')), rfef_cta['x'], float('nan'))\n",
    "rfef_cta['awayEquipo'] = np.where((rfef_cta['x'].shift(2).str.contains('Acta del Partido')), rfef_cta['x'], float('nan'))\n",
    "\n",
    "rfef_cta['Exp'] = np.where((rfef_cta['x'].str.contains('EXPULSIONES')), rfef_cta['x'], float('nan'))\n",
    "rfef_cta['ExpJ'] = np.where((rfef_cta['x'].str.contains('En el minuto')) & (rfef_cta['x'].str.contains('el jugador')), \n",
    "                            rfef_cta['x'], float('nan'))"
   ]
  },
  {
   "cell_type": "code",
   "execution_count": 17,
   "id": "8750b813",
   "metadata": {},
   "outputs": [
    {
     "data": {
      "text/plain": [
       "Index(['Unnamed: 0.1', 'x', 'Season', 'Jornada', 'Acta', 'homeEquipo',\n",
       "       'awayEquipo', 'Exp', 'ExpJ'],\n",
       "      dtype='object')"
      ]
     },
     "execution_count": 17,
     "metadata": {},
     "output_type": "execute_result"
    }
   ],
   "source": [
    "rfef_cta.columns"
   ]
  },
  {
   "cell_type": "code",
   "execution_count": 18,
   "id": "4010966a",
   "metadata": {},
   "outputs": [],
   "source": [
    "rfef_cta['Aux'] = np.where((~rfef_cta['Jornada'].isna()) | \n",
    "                           (~rfef_cta['Acta'].isna()) |\n",
    "                           (~rfef_cta['homeEquipo'].isna()) |\n",
    "                           (~rfef_cta['awayEquipo'].isna()), 1, 0)"
   ]
  },
  {
   "cell_type": "code",
   "execution_count": 19,
   "id": "8eb031b1",
   "metadata": {},
   "outputs": [],
   "source": [
    "rfef_cta['Jornada'] = rfef_cta['Jornada'].shift(-1)\n",
    "rfef_cta['Acta'] = rfef_cta['Acta'].shift(-2)\n",
    "rfef_cta['homeEquipo'] = rfef_cta['homeEquipo'].shift(-3)\n",
    "rfef_cta['awayEquipo'] = rfef_cta['awayEquipo'].shift(-4)\n",
    "\n",
    "rfef_cta = rfef_cta[rfef_cta['Aux'] != 1]"
   ]
  },
  {
   "cell_type": "code",
   "execution_count": 20,
   "id": "418a85ee",
   "metadata": {},
   "outputs": [],
   "source": [
    "rfef_cta['Equipo'] = np.where(((rfef_cta['x'].shift(1).str.contains('EXPULSIONES')) |\n",
    "                              (rfef_cta['x'].shift(2).str.contains('EXPULSIONES')) |\n",
    "                              (rfef_cta['x'].shift(-1).str.contains('En el minuto'))) &\n",
    "                              (~rfef_cta['x'].str.contains('En el minuto')) |\n",
    "                              ((rfef_cta['x'].shift(1).str.contains('En el minuto')) &\n",
    "                              (~rfef_cta['x'].str.contains('En el minuto')) &\n",
    "                              (rfef_cta['x'].shift(-3).str.contains('EXPULSIONES'))), \n",
    "                              rfef_cta['x'], float('nan'))"
   ]
  },
  {
   "cell_type": "code",
   "execution_count": 21,
   "id": "168179a6",
   "metadata": {},
   "outputs": [],
   "source": [
    "# Drop obs that lack relevant data\n",
    "rfef_cta['Aux'] = np.where((rfef_cta['awayEquipo'].isna()) &\n",
    "                           (rfef_cta['Exp'].isna()) &\n",
    "                           (rfef_cta['ExpJ'].isna()) &\n",
    "                           (rfef_cta['Equipo'].isna()), 1, 0)\n",
    "\n",
    "rfef_cta = rfef_cta[rfef_cta['Aux'] != 1]"
   ]
  },
  {
   "cell_type": "code",
   "execution_count": 22,
   "id": "2880c087",
   "metadata": {},
   "outputs": [
    {
     "name": "stdout",
     "output_type": "stream",
     "text": [
      "51699\n",
      "30054\n",
      "11613\n",
      "5466\n",
      "4396\n"
     ]
    }
   ],
   "source": [
    "# Drop obs that lack relevant data\n",
    "rfef_cta.columns\n",
    "\n",
    "print(len(rfef_cta))\n",
    "\n",
    "rfef_cta['Aux'] = np.where( ((~rfef_cta['Exp'].isna()) & (rfef_cta['ExpJ'].shift(1).str.contains('minuto'))) |\n",
    "                            ((~rfef_cta['Exp'].isna()) & (~rfef_cta['awayEquipo'].shift(-3).isna()))\n",
    "                            , 1, 0)\n",
    "\n",
    "rfef_cta['Aux'] = np.where((rfef_cta['Aux'].shift(1) == 1) | (rfef_cta['Aux'].shift(2) == 1), 1, rfef_cta['Aux'])\n",
    "\n",
    "rfef_cta = rfef_cta[rfef_cta['Aux'] != 1]\n",
    "\n",
    "print(len(rfef_cta))\n",
    "\n",
    "rfef_cta['Aux'] = np.where( (~rfef_cta['Exp'].isna()) & (~rfef_cta['Exp'].shift(-4).isna()), 1, 0)\n",
    "rfef_cta['Aux'] = np.where( (rfef_cta['Aux'].shift(1) == 1) | (rfef_cta['Aux'].shift(2) == 1), 1, rfef_cta['Aux'])\n",
    "\n",
    "rfef_cta = rfef_cta[rfef_cta['Aux'] != 1]\n",
    "\n",
    "print(len(rfef_cta))\n",
    "\n",
    "# Drop those matches observations that don't have double yellow card incidents\n",
    "rfef_cta['Aux'] = np.where((~rfef_cta['Season'].isna()) & (rfef_cta['Exp'].shift(-1).isna()), 1, 0)\n",
    "rfef_cta = rfef_cta[rfef_cta['Aux'] != 1]\n",
    "\n",
    "print(len(rfef_cta))\n",
    "\n",
    "rfef_cta = rfef_cta[rfef_cta['Exp'].isna()]\n",
    "\n",
    "print(len(rfef_cta))\n",
    "\n",
    "# Drop redundant variables\n",
    "rfef_cta.drop(['x', 'Exp'], axis = 1, inplace = True)\n",
    "\n",
    "# Adjust Equipo variable to match its players\n",
    "rfef_cta['Equipo'] = np.where( (~rfef_cta['ExpJ'].isna() ), \n",
    "                             rfef_cta['Equipo'].shift(1), float('nan'))\n",
    "\n",
    "rfef_cta['Equipo'] = np.where( (~rfef_cta['ExpJ'].isna() ) & rfef_cta['Equipo'].isna(), \n",
    "                           rfef_cta['Equipo'].shift(1), \n",
    "                            rfef_cta['Equipo'])\n",
    "\n",
    "# ADJUST THIS WITH A WHILE LOOP"
   ]
  },
  {
   "cell_type": "code",
   "execution_count": 23,
   "id": "f8f184e7",
   "metadata": {},
   "outputs": [],
   "source": [
    "rfef_cta.to_excel('lol.xlsx')"
   ]
  },
  {
   "cell_type": "code",
   "execution_count": 24,
   "id": "0d76e065",
   "metadata": {},
   "outputs": [
    {
     "ename": "NameError",
     "evalue": "name 'xxxx' is not defined",
     "output_type": "error",
     "traceback": [
      "\u001b[1;31m---------------------------------------------------------------------------\u001b[0m",
      "\u001b[1;31mNameError\u001b[0m                                 Traceback (most recent call last)",
      "Cell \u001b[1;32mIn[24], line 1\u001b[0m\n\u001b[1;32m----> 1\u001b[0m \u001b[43mxxxx\u001b[49m\n",
      "\u001b[1;31mNameError\u001b[0m: name 'xxxx' is not defined"
     ]
    }
   ],
   "source": [
    "xxxx"
   ]
  },
  {
   "cell_type": "code",
   "execution_count": null,
   "id": "bc99b49d",
   "metadata": {},
   "outputs": [],
   "source": [
    "rfef_cta = rfef_cta[(~rfef_cta['ExpJ'].isna()) | \n",
    "                    (~rfef_cta['awayEquipo'].isna())]"
   ]
  },
  {
   "cell_type": "code",
   "execution_count": null,
   "id": "1bb1cc80",
   "metadata": {},
   "outputs": [],
   "source": [
    "vars = ['Season', 'Jornada', 'Acta', 'homeEquipo', 'awayEquipo']\n",
    "\n",
    "aux = rfef_cta['Season'].isna().sum()\n",
    "\n",
    "while aux != 0:\n",
    "    for var in vars:\n",
    "        rfef_cta[var] = np.where( (rfef_cta[var].isna() ), rfef_cta[var].shift(1), rfef_cta[var])\n",
    "    \n",
    "    aux = rfef_cta['Season'].isna().sum()"
   ]
  },
  {
   "cell_type": "code",
   "execution_count": null,
   "id": "f49e60e7",
   "metadata": {},
   "outputs": [],
   "source": [
    "rfef_cta['Partido'] = rfef_cta['homeEquipo'] + ' vs ' + rfef_cta['awayEquipo']"
   ]
  },
  {
   "cell_type": "code",
   "execution_count": null,
   "id": "05131a7e",
   "metadata": {},
   "outputs": [],
   "source": [
    "rfef_cta['ExpJ'] = np.where( (rfef_cta['ExpJ'].isna()), \n",
    "                           0, 1)\n",
    "\n",
    "# Aggregate data per match per team\n",
    "rfef_cta = rfef_cta.groupby(['Season', 'Jornada', 'Acta', 'Partido', 'Equipo'], as_index = False).agg({'ExpJ' : 'sum'})\n",
    "\n",
    "## check if it is needed to drop equipo.isna()"
   ]
  },
  {
   "cell_type": "code",
   "execution_count": null,
   "id": "43b2e8fb",
   "metadata": {},
   "outputs": [],
   "source": [
    "old = \"Jornada Nº \"\n",
    "new = \"La Liga (Matchweek \"\n",
    "\n",
    "rfef_cta['Jornada'] = rfef_cta['Jornada'].str.replace(old, new, regex = True) + ')'"
   ]
  },
  {
   "cell_type": "code",
   "execution_count": null,
   "id": "51209fa2",
   "metadata": {},
   "outputs": [],
   "source": [
    "rfef_cta.to_excel('lol.xlsx')\n",
    "\n",
    "# Next steps is to do this for all data\n",
    "# Then check if its doing okay\n",
    "# Then input manually the missing data"
   ]
  },
  {
   "cell_type": "code",
   "execution_count": null,
   "id": "1bc07424",
   "metadata": {},
   "outputs": [],
   "source": [
    "xxxx\n",
    "rfef_cta"
   ]
  },
  {
   "cell_type": "code",
   "execution_count": null,
   "id": "8e380568",
   "metadata": {},
   "outputs": [],
   "source": []
  },
  {
   "cell_type": "code",
   "execution_count": null,
   "id": "b161b999",
   "metadata": {},
   "outputs": [],
   "source": [
    "# Clean Season variable\n",
    "rfef_cta['Season'] = rfef_cta['Season'].str.replace('Temporada ', '', regex = True)\n",
    "rfef_cta['Season'] = rfef_cta['Season'].str.replace(' ', '', regex = True)"
   ]
  },
  {
   "cell_type": "code",
   "execution_count": null,
   "id": "52152a52",
   "metadata": {},
   "outputs": [],
   "source": [
    "rfef_cta"
   ]
  }
 ],
 "metadata": {
  "kernelspec": {
   "display_name": "Python 3 (ipykernel)",
   "language": "python",
   "name": "python3"
  },
  "language_info": {
   "codemirror_mode": {
    "name": "ipython",
    "version": 3
   },
   "file_extension": ".py",
   "mimetype": "text/x-python",
   "name": "python",
   "nbconvert_exporter": "python",
   "pygments_lexer": "ipython3",
   "version": "3.10.9"
  }
 },
 "nbformat": 4,
 "nbformat_minor": 5
}
