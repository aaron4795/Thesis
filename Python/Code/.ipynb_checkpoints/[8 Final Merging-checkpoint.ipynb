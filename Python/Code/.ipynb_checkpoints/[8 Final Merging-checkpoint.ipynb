{
 "cells": [
  {
   "cell_type": "code",
   "execution_count": 1,
   "id": "edb99666",
   "metadata": {},
   "outputs": [],
   "source": [
    "# Import libraries\n",
    "import pandas as pd\n",
    "import os\n",
    "import numpy as np\n",
    "\n",
    "# Set working directory\n",
    "os.chdir('C:\\\\Users\\\\aaron\\\\Desktop\\\\GitHub\\\\Thesis\\\\Python')"
   ]
  },
  {
   "cell_type": "code",
   "execution_count": null,
   "id": "5388c09d",
   "metadata": {},
   "outputs": [],
   "source": [
    "# Import data\n",
    "PenaltiesConceded = pd.read_excel('Datasets/PenaltiesConceded.xlsx')\n",
    "Merge1 = pd.read_excel('Datasets/Merge1.xlsx', dtype = {'Season' : str})\n",
    "\n",
    "# Visualize columns\n",
    "print(PenaltiesConceded.columns)\n",
    "print(Merge1.columns)"
   ]
  },
  {
   "cell_type": "code",
   "execution_count": null,
   "id": "9c9cb6aa",
   "metadata": {},
   "outputs": [],
   "source": [
    "print(PenaltiesConceded['Year'].unique())\n",
    "print(Merge1['Season'].unique())"
   ]
  },
  {
   "cell_type": "code",
   "execution_count": null,
   "id": "09a7e89c",
   "metadata": {},
   "outputs": [],
   "source": [
    "# Merge data\n",
    "FullTeamProbit = pd.merge(PenaltiesConceded, Merge1, on = ['Partido', 'Year'],\n",
    "                         indicator = True, validate = 'many_to_many', how = 'outer')\n",
    "\n",
    "FullTeamProbit = FullTeamProbit.drop(columns = ['Home_Team_x', 'Away_Team_x'])\n",
    "FullTeamProbit = FullTeamProbit.rename(columns = {'Home_Team_y' : 'Home_Team', 'Away_Team_y' : 'Away_Team'})\n",
    "\n",
    "FullTeamProbit = FullTeamProbit.sort_values(by = ['Year', 'Matchweek'])"
   ]
  },
  {
   "cell_type": "code",
   "execution_count": null,
   "id": "dd47ed32",
   "metadata": {},
   "outputs": [],
   "source": [
    "# Set penalty conceded and penalty attempted variables to 0 for years before 2014\n",
    "vars = ['HomePKcon', 'AwayPKcon', 'HomePKatt', 'AwayPKatt']\n",
    "\n",
    "for var in vars:\n",
    "    FullTeamProbit[var] = np.where((FullTeamProbit['Year'] < 2014), \n",
    "                             0, FullTeamProbit[var])\n",
    "    \n",
    "# Replace missing values for total penalties conceded and attempted with 0\n",
    "vars = ['HomeTotPKcon', 'AwayTotPKcon', 'HomeTotPKatt', 'AwayTotPKatt']\n",
    "\n",
    "for var in vars:\n",
    "    FullTeamProbit[var] = np.where((FullTeamProbit[var].isna()),\n",
    "                                  0, FullTeamProbit[var])"
   ]
  },
  {
   "cell_type": "code",
   "execution_count": null,
   "id": "c9e20dc5",
   "metadata": {},
   "outputs": [],
   "source": [
    "# Generate combined penalty concession and attempt variables for home and away teams\n",
    "FullTeamProbit['HomePenConc'] = FullTeamProbit['HomeTotPKcon'] + FullTeamProbit['HomePKcon']\n",
    "FullTeamProbit['AwayPenConc'] = FullTeamProbit['AwayTotPKcon'] + FullTeamProbit['AwayPKcon']\n",
    "FullTeamProbit['HomePenAtt'] = FullTeamProbit['HomeTotPKatt'] + FullTeamProbit['HomePKatt']\n",
    "FullTeamProbit['AwayPenAtt'] = FullTeamProbit['AwayTotPKatt'] + FullTeamProbit['AwayPKatt']"
   ]
  },
  {
   "cell_type": "code",
   "execution_count": null,
   "id": "e57f2c1f",
   "metadata": {},
   "outputs": [],
   "source": [
    "FullTeamProbit.columns"
   ]
  },
  {
   "cell_type": "code",
   "execution_count": null,
   "id": "4f78beb6",
   "metadata": {},
   "outputs": [],
   "source": [
    "# Keep relevant variables and order\n",
    "FullTeamProbit = FullTeamProbit[['Home_Team', 'Away_Team', 'Partido', 'Matchweek', 'Season', \n",
    "                                 'Home_Score', 'Home_Yellow_Cards', 'Home_Red_Cards', 'Away_Score',\n",
    "                                 'Away_Yellow_Cards', 'Away_Red_Cards', 'HomePenConc', 'AwayPenConc',\n",
    "                                 'HomePenAtt', 'AwayPenAtt', 'HomeOff', 'AwayOff', 'Date', 'Home_Fouls',\n",
    "                                 'Away_Fouls', 'AwayFld', 'HomeFld', 'FinalResult', 'HomeEquipo',\n",
    "                                 'HomeAnnual Wages EUR', 'HomeMktValue', 'AwayEquipo', 'AwayAnnual Wages EUR', 'AwayMktValue']]"
   ]
  },
  {
   "cell_type": "code",
   "execution_count": null,
   "id": "108ce580",
   "metadata": {},
   "outputs": [],
   "source": [
    "# Import data\n",
    "MergeFootballLineups = pd.read_excel('Datasets/FootballLineups/MergeFootballLineups.xlsx', \n",
    "                                     dtype = {'Season' : str})"
   ]
  },
  {
   "cell_type": "code",
   "execution_count": null,
   "id": "610aae47",
   "metadata": {},
   "outputs": [],
   "source": []
  },
  {
   "cell_type": "code",
   "execution_count": null,
   "id": "44384974",
   "metadata": {},
   "outputs": [],
   "source": [
    "# Merge\n",
    "FullTeamProbit = pd.merge(FullTeamProbit, MergeFootballLineups, on = ['Partido', 'Season'],\n",
    "                         how = 'outer', validate = 'many_to_many', indicator = True)"
   ]
  },
  {
   "cell_type": "code",
   "execution_count": null,
   "id": "91a82dab",
   "metadata": {},
   "outputs": [],
   "source": [
    "FullTeamProbit.columns"
   ]
  },
  {
   "cell_type": "code",
   "execution_count": null,
   "id": "6d18e505",
   "metadata": {},
   "outputs": [],
   "source": [
    "# Replace missing values for various game statistics with 0\n",
    "variables = []\n",
    "for var in variables:\n",
    "    FullTeamProbit[var] = np.where( (FullTeamProbit[var].isna()),\n",
    "                                  0, FullTeamProbit[var])"
   ]
  },
  {
   "cell_type": "code",
   "execution_count": null,
   "id": "ada0c465",
   "metadata": {},
   "outputs": [],
   "source": [
    "# Generate total offsides variables by summing individual offsides counts\n",
    "FullTeamProbit['HomeOffs'] = FullTeamProbit['Home_Off'] + FullTeamProbit['HomeOffsides']\n",
    "FullTeamProbit['AwayOffs'] = FullTeamProbit['Away_Off'] + FullTeamProbit['AwayOffsides']"
   ]
  },
  {
   "cell_type": "code",
   "execution_count": null,
   "id": "e4f3b48d",
   "metadata": {},
   "outputs": [],
   "source": [
    "# Drop vars"
   ]
  },
  {
   "cell_type": "code",
   "execution_count": null,
   "id": "2788e508",
   "metadata": {},
   "outputs": [],
   "source": [
    "# Rename variables for clarity\n",
    "FullTeamProbit = FullTeamProbit.rename(columns = {'Home_Score' : 'HomeGoals', 'Away_Score' : 'AwayGoals',\n",
    "                'Home_Yellow_Cards' : 'HomeYellow', 'Away_Yellow_Cards' : 'AwayYellow',\n",
    "                'Home_Red_Cards' : 'HomeRed', 'Away_Red_Cards' : 'AwayRed',\n",
    "                'Home_Fouls' : 'HomeFouls', 'Away_Fouls' : 'AwayFouls',\n",
    "                'Home_Fld' : 'HomeFld', 'Away_Fld' : 'AwayFld',\n",
    "                'HomeOffs' : 'HomeOffsides', 'AwayOffs' : 'AwayOffsides'})"
   ]
  },
  {
   "cell_type": "code",
   "execution_count": null,
   "id": "d0ce89eb",
   "metadata": {},
   "outputs": [],
   "source": [
    "# Order"
   ]
  },
  {
   "cell_type": "code",
   "execution_count": null,
   "id": "fb79f690",
   "metadata": {},
   "outputs": [],
   "source": [
    "# Define variables and rename\n",
    "FullTeamProbit['Jornada'] = FullTeamProbit['Matchweek']\n",
    "\n",
    "FullTeamProbit = FullTeamProbit.rename(columns = {'Home_Team' : 'hometeam', \n",
    "                                                  'Away_Team' : 'awayteam'})"
   ]
  },
  {
   "cell_type": "code",
   "execution_count": null,
   "id": "0ff642a3",
   "metadata": {},
   "outputs": [],
   "source": []
  },
  {
   "cell_type": "code",
   "execution_count": null,
   "id": "5e50a880",
   "metadata": {},
   "outputs": [],
   "source": [
    "# Define Year variable\n",
    "season_to_year = {\n",
    "    '9899': 1998, '9900': 1999, '0001': 2000, '0102': 2001, '0203': 2002, \n",
    "    '0304': 2003, '0405': 2004, '0506': 2005, '0607': 2006, '0708': 2007, \n",
    "    '0809': 2008, '0910': 2009, '1011': 2010, '1112': 2011, '1213': 2012, \n",
    "    '1314': 2013, '1415': 2014, '1516': 2015, '1617': 2016, '1718': 2017, \n",
    "    '1819': 2018, '1920': 2019, '2021': 2020, '2122': 2021\n",
    "}\n",
    "\n",
    "FullTeamProbit['Year'] = FullTeamProbit['Season'].map(season_to_year)"
   ]
  },
  {
   "cell_type": "code",
   "execution_count": null,
   "id": "a8a57b67",
   "metadata": {},
   "outputs": [],
   "source": [
    "#before dropping it, display the obs\n",
    "#FullTeamProbit = FullTeamProbit[(~FullTeamProbit['hometeam'].isna())]"
   ]
  },
  {
   "cell_type": "code",
   "execution_count": null,
   "id": "931a3a2c",
   "metadata": {},
   "outputs": [],
   "source": [
    "# Save data\n",
    "FullTeamProbit.to_excel('FullTeamProbit.xlsx')"
   ]
  },
  {
   "cell_type": "code",
   "execution_count": null,
   "id": "71fb0146",
   "metadata": {},
   "outputs": [],
   "source": [
    "# Merge data\n",
    "Attendance9821R = pd.read_excel('Datasets/TRANSFERMKT/Attendance9821R.xlsx')\n",
    "ODDS = pd.read_excel('Datasets/odds.xlsx')\n",
    "\n",
    "###MERGE"
   ]
  },
  {
   "cell_type": "code",
   "execution_count": null,
   "id": "b87a07cb",
   "metadata": {},
   "outputs": [],
   "source": [
    "# Keep relevant variables after merging and reorder and sort\n"
   ]
  },
  {
   "cell_type": "code",
   "execution_count": null,
   "id": "e5f3cd44",
   "metadata": {},
   "outputs": [],
   "source": [
    "# Rename variables for clarity\n",
    "FullTeamProbit = FullTeamProbit.rename(columns = {'hometeam' : 'HomeTeam', \n",
    "                                    'awayteam' : 'AwayTeam', 'Attendance' : 'AttendanceTransfMkt'})"
   ]
  },
  {
   "cell_type": "code",
   "execution_count": null,
   "id": "2b581e6a",
   "metadata": {},
   "outputs": [],
   "source": [
    "# Save data\n",
    "FullTeamProbit.to_excel('Datasets/FullTeamProbit.xlsx')"
   ]
  },
  {
   "cell_type": "markdown",
   "id": "b9c7ac67",
   "metadata": {},
   "source": [
    "# "
   ]
  },
  {
   "cell_type": "code",
   "execution_count": null,
   "id": "f4407482",
   "metadata": {},
   "outputs": [],
   "source": [
    "# Import data\n",
    "Final1 = pd.read_excel('Datasets/FullTeamProbit.xlsx')"
   ]
  },
  {
   "cell_type": "code",
   "execution_count": null,
   "id": "0a530a98",
   "metadata": {},
   "outputs": [],
   "source": [
    "# Duplicate obs / Reshape"
   ]
  },
  {
   "cell_type": "code",
   "execution_count": null,
   "id": "8bbe86ce",
   "metadata": {},
   "outputs": [],
   "source": []
  },
  {
   "cell_type": "code",
   "execution_count": null,
   "id": "c1ca8d41",
   "metadata": {},
   "outputs": [],
   "source": []
  },
  {
   "cell_type": "code",
   "execution_count": null,
   "id": "6bde732f",
   "metadata": {},
   "outputs": [],
   "source": []
  },
  {
   "cell_type": "code",
   "execution_count": null,
   "id": "452f2644",
   "metadata": {},
   "outputs": [],
   "source": []
  },
  {
   "cell_type": "code",
   "execution_count": null,
   "id": "4b2dfc40",
   "metadata": {},
   "outputs": [],
   "source": []
  },
  {
   "cell_type": "code",
   "execution_count": null,
   "id": "2ba8e5c6",
   "metadata": {},
   "outputs": [],
   "source": []
  },
  {
   "cell_type": "code",
   "execution_count": null,
   "id": "0068601c",
   "metadata": {},
   "outputs": [],
   "source": []
  },
  {
   "cell_type": "code",
   "execution_count": null,
   "id": "75de2416",
   "metadata": {},
   "outputs": [],
   "source": [
    "# Handle missing data for Fouls, Fld, and Offsides by setting them to missing if the year is before 2005\n",
    "vars = ['Fouls', 'Fld', 'Offsides']\n",
    "\n",
    "for var in vars:\n",
    "    Final1[var] = np.where((Final1['Year'] < 2005), float['nan'], Final1[var])"
   ]
  },
  {
   "cell_type": "code",
   "execution_count": null,
   "id": "77baefca",
   "metadata": {},
   "outputs": [],
   "source": [
    "# Generate variable for difference in bookmaker probabilities (iwh - iwa) based on Local status\n",
    "Final1['DifBookMkr'] = np.where( (DifBookMkr['Local'] == 1), \n",
    "                                Final1['iwh'] - Final1['iwa'],\n",
    "                                Final1['iwa'] - Final1['iwh'])"
   ]
  },
  {
   "cell_type": "code",
   "execution_count": null,
   "id": "f5d7615d",
   "metadata": {},
   "outputs": [],
   "source": [
    "# Using the Buraimo methodology, generate variables for bookmaker probabilities adjusted by epsilon\n",
    "Final1['SumBooker'] = Final1['iwa'] + Final1['iwd'] + Final1['iwh']\n",
    "Final1['epsilon'] = Final1['SumBooker']-1\n",
    "\n",
    "Final1['iwhe'] = Final1['iwh'] / Final1['epsilon']\n",
    "Final1['iwde'] = Final1['iwd'] / Final1['epsilon']\n",
    "Final1['iwae'] = Final1['iwa'] / Final1['epsilon']"
   ]
  },
  {
   "cell_type": "code",
   "execution_count": null,
   "id": "ee7c5062",
   "metadata": {},
   "outputs": [],
   "source": [
    "# Generate difference in adjusted bookmaker probabilities based on Local status\n",
    "Final1['DifBookMaker'] = np.where( (DifBookMkr['Local'] == 1), \n",
    "                                Final1['iwhe'] - Final1['iwae'],\n",
    "                                Final1['iwae'] - Final1['iwhe'])"
   ]
  },
  {
   "cell_type": "code",
   "execution_count": null,
   "id": "1fa7e904",
   "metadata": {},
   "outputs": [],
   "source": [
    "# Generate the square of the quality proxy variables\n",
    "variables = ['DifMktValue', 'DifBookMkr', 'DifBookMaker']\n",
    "\n",
    "for var in variables:\n",
    "    aux = 'Sq' + var\n",
    "    \n",
    "    Final1[aux] = Final1[var]^2"
   ]
  },
  {
   "cell_type": "code",
   "execution_count": null,
   "id": "526c8680",
   "metadata": {},
   "outputs": [],
   "source": [
    "# Generate a variable to indicate if any payments were made during the years 2001-2017\n",
    "Final1['TdePagos'] = np.where( (Final1['Year'] > 2000) & (Final1['Year'] < 2018),\n",
    "                             1, 0)"
   ]
  },
  {
   "cell_type": "markdown",
   "id": "c615a575",
   "metadata": {},
   "source": [
    "# GENERATE TREATMENT VARIABLES"
   ]
  },
  {
   "cell_type": "code",
   "execution_count": null,
   "id": "2d062f5d",
   "metadata": {},
   "outputs": [],
   "source": [
    "# Variable indicating if the team is Barcelona (Equipo == 6)\n",
    "Final1['Barca'] = np.where((Final1['Equipo'] == 6), 1, 0)\n",
    "\n",
    "# Variable indicating if the team is either Barcelona or Real Madrid (Equipo == 6 or 32)\n",
    "Final1['BarcaRM'] = np.where((Final1['Equipo'] == 6) | (Final1['Equipo'] == 32),\n",
    "                             1, 0)\n",
    "\n",
    "# Generate variable indicating whether a club paid the CTA (1 for Barcelona during payment years)\n",
    "Final1['Bribe'] = np.where( (Final1['Barca'] == 1) & ((2000 < Final1['Year'] < 2018)), \n",
    "                          1, 0)"
   ]
  },
  {
   "cell_type": "code",
   "execution_count": null,
   "id": "27cfb5b1",
   "metadata": {},
   "outputs": [],
   "source": []
  },
  {
   "cell_type": "code",
   "execution_count": null,
   "id": "93936f0e",
   "metadata": {},
   "outputs": [],
   "source": [
    "Final1.to_excel('Datasets/Final1.xlsx')"
   ]
  },
  {
   "cell_type": "markdown",
   "id": "357fc17c",
   "metadata": {},
   "source": [
    "# Attendance"
   ]
  },
  {
   "cell_type": "code",
   "execution_count": 25,
   "id": "3a91cd8c",
   "metadata": {},
   "outputs": [],
   "source": [
    "# Once performed this once, there's no need to perform this again as it is time consuming\n",
    "\n",
    "dataframes = {}\n",
    "\n",
    "for i in range(1, 101):\n",
    "    # Define the path file and file path\n",
    "    filename = f'FTBLNP{i}.csv'\n",
    "    filepath = os.path.join(r'Data\\FootballLineups\\Attendance', filename)\n",
    "\n",
    "    # Import data\n",
    "    AttendanceFTBLNP = pd.read_csv(filepath, encoding='ISO-8859-1')\n",
    "    \n",
    "    dataframes[filename] = AttendanceFTBLNP\n",
    "    \n",
    "#print(dataframes.keys())"
   ]
  },
  {
   "cell_type": "code",
   "execution_count": 26,
   "id": "b3bec479",
   "metadata": {},
   "outputs": [
    {
     "data": {
      "text/plain": [
       "8007"
      ]
     },
     "execution_count": 26,
     "metadata": {},
     "output_type": "execute_result"
    }
   ],
   "source": [
    "# Concat dictionary entries in one dataframe\n",
    "AttendanceFTBLNP = pd.concat(dataframes.values(), ignore_index = True)\n",
    "AttendanceFTBLNP.reset_index(inplace = True)\n",
    "AttendanceFTBLNP = AttendanceFTBLNP.drop(columns = 'Unnamed: 0')\n",
    "len(AttendanceFTBLNP)"
   ]
  },
  {
   "cell_type": "code",
   "execution_count": 28,
   "id": "a0b047f1",
   "metadata": {},
   "outputs": [],
   "source": [
    "AuxAttendance = AttendanceFTBLNP['Text'].str.split(' - ', expand = True)\n",
    "AuxAttendance.reset_index(inplace = True)"
   ]
  },
  {
   "cell_type": "code",
   "execution_count": 30,
   "id": "e1342b8b",
   "metadata": {},
   "outputs": [],
   "source": [
    "AttendanceFTBLNP = pd.merge(AttendanceFTBLNP, AuxAttendance, on = 'index',\n",
    "                           validate = 'one_to_one')"
   ]
  },
  {
   "cell_type": "code",
   "execution_count": 32,
   "id": "9af16a44",
   "metadata": {},
   "outputs": [],
   "source": [
    "AttendanceFTBLNP = AttendanceFTBLNP[AttendanceFTBLNP[0] != 'character(0)']\n",
    "\n",
    "AttendanceFTBLNP[1] = AttendanceFTBLNP[1].str.replace(' Matchday', 'La Liga (Matchday')"
   ]
  },
  {
   "cell_type": "code",
   "execution_count": 33,
   "id": "d5765be0",
   "metadata": {},
   "outputs": [],
   "source": [
    "rango = ['0', '1', '2', '3', '4', '5', '6', '7', '8', '9']\n",
    "\n",
    "for i in rango:\n",
    "    aux1 = i + ' '\n",
    "    auxi = i + ')'\n",
    "    auxs = ' ' + i + ' '\n",
    "    \n",
    "    AttendanceFTBLNP[1] = AttendanceFTBLNP[1].str.replace(aux1, auxi)\n",
    "    AttendanceFTBLNP[0] = AttendanceFTBLNP[0].str.replace(auxs, '')"
   ]
  },
  {
   "cell_type": "code",
   "execution_count": 43,
   "id": "962c5498",
   "metadata": {},
   "outputs": [
    {
     "data": {
      "text/plain": [
       "0       2021\n",
       "1       2021\n",
       "2       2021\n",
       "3       2021\n",
       "4       2021\n",
       "        ... \n",
       "8002    2019\n",
       "8003    2019\n",
       "8004    2019\n",
       "8005    2019\n",
       "8006    2019\n",
       "Name: Year, Length: 7980, dtype: int32"
      ]
     },
     "execution_count": 43,
     "metadata": {},
     "output_type": "execute_result"
    }
   ],
   "source": [
    "# Generate Year data\n",
    "AttendanceFTBLNP['Year'] = AttendanceFTBLNP[0].str[-10: -6]\n",
    "AttendanceFTBLNP['Year'].astype(int)"
   ]
  },
  {
   "cell_type": "code",
   "execution_count": 45,
   "id": "51d1508d",
   "metadata": {},
   "outputs": [
    {
     "ename": "TypeError",
     "evalue": "bad operand type for unary ~: 'NoneType'",
     "output_type": "error",
     "traceback": [
      "\u001b[1;31m---------------------------------------------------------------------------\u001b[0m",
      "\u001b[1;31mTypeError\u001b[0m                                 Traceback (most recent call last)",
      "Cell \u001b[1;32mIn[45], line 2\u001b[0m\n\u001b[0;32m      1\u001b[0m \u001b[38;5;66;03m# Generate Attendance data\u001b[39;00m\n\u001b[1;32m----> 2\u001b[0m AuxAttendance[\u001b[38;5;241m3\u001b[39m] \u001b[38;5;241m=\u001b[39m np\u001b[38;5;241m.\u001b[39mwhere( (\u001b[38;5;241;43m~\u001b[39;49m\u001b[43mAuxAttendance\u001b[49m\u001b[43m[\u001b[49m\u001b[38;5;241;43m3\u001b[39;49m\u001b[43m]\u001b[49m\u001b[38;5;241;43m.\u001b[39;49m\u001b[43mstr\u001b[49m\u001b[38;5;241;43m.\u001b[39;49m\u001b[43mcontains\u001b[49m\u001b[43m(\u001b[49m\u001b[38;5;124;43m'\u001b[39;49m\u001b[38;5;124;43mAttendance\u001b[39;49m\u001b[38;5;124;43m'\u001b[39;49m\u001b[43m)\u001b[49m) \u001b[38;5;241m|\u001b[39m \n\u001b[0;32m      3\u001b[0m                               (\u001b[38;5;241m~\u001b[39mAuxAttendance[\u001b[38;5;241m3\u001b[39m]\u001b[38;5;241m.\u001b[39mstr\u001b[38;5;241m.\u001b[39mcontains(\u001b[38;5;124m'\u001b[39m\u001b[38;5;124mReferee\u001b[39m\u001b[38;5;124m'\u001b[39m)), \n\u001b[0;32m      4\u001b[0m                                \u001b[38;5;124m'\u001b[39m\u001b[38;5;124m'\u001b[39m, AuxAttendance[\u001b[38;5;241m3\u001b[39m] )\n\u001b[0;32m      6\u001b[0m \u001b[38;5;66;03m#CHANGE CONDITIONS, NOT WORKING\u001b[39;00m\n\u001b[0;32m      8\u001b[0m AuxAttendance[\u001b[38;5;241m3\u001b[39m] \u001b[38;5;241m=\u001b[39m AuxAttendance[\u001b[38;5;241m3\u001b[39m]\u001b[38;5;241m.\u001b[39mstr\u001b[38;5;241m.\u001b[39mreplace(\u001b[38;5;124m'\u001b[39m\u001b[38;5;124mAttendance: \u001b[39m\u001b[38;5;124m'\u001b[39m, \u001b[38;5;124m'\u001b[39m\u001b[38;5;124m'\u001b[39m)\n",
      "File \u001b[1;32m~\\anaconda3\\lib\\site-packages\\pandas\\core\\generic.py:1522\u001b[0m, in \u001b[0;36mNDFrame.__invert__\u001b[1;34m(self)\u001b[0m\n\u001b[0;32m   1518\u001b[0m \u001b[38;5;28;01mif\u001b[39;00m \u001b[38;5;129;01mnot\u001b[39;00m \u001b[38;5;28mself\u001b[39m\u001b[38;5;241m.\u001b[39msize:\n\u001b[0;32m   1519\u001b[0m     \u001b[38;5;66;03m# inv fails with 0 len\u001b[39;00m\n\u001b[0;32m   1520\u001b[0m     \u001b[38;5;28;01mreturn\u001b[39;00m \u001b[38;5;28mself\u001b[39m\n\u001b[1;32m-> 1522\u001b[0m new_data \u001b[38;5;241m=\u001b[39m \u001b[38;5;28;43mself\u001b[39;49m\u001b[38;5;241;43m.\u001b[39;49m\u001b[43m_mgr\u001b[49m\u001b[38;5;241;43m.\u001b[39;49m\u001b[43mapply\u001b[49m\u001b[43m(\u001b[49m\u001b[43moperator\u001b[49m\u001b[38;5;241;43m.\u001b[39;49m\u001b[43minvert\u001b[49m\u001b[43m)\u001b[49m\n\u001b[0;32m   1523\u001b[0m \u001b[38;5;28;01mreturn\u001b[39;00m \u001b[38;5;28mself\u001b[39m\u001b[38;5;241m.\u001b[39m_constructor(new_data)\u001b[38;5;241m.\u001b[39m__finalize__(\u001b[38;5;28mself\u001b[39m, method\u001b[38;5;241m=\u001b[39m\u001b[38;5;124m\"\u001b[39m\u001b[38;5;124m__invert__\u001b[39m\u001b[38;5;124m\"\u001b[39m)\n",
      "File \u001b[1;32m~\\anaconda3\\lib\\site-packages\\pandas\\core\\internals\\managers.py:350\u001b[0m, in \u001b[0;36mBaseBlockManager.apply\u001b[1;34m(self, f, align_keys, ignore_failures, **kwargs)\u001b[0m\n\u001b[0;32m    348\u001b[0m \u001b[38;5;28;01mtry\u001b[39;00m:\n\u001b[0;32m    349\u001b[0m     \u001b[38;5;28;01mif\u001b[39;00m callable(f):\n\u001b[1;32m--> 350\u001b[0m         applied \u001b[38;5;241m=\u001b[39m b\u001b[38;5;241m.\u001b[39mapply(f, \u001b[38;5;241m*\u001b[39m\u001b[38;5;241m*\u001b[39mkwargs)\n\u001b[0;32m    351\u001b[0m     \u001b[38;5;28;01melse\u001b[39;00m:\n\u001b[0;32m    352\u001b[0m         applied \u001b[38;5;241m=\u001b[39m \u001b[38;5;28mgetattr\u001b[39m(b, f)(\u001b[38;5;241m*\u001b[39m\u001b[38;5;241m*\u001b[39mkwargs)\n",
      "File \u001b[1;32m~\\anaconda3\\lib\\site-packages\\pandas\\core\\internals\\blocks.py:351\u001b[0m, in \u001b[0;36mBlock.apply\u001b[1;34m(self, func, **kwargs)\u001b[0m\n\u001b[0;32m    345\u001b[0m \u001b[38;5;129m@final\u001b[39m\n\u001b[0;32m    346\u001b[0m \u001b[38;5;28;01mdef\u001b[39;00m \u001b[38;5;21mapply\u001b[39m(\u001b[38;5;28mself\u001b[39m, func, \u001b[38;5;241m*\u001b[39m\u001b[38;5;241m*\u001b[39mkwargs) \u001b[38;5;241m-\u001b[39m\u001b[38;5;241m>\u001b[39m \u001b[38;5;28mlist\u001b[39m[Block]:\n\u001b[0;32m    347\u001b[0m     \u001b[38;5;124;03m\"\"\"\u001b[39;00m\n\u001b[0;32m    348\u001b[0m \u001b[38;5;124;03m    apply the function to my values; return a block if we are not\u001b[39;00m\n\u001b[0;32m    349\u001b[0m \u001b[38;5;124;03m    one\u001b[39;00m\n\u001b[0;32m    350\u001b[0m \u001b[38;5;124;03m    \"\"\"\u001b[39;00m\n\u001b[1;32m--> 351\u001b[0m     result \u001b[38;5;241m=\u001b[39m func(\u001b[38;5;28mself\u001b[39m\u001b[38;5;241m.\u001b[39mvalues, \u001b[38;5;241m*\u001b[39m\u001b[38;5;241m*\u001b[39mkwargs)\n\u001b[0;32m    353\u001b[0m     \u001b[38;5;28;01mreturn\u001b[39;00m \u001b[38;5;28mself\u001b[39m\u001b[38;5;241m.\u001b[39m_split_op_result(result)\n",
      "\u001b[1;31mTypeError\u001b[0m: bad operand type for unary ~: 'NoneType'"
     ]
    }
   ],
   "source": [
    "# Generate Attendance data\n",
    "AuxAttendance[3] = np.where( (~AuxAttendance[3].str.contains('Attendance')) | \n",
    "                              (~AuxAttendance[3].str.contains('Referee')), \n",
    "                               '', AuxAttendance[3] )\n",
    "\n",
    "#CHANGE CONDITIONS, NOT WORKING\n",
    "\n",
    "AuxAttendance[3] = AuxAttendance[3].str.replace('Attendance: ', '')\n",
    "\n",
    "#JUST KEEP DIGITS\n",
    "AuxAttendance[3] = AuxAttendance[3].str.replace(+t, '')\n",
    "\n",
    "AuxAttendance[3].astype(int)\n",
    "\n",
    "# RENAME"
   ]
  },
  {
   "cell_type": "code",
   "execution_count": 74,
   "id": "984e856a",
   "metadata": {},
   "outputs": [
    {
     "name": "stderr",
     "output_type": "stream",
     "text": [
      "C:\\Users\\aaron\\AppData\\Local\\Temp\\ipykernel_28116\\1633771106.py:3: FutureWarning: The default value of regex will change from True to False in a future version.\n",
      "  AttendanceFTBLNP[0] = AttendanceFTBLNP[0].str.replace(r'\\d', '')\n"
     ]
    },
    {
     "data": {
      "text/html": [
       "<div>\n",
       "<style scoped>\n",
       "    .dataframe tbody tr th:only-of-type {\n",
       "        vertical-align: middle;\n",
       "    }\n",
       "\n",
       "    .dataframe tbody tr th {\n",
       "        vertical-align: top;\n",
       "    }\n",
       "\n",
       "    .dataframe thead th {\n",
       "        text-align: right;\n",
       "    }\n",
       "</style>\n",
       "<table border=\"1\" class=\"dataframe\">\n",
       "  <thead>\n",
       "    <tr style=\"text-align: right;\">\n",
       "      <th></th>\n",
       "      <th>index</th>\n",
       "      <th>0</th>\n",
       "      <th>1</th>\n",
       "    </tr>\n",
       "  </thead>\n",
       "  <tbody>\n",
       "    <tr>\n",
       "      <th>0</th>\n",
       "      <td>0</td>\n",
       "      <td>Barcelona</td>\n",
       "      <td>Villarreal</td>\n",
       "    </tr>\n",
       "    <tr>\n",
       "      <th>1</th>\n",
       "      <td>1</td>\n",
       "      <td>Real Sociedad</td>\n",
       "      <td>Atletico Madrid</td>\n",
       "    </tr>\n",
       "    <tr>\n",
       "      <th>2</th>\n",
       "      <td>2</td>\n",
       "      <td>Sevilla</td>\n",
       "      <td>Athletic Club</td>\n",
       "    </tr>\n",
       "    <tr>\n",
       "      <th>3</th>\n",
       "      <td>3</td>\n",
       "      <td>Deportivo Alaves</td>\n",
       "      <td>Cadiz</td>\n",
       "    </tr>\n",
       "    <tr>\n",
       "      <th>4</th>\n",
       "      <td>4</td>\n",
       "      <td>Granada CF</td>\n",
       "      <td>Espanyol de Barcelona</td>\n",
       "    </tr>\n",
       "    <tr>\n",
       "      <th>...</th>\n",
       "      <td>...</td>\n",
       "      <td>...</td>\n",
       "      <td>...</td>\n",
       "    </tr>\n",
       "    <tr>\n",
       "      <th>7975</th>\n",
       "      <td>8002</td>\n",
       "      <td>Getafe</td>\n",
       "      <td>Valencia</td>\n",
       "    </tr>\n",
       "    <tr>\n",
       "      <th>7976</th>\n",
       "      <td>8003</td>\n",
       "      <td>Levante</td>\n",
       "      <td>LeganÃ©s</td>\n",
       "    </tr>\n",
       "    <tr>\n",
       "      <th>7977</th>\n",
       "      <td>8004</td>\n",
       "      <td>Deportivo Alaves</td>\n",
       "      <td>Eibar</td>\n",
       "    </tr>\n",
       "    <tr>\n",
       "      <th>7978</th>\n",
       "      <td>8005</td>\n",
       "      <td>Barcelona</td>\n",
       "      <td>Levante</td>\n",
       "    </tr>\n",
       "    <tr>\n",
       "      <th>7979</th>\n",
       "      <td>8006</td>\n",
       "      <td>Sevilla</td>\n",
       "      <td>Deportivo Alaves</td>\n",
       "    </tr>\n",
       "  </tbody>\n",
       "</table>\n",
       "<p>7980 rows × 3 columns</p>\n",
       "</div>"
      ],
      "text/plain": [
       "      index                 0                       1\n",
       "0         0         Barcelona             Villarreal \n",
       "1         1     Real Sociedad        Atletico Madrid \n",
       "2         2           Sevilla          Athletic Club \n",
       "3         3  Deportivo Alaves                  Cadiz \n",
       "4         4        Granada CF  Espanyol de Barcelona \n",
       "...     ...               ...                     ...\n",
       "7975   8002            Getafe               Valencia \n",
       "7976   8003           Levante               LeganÃ©s \n",
       "7977   8004  Deportivo Alaves                  Eibar \n",
       "7978   8005         Barcelona                Levante \n",
       "7979   8006           Sevilla       Deportivo Alaves \n",
       "\n",
       "[7980 rows x 3 columns]"
      ]
     },
     "execution_count": 74,
     "metadata": {},
     "output_type": "execute_result"
    }
   ],
   "source": [
    "# Clean and define team variable \n",
    "AttendanceFTBLNP[0] = AttendanceFTBLNP[0].str.replace('La Liga ', '')\n",
    "AttendanceFTBLNP[0] = AttendanceFTBLNP[0].str.replace(r'\\d', '')\n",
    "AttendanceFTBLNP[0] = AttendanceFTBLNP[0].str.replace('/', '')\n",
    "\n",
    "# Teams\n",
    "Teams = AttendanceFTBLNP[0].str.split(':', expand = True)\n",
    "Teams.reset_index()"
   ]
  },
  {
   "cell_type": "code",
   "execution_count": 78,
   "id": "6eb0392b",
   "metadata": {},
   "outputs": [
    {
     "data": {
      "text/plain": [
       "array(['Barcelona', 'Real Sociedad', 'Sevilla', 'Deportivo Alaves',\n",
       "       'Granada CF', 'Osasuna', 'Elche CF', 'Valencia', 'Real Madrid',\n",
       "       'Rayo Vallecano', 'Athletic Club', 'Atletico Madrid', 'Real Betis',\n",
       "       'Celta Vigo', 'Mallorca', 'Getafe', 'Cadiz', 'Levante',\n",
       "       'Villarreal', 'Espanyol de Barcelona', 'Eibar', 'Huesca',\n",
       "       'Real Valladolid', 'LeganÃ©s', 'Girona', 'Malaga', 'Las Palmas',\n",
       "       'Deportivo La CoruÃ±a', 'Sporting GijÃ³n', 'Real Madrid  ',\n",
       "       'AlmerÃ\\xada', 'CÃ³rdoba CF', 'Real Zaragoza',\n",
       "       'Racing de Santander', 'Hercules', 'Xerez CD', 'Tenerife',\n",
       "       'Numancia', 'Recreativo de Huelva', 'Real Murcia',\n",
       "       'GimnÃ\\xa0stic de Tarragona', 'Albacete'], dtype=object)"
      ]
     },
     "execution_count": 78,
     "metadata": {},
     "output_type": "execute_result"
    }
   ],
   "source": [
    "# Standarize the names of the teams\n",
    "Teams[0].unique()\n",
    "\n",
    "\n",
    "'Ã³' : 'ó',\n",
    "'Ã±' : 'ñ',\n",
    "'Ã\\xa0' : 'à',\n",
    "'Ã©' : 'é'\n"
   ]
  },
  {
   "cell_type": "code",
   "execution_count": 77,
   "id": "21b42cbd",
   "metadata": {},
   "outputs": [
    {
     "ename": "KeyError",
     "evalue": "'index'",
     "output_type": "error",
     "traceback": [
      "\u001b[1;31m---------------------------------------------------------------------------\u001b[0m",
      "\u001b[1;31mKeyError\u001b[0m                                  Traceback (most recent call last)",
      "Cell \u001b[1;32mIn[77], line 2\u001b[0m\n\u001b[0;32m      1\u001b[0m \u001b[38;5;66;03m# Merge data to include the teams\u001b[39;00m\n\u001b[1;32m----> 2\u001b[0m AttendanceFTBLNP \u001b[38;5;241m=\u001b[39m \u001b[43mpd\u001b[49m\u001b[38;5;241;43m.\u001b[39;49m\u001b[43mmerge\u001b[49m\u001b[43m(\u001b[49m\u001b[43mAttendanceFTBLNP\u001b[49m\u001b[43m,\u001b[49m\u001b[43m \u001b[49m\u001b[43mTeams\u001b[49m\u001b[43m,\u001b[49m\u001b[43m \u001b[49m\u001b[43mon\u001b[49m\u001b[43m \u001b[49m\u001b[38;5;241;43m=\u001b[39;49m\u001b[43m \u001b[49m\u001b[38;5;124;43m'\u001b[39;49m\u001b[38;5;124;43mindex\u001b[39;49m\u001b[38;5;124;43m'\u001b[39;49m\u001b[43m,\u001b[49m\n\u001b[0;32m      3\u001b[0m \u001b[43m                           \u001b[49m\u001b[43mvalidate\u001b[49m\u001b[43m \u001b[49m\u001b[38;5;241;43m=\u001b[39;49m\u001b[43m \u001b[49m\u001b[38;5;124;43m'\u001b[39;49m\u001b[38;5;124;43mone_to_one\u001b[39;49m\u001b[38;5;124;43m'\u001b[39;49m\u001b[43m,\u001b[49m\u001b[43m \u001b[49m\u001b[43mindicator\u001b[49m\u001b[43m \u001b[49m\u001b[38;5;241;43m=\u001b[39;49m\u001b[43m \u001b[49m\u001b[38;5;28;43;01mTrue\u001b[39;49;00m\u001b[43m)\u001b[49m\n",
      "File \u001b[1;32m~\\anaconda3\\lib\\site-packages\\pandas\\core\\reshape\\merge.py:110\u001b[0m, in \u001b[0;36mmerge\u001b[1;34m(left, right, how, on, left_on, right_on, left_index, right_index, sort, suffixes, copy, indicator, validate)\u001b[0m\n\u001b[0;32m     93\u001b[0m \u001b[38;5;129m@Substitution\u001b[39m(\u001b[38;5;124m\"\u001b[39m\u001b[38;5;130;01m\\n\u001b[39;00m\u001b[38;5;124mleft : DataFrame or named Series\u001b[39m\u001b[38;5;124m\"\u001b[39m)\n\u001b[0;32m     94\u001b[0m \u001b[38;5;129m@Appender\u001b[39m(_merge_doc, indents\u001b[38;5;241m=\u001b[39m\u001b[38;5;241m0\u001b[39m)\n\u001b[0;32m     95\u001b[0m \u001b[38;5;28;01mdef\u001b[39;00m \u001b[38;5;21mmerge\u001b[39m(\n\u001b[1;32m   (...)\u001b[0m\n\u001b[0;32m    108\u001b[0m     validate: \u001b[38;5;28mstr\u001b[39m \u001b[38;5;241m|\u001b[39m \u001b[38;5;28;01mNone\u001b[39;00m \u001b[38;5;241m=\u001b[39m \u001b[38;5;28;01mNone\u001b[39;00m,\n\u001b[0;32m    109\u001b[0m ) \u001b[38;5;241m-\u001b[39m\u001b[38;5;241m>\u001b[39m DataFrame:\n\u001b[1;32m--> 110\u001b[0m     op \u001b[38;5;241m=\u001b[39m \u001b[43m_MergeOperation\u001b[49m\u001b[43m(\u001b[49m\n\u001b[0;32m    111\u001b[0m \u001b[43m        \u001b[49m\u001b[43mleft\u001b[49m\u001b[43m,\u001b[49m\n\u001b[0;32m    112\u001b[0m \u001b[43m        \u001b[49m\u001b[43mright\u001b[49m\u001b[43m,\u001b[49m\n\u001b[0;32m    113\u001b[0m \u001b[43m        \u001b[49m\u001b[43mhow\u001b[49m\u001b[38;5;241;43m=\u001b[39;49m\u001b[43mhow\u001b[49m\u001b[43m,\u001b[49m\n\u001b[0;32m    114\u001b[0m \u001b[43m        \u001b[49m\u001b[43mon\u001b[49m\u001b[38;5;241;43m=\u001b[39;49m\u001b[43mon\u001b[49m\u001b[43m,\u001b[49m\n\u001b[0;32m    115\u001b[0m \u001b[43m        \u001b[49m\u001b[43mleft_on\u001b[49m\u001b[38;5;241;43m=\u001b[39;49m\u001b[43mleft_on\u001b[49m\u001b[43m,\u001b[49m\n\u001b[0;32m    116\u001b[0m \u001b[43m        \u001b[49m\u001b[43mright_on\u001b[49m\u001b[38;5;241;43m=\u001b[39;49m\u001b[43mright_on\u001b[49m\u001b[43m,\u001b[49m\n\u001b[0;32m    117\u001b[0m \u001b[43m        \u001b[49m\u001b[43mleft_index\u001b[49m\u001b[38;5;241;43m=\u001b[39;49m\u001b[43mleft_index\u001b[49m\u001b[43m,\u001b[49m\n\u001b[0;32m    118\u001b[0m \u001b[43m        \u001b[49m\u001b[43mright_index\u001b[49m\u001b[38;5;241;43m=\u001b[39;49m\u001b[43mright_index\u001b[49m\u001b[43m,\u001b[49m\n\u001b[0;32m    119\u001b[0m \u001b[43m        \u001b[49m\u001b[43msort\u001b[49m\u001b[38;5;241;43m=\u001b[39;49m\u001b[43msort\u001b[49m\u001b[43m,\u001b[49m\n\u001b[0;32m    120\u001b[0m \u001b[43m        \u001b[49m\u001b[43msuffixes\u001b[49m\u001b[38;5;241;43m=\u001b[39;49m\u001b[43msuffixes\u001b[49m\u001b[43m,\u001b[49m\n\u001b[0;32m    121\u001b[0m \u001b[43m        \u001b[49m\u001b[43mindicator\u001b[49m\u001b[38;5;241;43m=\u001b[39;49m\u001b[43mindicator\u001b[49m\u001b[43m,\u001b[49m\n\u001b[0;32m    122\u001b[0m \u001b[43m        \u001b[49m\u001b[43mvalidate\u001b[49m\u001b[38;5;241;43m=\u001b[39;49m\u001b[43mvalidate\u001b[49m\u001b[43m,\u001b[49m\n\u001b[0;32m    123\u001b[0m \u001b[43m    \u001b[49m\u001b[43m)\u001b[49m\n\u001b[0;32m    124\u001b[0m     \u001b[38;5;28;01mreturn\u001b[39;00m op\u001b[38;5;241m.\u001b[39mget_result(copy\u001b[38;5;241m=\u001b[39mcopy)\n",
      "File \u001b[1;32m~\\anaconda3\\lib\\site-packages\\pandas\\core\\reshape\\merge.py:703\u001b[0m, in \u001b[0;36m_MergeOperation.__init__\u001b[1;34m(self, left, right, how, on, left_on, right_on, axis, left_index, right_index, sort, suffixes, indicator, validate)\u001b[0m\n\u001b[0;32m    696\u001b[0m \u001b[38;5;28mself\u001b[39m\u001b[38;5;241m.\u001b[39m_cross \u001b[38;5;241m=\u001b[39m cross_col\n\u001b[0;32m    698\u001b[0m \u001b[38;5;66;03m# note this function has side effects\u001b[39;00m\n\u001b[0;32m    699\u001b[0m (\n\u001b[0;32m    700\u001b[0m     \u001b[38;5;28mself\u001b[39m\u001b[38;5;241m.\u001b[39mleft_join_keys,\n\u001b[0;32m    701\u001b[0m     \u001b[38;5;28mself\u001b[39m\u001b[38;5;241m.\u001b[39mright_join_keys,\n\u001b[0;32m    702\u001b[0m     \u001b[38;5;28mself\u001b[39m\u001b[38;5;241m.\u001b[39mjoin_names,\n\u001b[1;32m--> 703\u001b[0m ) \u001b[38;5;241m=\u001b[39m \u001b[38;5;28;43mself\u001b[39;49m\u001b[38;5;241;43m.\u001b[39;49m\u001b[43m_get_merge_keys\u001b[49m\u001b[43m(\u001b[49m\u001b[43m)\u001b[49m\n\u001b[0;32m    705\u001b[0m \u001b[38;5;66;03m# validate the merge keys dtypes. We may need to coerce\u001b[39;00m\n\u001b[0;32m    706\u001b[0m \u001b[38;5;66;03m# to avoid incompatible dtypes\u001b[39;00m\n\u001b[0;32m    707\u001b[0m \u001b[38;5;28mself\u001b[39m\u001b[38;5;241m.\u001b[39m_maybe_coerce_merge_keys()\n",
      "File \u001b[1;32m~\\anaconda3\\lib\\site-packages\\pandas\\core\\reshape\\merge.py:1162\u001b[0m, in \u001b[0;36m_MergeOperation._get_merge_keys\u001b[1;34m(self)\u001b[0m\n\u001b[0;32m   1160\u001b[0m rk \u001b[38;5;241m=\u001b[39m cast(Hashable, rk)\n\u001b[0;32m   1161\u001b[0m \u001b[38;5;28;01mif\u001b[39;00m rk \u001b[38;5;129;01mis\u001b[39;00m \u001b[38;5;129;01mnot\u001b[39;00m \u001b[38;5;28;01mNone\u001b[39;00m:\n\u001b[1;32m-> 1162\u001b[0m     right_keys\u001b[38;5;241m.\u001b[39mappend(\u001b[43mright\u001b[49m\u001b[38;5;241;43m.\u001b[39;49m\u001b[43m_get_label_or_level_values\u001b[49m\u001b[43m(\u001b[49m\u001b[43mrk\u001b[49m\u001b[43m)\u001b[49m)\n\u001b[0;32m   1163\u001b[0m \u001b[38;5;28;01melse\u001b[39;00m:\n\u001b[0;32m   1164\u001b[0m     \u001b[38;5;66;03m# work-around for merge_asof(right_index=True)\u001b[39;00m\n\u001b[0;32m   1165\u001b[0m     right_keys\u001b[38;5;241m.\u001b[39mappend(right\u001b[38;5;241m.\u001b[39mindex)\n",
      "File \u001b[1;32m~\\anaconda3\\lib\\site-packages\\pandas\\core\\generic.py:1850\u001b[0m, in \u001b[0;36mNDFrame._get_label_or_level_values\u001b[1;34m(self, key, axis)\u001b[0m\n\u001b[0;32m   1844\u001b[0m     values \u001b[38;5;241m=\u001b[39m (\n\u001b[0;32m   1845\u001b[0m         \u001b[38;5;28mself\u001b[39m\u001b[38;5;241m.\u001b[39maxes[axis]\n\u001b[0;32m   1846\u001b[0m         \u001b[38;5;241m.\u001b[39mget_level_values(key)  \u001b[38;5;66;03m# type: ignore[assignment]\u001b[39;00m\n\u001b[0;32m   1847\u001b[0m         \u001b[38;5;241m.\u001b[39m_values\n\u001b[0;32m   1848\u001b[0m     )\n\u001b[0;32m   1849\u001b[0m \u001b[38;5;28;01melse\u001b[39;00m:\n\u001b[1;32m-> 1850\u001b[0m     \u001b[38;5;28;01mraise\u001b[39;00m \u001b[38;5;167;01mKeyError\u001b[39;00m(key)\n\u001b[0;32m   1852\u001b[0m \u001b[38;5;66;03m# Check for duplicates\u001b[39;00m\n\u001b[0;32m   1853\u001b[0m \u001b[38;5;28;01mif\u001b[39;00m values\u001b[38;5;241m.\u001b[39mndim \u001b[38;5;241m>\u001b[39m \u001b[38;5;241m1\u001b[39m:\n",
      "\u001b[1;31mKeyError\u001b[0m: 'index'"
     ]
    }
   ],
   "source": [
    "# Merge data to include the teams\n",
    "AttendanceFTBLNP = pd.merge(AttendanceFTBLNP, Teams, on = 'index',\n",
    "                           validate = 'one_to_one', indicator = True)"
   ]
  },
  {
   "cell_type": "code",
   "execution_count": null,
   "id": "9cd60a0e",
   "metadata": {},
   "outputs": [],
   "source": [
    "# We will need to expand the data and duplicate obs"
   ]
  },
  {
   "cell_type": "code",
   "execution_count": null,
   "id": "572d040c",
   "metadata": {},
   "outputs": [],
   "source": [
    "# Encode data"
   ]
  },
  {
   "cell_type": "code",
   "execution_count": null,
   "id": "bdf695a2",
   "metadata": {},
   "outputs": [],
   "source": [
    "# Adjust attendance variable\n",
    "AttendanceFTBLNP[] = np.where( (AttendanceFTBLNP['Year'] == 2020) & (AttendanceFTBLNP['Matchweek'] < 37),\n",
    "                             0, AttendanceFTBLNP[])\n",
    "\n",
    "AttendanceFTBLNP[] = np.where( (AttendanceFTBLNP['Year'] == 2020) & ( AttendanceFTBLNP[].isna() ),\n",
    "                             0, AttendanceFTBLNP[])"
   ]
  },
  {
   "cell_type": "code",
   "execution_count": null,
   "id": "e5db7876",
   "metadata": {},
   "outputs": [],
   "source": [
    "# Keep and order variables\n",
    "AttendanceFTBLNP = AttendanceFTBLNP[AttendanceFTBLNP['Year', 'Matchweek', 'Equipo', AttendanceFTBLNPxxx]]"
   ]
  },
  {
   "cell_type": "code",
   "execution_count": null,
   "id": "64a74dad",
   "metadata": {},
   "outputs": [],
   "source": [
    "# Merge with other datasets"
   ]
  },
  {
   "cell_type": "code",
   "execution_count": null,
   "id": "fde12678",
   "metadata": {},
   "outputs": [],
   "source": [
    "# Minor adjustments\n",
    "FinalCorr['YellowContra'] = np.where(( FinalCorr[] == 'both' ),\n",
    "                                     FinalCorr['YellowContra'] - FinalCorr['SecYCrdHOME'],\n",
    "                                      FinalCorr['YellowContra'] )\n",
    "\n",
    "FinalCorr['YellowContra'] = np.where(( FinalCorr[] == 'both' ),\n",
    "                                     FinalCorr['YellowContra'] - FinalCorr['SecYCrdAWAY'],\n",
    "                                      FinalCorr['YellowContra'] )"
   ]
  },
  {
   "cell_type": "code",
   "execution_count": null,
   "id": "b6928984",
   "metadata": {},
   "outputs": [],
   "source": []
  },
  {
   "cell_type": "code",
   "execution_count": null,
   "id": "70f084b1",
   "metadata": {},
   "outputs": [],
   "source": [
    "FinalCorr.reset_index()"
   ]
  },
  {
   "cell_type": "code",
   "execution_count": 60,
   "id": "96eb353a",
   "metadata": {},
   "outputs": [],
   "source": [
    "AttendanceFTBLNP.to_excel('Datasets/AttendanceFTBLNP.xlsx')"
   ]
  }
 ],
 "metadata": {
  "kernelspec": {
   "display_name": "Python 3 (ipykernel)",
   "language": "python",
   "name": "python3"
  },
  "language_info": {
   "codemirror_mode": {
    "name": "ipython",
    "version": 3
   },
   "file_extension": ".py",
   "mimetype": "text/x-python",
   "name": "python",
   "nbconvert_exporter": "python",
   "pygments_lexer": "ipython3",
   "version": "3.10.9"
  }
 },
 "nbformat": 4,
 "nbformat_minor": 5
}
