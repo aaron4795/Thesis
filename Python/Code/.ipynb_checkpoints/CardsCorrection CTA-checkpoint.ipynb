{
 "cells": [
  {
   "cell_type": "code",
   "execution_count": null,
   "id": "8ea59f85",
   "metadata": {},
   "outputs": [],
   "source": []
  },
  {
   "cell_type": "code",
   "execution_count": null,
   "id": "f8272689",
   "metadata": {},
   "outputs": [],
   "source": []
  },
  {
   "cell_type": "code",
   "execution_count": null,
   "id": "69cc6415",
   "metadata": {},
   "outputs": [],
   "source": [
    "'Málaga CF SAD' : 'Málaga', 'Villarreal CF SAD' : 'Villarreal', \n",
    "'RCD Espanyol de Barcelona SAD' : 'Espanyol', 'Real Zaragoza SAD' : 'Zaragoza', \n",
    "'FC Barcelona' : 'Barcelona', 'Real Sociedad de Fútbol SAD' : 'Real Sociedad', \n",
    "'Real Betis Balompié SAD' : 'Betis', 'Real Madrid CF' : 'Real Madrid', \n",
    "'Sevilla FC SAD' : 'Sevilla', 'Club Atlético de Madrid SAD' : 'Atlético Madrid', \n",
    "'Real Valladolid CF SAD' : 'Valladolid', 'Albacete Balompié SAD' : 'Albacete', \n",
    "'RC Deportivo' : 'Deportivo La Coruña', 'RC Celta de Vigo SAD' : 'Celta Vigo', \n",
    "'Club Atlético Osasuna' : 'Osasuna', 'Real Murcia CF' : 'Real Murcia', \n",
    "'Real Racing Club de Santander SAD' : 'Racing Santander', \n",
    "'Athletic Club' : 'Athletic Club', 'Valencia CF SAD' : 'Valencia', \n",
    "'RCD Mallorca SAD' : 'Mallorca', 'Levante UD SAD' : 'Levante', \n",
    "'Getafe CF SAD' : 'Getafe', 'CD Numancia de Soria' : 'Numancia', \n",
    "'Cádiz CF SAD' : 'Cádiz', 'Deportivo Alavés SAD' : 'Alavés', \n",
    "'RC Recreativo de Huelva SAD' : 'Recreativo', \n",
    "'Gimnàstic de Tarragona' : 'Gimnàstic', 'UD Almería SAD' : 'Almería', \n",
    "'Real Sporting de Gijón SAD' : 'Sporting Gijón', \n",
    "'Xerez C.D. SAD' : 'Xerez', 'CD Tenerife SAD' : 'Tenerife', \n",
    "'Hércules de Alicante CF SAD' : 'Hércules', \n",
    "'Granada CF SAD' : 'Granada', 'Rayo Vallecano de Madrid SAD' : 'Rayo Vallecano', \n",
    "'Elche CF SAD' : 'Elche', 'Córdoba CF' : 'Córdoba', \n",
    "'SD Eibar SAD' : 'Eibar', 'UD Las Palmas SAD' : 'Las Palmas', \n",
    "'CD Leganés SAD' : 'Leganés',"
   ]
  }
 ],
 "metadata": {
  "kernelspec": {
   "display_name": "Python 3 (ipykernel)",
   "language": "python",
   "name": "python3"
  },
  "language_info": {
   "codemirror_mode": {
    "name": "ipython",
    "version": 3
   },
   "file_extension": ".py",
   "mimetype": "text/x-python",
   "name": "python",
   "nbconvert_exporter": "python",
   "pygments_lexer": "ipython3",
   "version": "3.10.9"
  }
 },
 "nbformat": 4,
 "nbformat_minor": 5
}
