{
 "cells": [
  {
   "cell_type": "code",
   "execution_count": 2,
   "id": "edb99666",
   "metadata": {},
   "outputs": [],
   "source": [
    "# Import libraries\n",
    "import pandas as pd\n",
    "import os\n",
    "import numpy as np\n",
    "\n",
    "# Set working directory\n",
    "os.chdir('C:\\\\Users\\\\aaron\\\\Desktop\\\\GitHub\\\\Thesis\\\\Python')"
   ]
  },
  {
   "cell_type": "code",
   "execution_count": 2,
   "id": "5388c09d",
   "metadata": {},
   "outputs": [],
   "source": [
    "# Import data\n",
    "PenaltiesConceded = pd.read_excel('Datasets/PenaltiesConceded.xlsx')\n",
    "Merge1 = pd.read_excel('Datasets/Merge1.xlsx')"
   ]
  },
  {
   "cell_type": "code",
   "execution_count": 3,
   "id": "91a82dab",
   "metadata": {},
   "outputs": [
    {
     "data": {
      "text/plain": [
       "Index(['Year', 'Matchday', 'Home_Team', 'Away_Team', 'HomeTotPKcon',\n",
       "       'AwayTotPKcon', 'HomeTotPKatt', 'AwayTotPKatt', 'Partido'],\n",
       "      dtype='object')"
      ]
     },
     "execution_count": 3,
     "metadata": {},
     "output_type": "execute_result"
    }
   ],
   "source": [
    "PenaltiesConceded.columns"
   ]
  },
  {
   "cell_type": "code",
   "execution_count": 4,
   "id": "dd47ed32",
   "metadata": {},
   "outputs": [
    {
     "data": {
      "text/plain": [
       "Index(['Year', 'Matchweek', 'Season', 'Home_Team', 'Away_Team', 'Partido',\n",
       "       'Home_Score', 'Home_Yellow_Cards', 'Home_Red_Cards', 'Away_Score',\n",
       "       'Away_Yellow_Cards', 'Away_Red_Cards', 'HomeOff', 'AwayOff',\n",
       "       'HomePKcon', 'AwayPKcon', 'HomePK', 'AwayPK', 'HomePKatt', 'AwayPKatt',\n",
       "       'Date', 'Home_Fouls', 'Away_Fouls', 'AwayFld', 'HomeFld', 'FinalResult',\n",
       "       'HomeEquipo', 'HomeAnnual Wages EUR', 'HomeMktValue', 'AwayEquipo',\n",
       "       'AwayAnnual Wages EUR', 'AwayMktValue'],\n",
       "      dtype='object')"
      ]
     },
     "execution_count": 4,
     "metadata": {},
     "output_type": "execute_result"
    }
   ],
   "source": [
    "Merge1.columns"
   ]
  },
  {
   "cell_type": "code",
   "execution_count": 5,
   "id": "09a7e89c",
   "metadata": {},
   "outputs": [],
   "source": [
    "FullTeamProbit = pd.merge(PenaltiesConceded, Merge1, on = ['Partido', 'Year'],\n",
    "                         indicator = True, validate = 'many_to_many', how = 'outer')\n",
    "\n",
    "FullTeamProbit = FullTeamProbit.drop(columns = ['Home_Team_y', 'Away_Team_y'])\n",
    "FullTeamProbit = FullTeamProbit.rename(columns = {'Home_Team_x' : 'Home_Team', 'Away_Team_x' : 'Away_Team'})"
   ]
  },
  {
   "cell_type": "code",
   "execution_count": 6,
   "id": "8aa1a757",
   "metadata": {},
   "outputs": [],
   "source": [
    "FullTeamProbit = FullTeamProbit.sort_values(by = ['Year', 'Matchweek'])"
   ]
  },
  {
   "cell_type": "code",
   "execution_count": 7,
   "id": "931a3a2c",
   "metadata": {},
   "outputs": [],
   "source": [
    "FullTeamProbit.to_excel('FullTeamProbit.xlsx')"
   ]
  },
  {
   "cell_type": "code",
   "execution_count": null,
   "id": "6d18e505",
   "metadata": {},
   "outputs": [],
   "source": []
  },
  {
   "cell_type": "code",
   "execution_count": 8,
   "id": "c9e20dc5",
   "metadata": {},
   "outputs": [
    {
     "ename": "SyntaxError",
     "evalue": "invalid syntax (3852872462.py, line 1)",
     "output_type": "error",
     "traceback": [
      "\u001b[1;36m  Cell \u001b[1;32mIn[8], line 1\u001b[1;36m\u001b[0m\n\u001b[1;33m    // Generate combined penalty concession and attempt variables for home and away teams\u001b[0m\n\u001b[1;37m    ^\u001b[0m\n\u001b[1;31mSyntaxError\u001b[0m\u001b[1;31m:\u001b[0m invalid syntax\n"
     ]
    }
   ],
   "source": [
    "# Generate combined penalty concession and attempt variables for home and away teams\n",
    "FullTeamProbit['HomePenConc'] = FullTeamProbit['HomeTotPKcon'] + FullTeamProbit['Home_PKcon']\n",
    "FullTeamProbit['AwayPenConc'] = FullTeamProbit['AwayTotPKcon'] + FullTeamProbit['Away_PKcon']\n",
    "FullTeamProbit['HomePenAtt'] = FullTeamProbit['HomeTotPKatt'] + FullTeamProbit['Home_PKatt']\n",
    "FullTeamProbit['AwayPenAtt'] = FullTeamProbit['AwayTotPKatt'] + FullTeamProbit['Away_PKatt']"
   ]
  },
  {
   "cell_type": "code",
   "execution_count": null,
   "id": "4f78beb6",
   "metadata": {},
   "outputs": [],
   "source": [
    "# Keep relevant variables and order\n",
    "FullTeamProbit = FullTeamProbit[['Home_Team', 'Away_Team', 'Partido', 'Matchweek', 'Season', \n",
    "                                 'Home_Score', 'Home_Yellow_Cards', 'Home_Red_Cards', 'Away_Score',\n",
    "                                 'Away_Yellow_Cards', 'Away_Red_Cards', 'HomePenConc', 'AwayPenConc',\n",
    "                                 'HomePenAtt', 'AwayPenAtt', 'Home_Off', 'Away_Off', 'date', 'Home_Fouls',\n",
    "                                 'Away_Fouls', 'Away_Fld', 'Home_Fld', 'FinalResult', 'HomeEquipo',\n",
    "                                 'HomeAnnualWagesEUR', 'HomeMktValue', 'AwayEquipo', 'AwayAnnualWagesEUR', 'AwayMktValue']]"
   ]
  },
  {
   "cell_type": "code",
   "execution_count": null,
   "id": "108ce580",
   "metadata": {},
   "outputs": [],
   "source": [
    "# Import data\n",
    "MergeFootballLineups = pd.read_excel('Datasets/FootballLineups/MergeFootballLineups.xlsx')"
   ]
  },
  {
   "cell_type": "code",
   "execution_count": null,
   "id": "44384974",
   "metadata": {},
   "outputs": [],
   "source": [
    "# Merge\n",
    "FullTeamProbit = pd.merge(FullTeamProbit, MergeFootballLineups, on = ['Partido', 'Season'],\n",
    "                         how = 'outer', validate = 'many_to_many', indicator = True)"
   ]
  },
  {
   "cell_type": "code",
   "execution_count": null,
   "id": "0ff642a3",
   "metadata": {},
   "outputs": [],
   "source": []
  },
  {
   "cell_type": "code",
   "execution_count": null,
   "id": "ada0c465",
   "metadata": {},
   "outputs": [],
   "source": [
    "# Generate total offsides variables by summing individual offsides counts\n",
    "FullTeamProbit['HomeOffs'] = FullTeamProbit['Home_Off'] + FullTeamProbit['HomeOffsides']\n",
    "FullTeamProbit['AwayOffs'] = FullTeamProbit['Away_Off'] + FullTeamProbit['AwayOffsides']"
   ]
  },
  {
   "cell_type": "code",
   "execution_count": null,
   "id": "e4f3b48d",
   "metadata": {},
   "outputs": [],
   "source": [
    "# Drop vars"
   ]
  },
  {
   "cell_type": "code",
   "execution_count": null,
   "id": "2788e508",
   "metadata": {},
   "outputs": [],
   "source": [
    "# Rename variables for clarity\n",
    "FullTeamProbit = FullTeamProbit.rename(columns = {'Home_Score' : 'HomeGoals', 'Away_Score' : 'AwayGoals',\n",
    "                'Home_Yellow_Cards' : 'HomeYellow', 'Away_Yellow_Cards' : 'AwayYellow',\n",
    "                'Home_Red_Cards' : 'HomeRed', 'Away_Red_Cards' : 'AwayRed',\n",
    "                'Home_Fouls' : 'HomeFouls', 'Away_Fouls' : 'AwayFouls',\n",
    "                'Home_Fld' : 'HomeFld', 'Away_Fld' : 'AwayFld',\n",
    "                'HomeOffs' : 'HomeOffsides', 'AwayOffs' : 'AwayOffsides'})"
   ]
  },
  {
   "cell_type": "code",
   "execution_count": null,
   "id": "d0ce89eb",
   "metadata": {},
   "outputs": [],
   "source": [
    "# Order"
   ]
  },
  {
   "cell_type": "code",
   "execution_count": null,
   "id": "fb79f690",
   "metadata": {},
   "outputs": [],
   "source": [
    "# Define variables and rename\n",
    "FullTeamProbit['Jornada'] = FullTeamProbit['Matchweek']\n",
    "\n",
    "FullTeamProbit = FullTeamProbit.rename(columns = {'Home_Team' : 'hometeam', \n",
    "                                                  'Away_Team' : 'awayteam'})"
   ]
  },
  {
   "cell_type": "code",
   "execution_count": null,
   "id": "5e50a880",
   "metadata": {},
   "outputs": [],
   "source": [
    "# Map Season - Year"
   ]
  },
  {
   "cell_type": "code",
   "execution_count": null,
   "id": "a8a57b67",
   "metadata": {},
   "outputs": [],
   "source": [
    "# Standardize team names by replacing \"Real Betis\" with \"Betis\"\n",
    "FullTeamProbit['Partido'] = FullTeamProbit['Partido'].str.replace('Real Betis', 'Betis')\n",
    "FullTeamProbit = FullTeamProbit[(~FullTeamProbit['hometeam'].isna())]"
   ]
  },
  {
   "cell_type": "code",
   "execution_count": null,
   "id": "ee97349e",
   "metadata": {},
   "outputs": [],
   "source": [
    "# Save data"
   ]
  },
  {
   "cell_type": "code",
   "execution_count": null,
   "id": "71fb0146",
   "metadata": {},
   "outputs": [],
   "source": [
    "# Merge data\n",
    "Attendance9821R = pd.read_excel('Datasets/TRANSFERMKT/Attendance9821R.xlsx')\n",
    "\n",
    "#DDS = pd.read_excel('Datasets//.xlsx')"
   ]
  },
  {
   "cell_type": "code",
   "execution_count": null,
   "id": "b87a07cb",
   "metadata": {},
   "outputs": [],
   "source": [
    "# Keep relevant variables after merging and reorder and sort\n"
   ]
  },
  {
   "cell_type": "code",
   "execution_count": null,
   "id": "e5f3cd44",
   "metadata": {},
   "outputs": [],
   "source": [
    "# Rename variables for clarity\n",
    "FullTeamProbit = FullTeamProbit.rename(columns = {'hometeam' : 'HomeTeam', \n",
    "                                    'awayteam' : 'AwayTeam', 'Attendance' : 'AttendanceTransfMkt'})"
   ]
  },
  {
   "cell_type": "code",
   "execution_count": null,
   "id": "2b581e6a",
   "metadata": {},
   "outputs": [],
   "source": [
    "# Save data\n",
    "FullTeamProbit.to_excel('Datasets/FullTeamProbit.xlsx')"
   ]
  },
  {
   "cell_type": "markdown",
   "id": "b9c7ac67",
   "metadata": {},
   "source": [
    "# "
   ]
  },
  {
   "cell_type": "code",
   "execution_count": null,
   "id": "f4407482",
   "metadata": {},
   "outputs": [],
   "source": [
    "# Import data\n",
    "Final1 = pd.read_excel('Datasets/FullTeamProbit.xlsx')"
   ]
  },
  {
   "cell_type": "code",
   "execution_count": null,
   "id": "0a530a98",
   "metadata": {},
   "outputs": [],
   "source": [
    "# Duplicate obs / Reshape"
   ]
  },
  {
   "cell_type": "code",
   "execution_count": null,
   "id": "8bbe86ce",
   "metadata": {},
   "outputs": [],
   "source": []
  },
  {
   "cell_type": "code",
   "execution_count": null,
   "id": "c1ca8d41",
   "metadata": {},
   "outputs": [],
   "source": []
  },
  {
   "cell_type": "code",
   "execution_count": null,
   "id": "6bde732f",
   "metadata": {},
   "outputs": [],
   "source": []
  },
  {
   "cell_type": "code",
   "execution_count": null,
   "id": "452f2644",
   "metadata": {},
   "outputs": [],
   "source": []
  },
  {
   "cell_type": "code",
   "execution_count": null,
   "id": "4b2dfc40",
   "metadata": {},
   "outputs": [],
   "source": []
  },
  {
   "cell_type": "code",
   "execution_count": null,
   "id": "2ba8e5c6",
   "metadata": {},
   "outputs": [],
   "source": []
  },
  {
   "cell_type": "code",
   "execution_count": null,
   "id": "0068601c",
   "metadata": {},
   "outputs": [],
   "source": [
    "# Gen Square values\n",
    "Final1['SqDifMktValue'] = Final1['DifMktValue']^2"
   ]
  },
  {
   "cell_type": "code",
   "execution_count": null,
   "id": "75de2416",
   "metadata": {},
   "outputs": [],
   "source": [
    "# Handle missing data for Fouls, Fld, and Offsides by setting them to missing if the year is before 2005\n",
    "vars = ['Fouls', 'Fld', 'Offsides']\n",
    "\n",
    "for var in vars:\n",
    "    Final1[var] = np.where((Final1['Year'] < 2005), float['nan'], Final1[var])"
   ]
  },
  {
   "cell_type": "code",
   "execution_count": null,
   "id": "77baefca",
   "metadata": {},
   "outputs": [],
   "source": [
    "# Generate variable for difference in bookmaker probabilities (iwh - iwa) based on Local status\n"
   ]
  },
  {
   "cell_type": "code",
   "execution_count": null,
   "id": "f5d7615d",
   "metadata": {},
   "outputs": [],
   "source": []
  },
  {
   "cell_type": "code",
   "execution_count": null,
   "id": "ee7c5062",
   "metadata": {},
   "outputs": [],
   "source": []
  },
  {
   "cell_type": "code",
   "execution_count": null,
   "id": "1fa7e904",
   "metadata": {},
   "outputs": [],
   "source": []
  },
  {
   "cell_type": "code",
   "execution_count": null,
   "id": "526c8680",
   "metadata": {},
   "outputs": [],
   "source": []
  },
  {
   "cell_type": "code",
   "execution_count": null,
   "id": "9444fbf6",
   "metadata": {},
   "outputs": [],
   "source": []
  },
  {
   "cell_type": "markdown",
   "id": "357fc17c",
   "metadata": {},
   "source": [
    "# Attendance"
   ]
  },
  {
   "cell_type": "code",
   "execution_count": 3,
   "id": "3a91cd8c",
   "metadata": {},
   "outputs": [
    {
     "name": "stdout",
     "output_type": "stream",
     "text": [
      "1\n",
      "2\n",
      "3\n",
      "4\n",
      "5\n",
      "6\n",
      "7\n",
      "8\n",
      "9\n",
      "10\n",
      "11\n",
      "12\n",
      "13\n",
      "14\n",
      "15\n",
      "16\n",
      "17\n",
      "18\n",
      "19\n",
      "20\n",
      "21\n",
      "22\n",
      "23\n",
      "24\n",
      "25\n",
      "26\n",
      "27\n",
      "28\n",
      "29\n",
      "30\n",
      "31\n",
      "32\n",
      "33\n",
      "34\n",
      "35\n",
      "36\n",
      "37\n",
      "38\n",
      "39\n",
      "40\n",
      "41\n",
      "42\n",
      "43\n",
      "44\n",
      "45\n",
      "46\n",
      "47\n",
      "48\n",
      "49\n",
      "50\n",
      "51\n",
      "52\n",
      "53\n",
      "54\n",
      "55\n",
      "56\n",
      "57\n",
      "58\n",
      "59\n",
      "60\n",
      "61\n",
      "62\n",
      "63\n",
      "64\n",
      "65\n",
      "66\n",
      "67\n",
      "68\n",
      "69\n",
      "70\n",
      "71\n",
      "72\n",
      "73\n",
      "74\n",
      "75\n",
      "76\n",
      "77\n",
      "78\n",
      "79\n",
      "80\n",
      "81\n",
      "82\n",
      "83\n",
      "84\n",
      "85\n",
      "86\n",
      "87\n",
      "88\n",
      "89\n",
      "90\n",
      "91\n",
      "92\n",
      "93\n",
      "94\n",
      "95\n",
      "96\n",
      "97\n",
      "98\n",
      "99\n",
      "100\n",
      "dict_keys(['FTBLNP1.csv', 'FTBLNP2.csv', 'FTBLNP3.csv', 'FTBLNP4.csv', 'FTBLNP5.csv', 'FTBLNP6.csv', 'FTBLNP7.csv', 'FTBLNP8.csv', 'FTBLNP9.csv', 'FTBLNP10.csv', 'FTBLNP11.csv', 'FTBLNP12.csv', 'FTBLNP13.csv', 'FTBLNP14.csv', 'FTBLNP15.csv', 'FTBLNP16.csv', 'FTBLNP17.csv', 'FTBLNP18.csv', 'FTBLNP19.csv', 'FTBLNP20.csv', 'FTBLNP21.csv', 'FTBLNP22.csv', 'FTBLNP23.csv', 'FTBLNP24.csv', 'FTBLNP25.csv', 'FTBLNP26.csv', 'FTBLNP27.csv', 'FTBLNP28.csv', 'FTBLNP29.csv', 'FTBLNP30.csv', 'FTBLNP31.csv', 'FTBLNP32.csv', 'FTBLNP33.csv', 'FTBLNP34.csv', 'FTBLNP35.csv', 'FTBLNP36.csv', 'FTBLNP37.csv', 'FTBLNP38.csv', 'FTBLNP39.csv', 'FTBLNP40.csv', 'FTBLNP41.csv', 'FTBLNP42.csv', 'FTBLNP43.csv', 'FTBLNP44.csv', 'FTBLNP45.csv', 'FTBLNP46.csv', 'FTBLNP47.csv', 'FTBLNP48.csv', 'FTBLNP49.csv', 'FTBLNP50.csv', 'FTBLNP51.csv', 'FTBLNP52.csv', 'FTBLNP53.csv', 'FTBLNP54.csv', 'FTBLNP55.csv', 'FTBLNP56.csv', 'FTBLNP57.csv', 'FTBLNP58.csv', 'FTBLNP59.csv', 'FTBLNP60.csv', 'FTBLNP61.csv', 'FTBLNP62.csv', 'FTBLNP63.csv', 'FTBLNP64.csv', 'FTBLNP65.csv', 'FTBLNP66.csv', 'FTBLNP67.csv', 'FTBLNP68.csv', 'FTBLNP69.csv', 'FTBLNP70.csv', 'FTBLNP71.csv', 'FTBLNP72.csv', 'FTBLNP73.csv', 'FTBLNP74.csv', 'FTBLNP75.csv', 'FTBLNP76.csv', 'FTBLNP77.csv', 'FTBLNP78.csv', 'FTBLNP79.csv', 'FTBLNP80.csv', 'FTBLNP81.csv', 'FTBLNP82.csv', 'FTBLNP83.csv', 'FTBLNP84.csv', 'FTBLNP85.csv', 'FTBLNP86.csv', 'FTBLNP87.csv', 'FTBLNP88.csv', 'FTBLNP89.csv', 'FTBLNP90.csv', 'FTBLNP91.csv', 'FTBLNP92.csv', 'FTBLNP93.csv', 'FTBLNP94.csv', 'FTBLNP95.csv', 'FTBLNP96.csv', 'FTBLNP97.csv', 'FTBLNP98.csv', 'FTBLNP99.csv', 'FTBLNP100.csv'])\n"
     ]
    }
   ],
   "source": [
    "# Once performed this once, there's no need to perform this again as it is time consuming\n",
    "\n",
    "dataframes = {}\n",
    "\n",
    "for i in range(1, 101):\n",
    "    print(i)\n",
    "\n",
    "    # Define the path file and file path\n",
    "    filename = f'FTBLNP{i}.csv'\n",
    "    filepath = os.path.join(r'Data\\FootballLineups\\Attendance', filename)\n",
    "\n",
    "    # Import data\n",
    "    AttendanceFTBLNPFTBLNP = pd.read_csv(filepath, encoding='ISO-8859-1')\n",
    "    \n",
    "    dataframes[filename] = AttendanceFTBLNPFTBLNP\n",
    "    \n",
    "print(dataframes.keys())"
   ]
  },
  {
   "cell_type": "code",
   "execution_count": 4,
   "id": "b3bec479",
   "metadata": {},
   "outputs": [
    {
     "data": {
      "text/plain": [
       "8007"
      ]
     },
     "execution_count": 4,
     "metadata": {},
     "output_type": "execute_result"
    }
   ],
   "source": [
    "# Concat dictionary entries in one dataframe\n",
    "AttendanceFTBLNPFTBLNP = pd.concat(dataframes.values(), ignore_index = True)\n",
    "\n",
    "len(AttendanceFTBLNPFTBLNP)"
   ]
  },
  {
   "cell_type": "code",
   "execution_count": 5,
   "id": "96eb353a",
   "metadata": {},
   "outputs": [],
   "source": [
    "AttendanceFTBLNPFTBLNP.to_excel('Datasets/AttendanceFTBLNPFTBLNP.xlsx')"
   ]
  }
 ],
 "metadata": {
  "kernelspec": {
   "display_name": "Python 3 (ipykernel)",
   "language": "python",
   "name": "python3"
  },
  "language_info": {
   "codemirror_mode": {
    "name": "ipython",
    "version": 3
   },
   "file_extension": ".py",
   "mimetype": "text/x-python",
   "name": "python",
   "nbconvert_exporter": "python",
   "pygments_lexer": "ipython3",
   "version": "3.10.9"
  }
 },
 "nbformat": 4,
 "nbformat_minor": 5
}
