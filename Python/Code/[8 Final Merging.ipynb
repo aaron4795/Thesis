{
 "cells": [
  {
   "cell_type": "code",
   "execution_count": 1,
   "id": "edb99666",
   "metadata": {},
   "outputs": [],
   "source": [
    "# Import libraries\n",
    "import pandas as pd\n",
    "import os\n",
    "import numpy as np\n",
    "\n",
    "# Set working directory\n",
    "os.chdir('C:\\\\Users\\\\aaron\\\\Desktop\\\\GitHub\\\\Thesis\\\\Python')"
   ]
  },
  {
   "cell_type": "code",
   "execution_count": 2,
   "id": "5388c09d",
   "metadata": {},
   "outputs": [
    {
     "name": "stdout",
     "output_type": "stream",
     "text": [
      "Index(['Year', 'Matchday', 'Home_Team', 'Away_Team', 'HomeTotPKcon',\n",
      "       'AwayTotPKcon', 'HomeTotPKatt', 'AwayTotPKatt', 'Partido'],\n",
      "      dtype='object')\n",
      "Index(['Year', 'Matchweek', 'Season', 'Home_Team', 'Away_Team', 'Partido',\n",
      "       'Home_Score', 'Home_Yellow_Cards', 'Home_Red_Cards', 'Away_Score',\n",
      "       'Away_Yellow_Cards', 'Away_Red_Cards', 'HomeOff', 'AwayOff',\n",
      "       'HomePKcon', 'AwayPKcon', 'HomePK', 'AwayPK', 'HomePKatt', 'AwayPKatt',\n",
      "       'Date', 'Home_Fouls', 'Away_Fouls', 'AwayFld', 'HomeFld', 'FinalResult',\n",
      "       'HomeEquipo', 'HomeAnnual Wages EUR', 'HomeMktValue', 'AwayEquipo',\n",
      "       'AwayAnnual Wages EUR', 'AwayMktValue'],\n",
      "      dtype='object')\n"
     ]
    }
   ],
   "source": [
    "# Import data\n",
    "PenaltiesConceded = pd.read_excel('Datasets/PenaltiesConceded.xlsx')\n",
    "Merge1 = pd.read_excel('Datasets/Merge1.xlsx', dtype = {'Season' : str})\n",
    "\n",
    "# Visualize columns\n",
    "print(PenaltiesConceded.columns)\n",
    "print(Merge1.columns)"
   ]
  },
  {
   "cell_type": "code",
   "execution_count": 3,
   "id": "9c9cb6aa",
   "metadata": {},
   "outputs": [
    {
     "name": "stdout",
     "output_type": "stream",
     "text": [
      "[2004 2005 2006 2007 2008 2009 2010 2011 2012 2013 1999 2000 2001 1998\n",
      " 2003 2002]\n",
      "['9899' '9900' '0001' '0102' '0203' '0304' '0405' '0506' '0607' '0708'\n",
      " '0809' '0910' '1011' '1112' '1213' '1314' '1415' '1516' '1617' '1718'\n",
      " '1819' '1920' '2021' '2122']\n"
     ]
    }
   ],
   "source": [
    "print(PenaltiesConceded['Year'].unique())\n",
    "print(Merge1['Season'].unique())"
   ]
  },
  {
   "cell_type": "code",
   "execution_count": 4,
   "id": "09a7e89c",
   "metadata": {},
   "outputs": [],
   "source": [
    "# Merge data\n",
    "FullTeamProbit = pd.merge(PenaltiesConceded, Merge1, on = ['Partido', 'Year'],\n",
    "                         indicator = True, validate = 'many_to_many', how = 'outer')\n",
    "\n",
    "FullTeamProbit = FullTeamProbit.drop(columns = ['Home_Team_x', 'Away_Team_x'])\n",
    "FullTeamProbit = FullTeamProbit.rename(columns = {'Home_Team_y' : 'Home_Team', 'Away_Team_y' : 'Away_Team'})\n",
    "\n",
    "FullTeamProbit = FullTeamProbit.sort_values(by = ['Year', 'Matchweek'])"
   ]
  },
  {
   "cell_type": "code",
   "execution_count": 5,
   "id": "dd47ed32",
   "metadata": {},
   "outputs": [],
   "source": [
    "# Set penalty conceded and penalty attempted variables to 0 for years before 2014\n",
    "vars = ['HomePKcon', 'AwayPKcon', 'HomePKatt', 'AwayPKatt']\n",
    "\n",
    "for var in vars:\n",
    "    FullTeamProbit[var] = np.where((FullTeamProbit['Year'] < 2014), \n",
    "                             0, FullTeamProbit[var])\n",
    "    \n",
    "# Replace missing values for total penalties conceded and attempted with 0\n",
    "vars = ['HomeTotPKcon', 'AwayTotPKcon', 'HomeTotPKatt', 'AwayTotPKatt']\n",
    "\n",
    "for var in vars:\n",
    "    FullTeamProbit[var] = np.where((FullTeamProbit[var].isna()),\n",
    "                                  0, FullTeamProbit[var])"
   ]
  },
  {
   "cell_type": "code",
   "execution_count": 6,
   "id": "c9e20dc5",
   "metadata": {},
   "outputs": [],
   "source": [
    "# Generate combined penalty concession and attempt variables for home and away teams\n",
    "FullTeamProbit['HomePenConc'] = FullTeamProbit['HomeTotPKcon'] + FullTeamProbit['HomePKcon']\n",
    "FullTeamProbit['AwayPenConc'] = FullTeamProbit['AwayTotPKcon'] + FullTeamProbit['AwayPKcon']\n",
    "FullTeamProbit['HomePenAtt'] = FullTeamProbit['HomeTotPKatt'] + FullTeamProbit['HomePKatt']\n",
    "FullTeamProbit['AwayPenAtt'] = FullTeamProbit['AwayTotPKatt'] + FullTeamProbit['AwayPKatt']"
   ]
  },
  {
   "cell_type": "code",
   "execution_count": 7,
   "id": "e57f2c1f",
   "metadata": {},
   "outputs": [
    {
     "data": {
      "text/plain": [
       "Index(['Year', 'Matchday', 'HomeTotPKcon', 'AwayTotPKcon', 'HomeTotPKatt',\n",
       "       'AwayTotPKatt', 'Partido', 'Matchweek', 'Season', 'Home_Team',\n",
       "       'Away_Team', 'Home_Score', 'Home_Yellow_Cards', 'Home_Red_Cards',\n",
       "       'Away_Score', 'Away_Yellow_Cards', 'Away_Red_Cards', 'HomeOff',\n",
       "       'AwayOff', 'HomePKcon', 'AwayPKcon', 'HomePK', 'AwayPK', 'HomePKatt',\n",
       "       'AwayPKatt', 'Date', 'Home_Fouls', 'Away_Fouls', 'AwayFld', 'HomeFld',\n",
       "       'FinalResult', 'HomeEquipo', 'HomeAnnual Wages EUR', 'HomeMktValue',\n",
       "       'AwayEquipo', 'AwayAnnual Wages EUR', 'AwayMktValue', '_merge',\n",
       "       'HomePenConc', 'AwayPenConc', 'HomePenAtt', 'AwayPenAtt'],\n",
       "      dtype='object')"
      ]
     },
     "execution_count": 7,
     "metadata": {},
     "output_type": "execute_result"
    }
   ],
   "source": [
    "FullTeamProbit.columns"
   ]
  },
  {
   "cell_type": "code",
   "execution_count": 8,
   "id": "4f78beb6",
   "metadata": {},
   "outputs": [],
   "source": [
    "# Keep relevant variables and order\n",
    "FullTeamProbit = FullTeamProbit[['Home_Team', 'Away_Team', 'Partido', 'Matchweek', 'Season', \n",
    "                                 'Home_Score', 'Home_Yellow_Cards', 'Home_Red_Cards', 'Away_Score',\n",
    "                                 'Away_Yellow_Cards', 'Away_Red_Cards', 'HomePenConc', 'AwayPenConc',\n",
    "                                 'HomePenAtt', 'AwayPenAtt', 'HomeOff', 'AwayOff', 'Date', 'Home_Fouls',\n",
    "                                 'Away_Fouls', 'AwayFld', 'HomeFld', 'FinalResult', 'HomeEquipo',\n",
    "                                 'HomeAnnual Wages EUR', 'HomeMktValue', 'AwayEquipo', 'AwayAnnual Wages EUR', 'AwayMktValue']]"
   ]
  },
  {
   "cell_type": "code",
   "execution_count": 9,
   "id": "108ce580",
   "metadata": {},
   "outputs": [],
   "source": [
    "# Import data\n",
    "MergeFootballLineups = pd.read_excel('Datasets/FootballLineups/MergeFootballLineups.xlsx', \n",
    "                                     dtype = {'Season' : str})"
   ]
  },
  {
   "cell_type": "code",
   "execution_count": 10,
   "id": "44384974",
   "metadata": {},
   "outputs": [],
   "source": [
    "# Merge\n",
    "FullTeamProbit = pd.merge(FullTeamProbit, MergeFootballLineups, on = ['Partido', 'Season'],\n",
    "                         how = 'outer', validate = 'many_to_many', indicator = True)"
   ]
  },
  {
   "cell_type": "code",
   "execution_count": 11,
   "id": "6d18e505",
   "metadata": {},
   "outputs": [],
   "source": [
    "# Replace missing values for various game statistics with 0\n",
    "variables = []\n",
    "for var in variables:\n",
    "    FullTeamProbit[var] = np.where( (FullTeamProbit[var].isna()),\n",
    "                                  0, FullTeamProbit[var])"
   ]
  },
  {
   "cell_type": "code",
   "execution_count": 12,
   "id": "ada0c465",
   "metadata": {},
   "outputs": [],
   "source": [
    "# Generate total offsides variables by summing individual offsides counts\n",
    "FullTeamProbit['HomeOffs'] = FullTeamProbit['HomeOff'] + FullTeamProbit['Home_Offsides']\n",
    "FullTeamProbit['AwayOffs'] = FullTeamProbit['HomeOff'] + FullTeamProbit['Away_Offsides']"
   ]
  },
  {
   "cell_type": "code",
   "execution_count": 13,
   "id": "e6b85877",
   "metadata": {},
   "outputs": [],
   "source": [
    "locality = ['Home', 'Away']\n",
    "for local in locality:\n",
    "    varx = local + '_Fouls_x'\n",
    "    vary = local + '_Fouls_y'\n",
    "        \n",
    "    FullTeamProbit[varx] = np.where( (FullTeamProbit[varx] != FullTeamProbit[vary]) & (~FullTeamProbit[vary].isna()),\n",
    "                                         FullTeamProbit[vary],\n",
    "                                         FullTeamProbit[varx])"
   ]
  },
  {
   "cell_type": "code",
   "execution_count": 14,
   "id": "610aae47",
   "metadata": {},
   "outputs": [],
   "source": [
    "# Drop vars\n",
    "FullTeamProbit.drop(columns = ['HomeOff', 'AwayOff', 'Home_Offsides', 'Away_Offsides',\n",
    "                              'HomeFouls', 'AwayFouls', 'HomeFld', 'AwayFld', 'url', \n",
    "                              'Home_Possession', 'Away_Possession',\n",
    "                              'Home_Fouls_y', 'Away_Fouls_y',\n",
    "                              'hometeam', 'awayteam'], inplace = True)"
   ]
  },
  {
   "cell_type": "code",
   "execution_count": 15,
   "id": "2788e508",
   "metadata": {},
   "outputs": [],
   "source": [
    "# Rename variables for clarity\n",
    "FullTeamProbit = FullTeamProbit.rename(columns = {'Home_Score' : 'HomeGoals', 'Away_Score' : 'AwayGoals',\n",
    "                'Home_Yellow_Cards' : 'HomeYellow', 'Away_Yellow_Cards' : 'AwayYellow',\n",
    "                'Home_Red_Cards' : 'HomeRed', 'Away_Red_Cards' : 'AwayRed',\n",
    "                'Home_Fouls_x' : 'HomeFouls', 'Away_Fouls_x' : 'AwayFouls',\n",
    "                'Home_Fld' : 'HomeFld', 'Away_Fld' : 'AwayFld',\n",
    "                'HomeOffs' : 'HomeOffsides', 'AwayOffs' : 'AwayOffsides',\n",
    "                'Home_Team' : 'hometeam', 'Away_Team' : 'awayteam'})"
   ]
  },
  {
   "cell_type": "code",
   "execution_count": 16,
   "id": "d0ce89eb",
   "metadata": {},
   "outputs": [],
   "source": [
    "# Order"
   ]
  },
  {
   "cell_type": "code",
   "execution_count": 17,
   "id": "fb79f690",
   "metadata": {},
   "outputs": [],
   "source": [
    "# Define variables and rename\n",
    "FullTeamProbit['Jornada'] = FullTeamProbit['Matchweek']"
   ]
  },
  {
   "cell_type": "code",
   "execution_count": 18,
   "id": "5e50a880",
   "metadata": {},
   "outputs": [],
   "source": [
    "# Define Year variable\n",
    "season_to_year = {\n",
    "    '9899': 1998, '9900': 1999, '0001': 2000, '0102': 2001, '0203': 2002, \n",
    "    '0304': 2003, '0405': 2004, '0506': 2005, '0607': 2006, '0708': 2007, \n",
    "    '0809': 2008, '0910': 2009, '1011': 2010, '1112': 2011, '1213': 2012, \n",
    "    '1314': 2013, '1415': 2014, '1516': 2015, '1617': 2016, '1718': 2017, \n",
    "    '1819': 2018, '1920': 2019, '2021': 2020, '2122': 2021\n",
    "}\n",
    "\n",
    "FullTeamProbit['Year'] = FullTeamProbit['Season'].map(season_to_year)"
   ]
  },
  {
   "cell_type": "code",
   "execution_count": 19,
   "id": "a8a57b67",
   "metadata": {},
   "outputs": [],
   "source": [
    "# Look for duplicated obs\n",
    "FullTeamProbit['Aux'] = FullTeamProbit['Partido'] + FullTeamProbit['Season']\n",
    "\n",
    "# Find duplicated obs\n",
    "FullTeamProbit['Dupy'] = np.where((FullTeamProbit['Aux'].duplicated(keep = False)) == True,\n",
    "                                 1, 0)\n",
    "# Drop duplicated values\n",
    "FullTeamProbit['Aux2'] = np.where( (FullTeamProbit['Dupy'] == 1) & (FullTeamProbit['HomeFld'].isna()), 1, 0 )\n",
    "\n",
    "FullTeamProbit = FullTeamProbit[(FullTeamProbit['Aux2'] == 0)]\n",
    "\n",
    "FullTeamProbit['Dupy'] = np.where((FullTeamProbit['Aux'].duplicated()) == True,\n",
    "                                 1, 0)\n",
    "\n",
    "FullTeamProbit = FullTeamProbit[(FullTeamProbit['Dupy'] == 0)]\n",
    "\n",
    "# Drop aux variables\n",
    "FullTeamProbit = FullTeamProbit.drop(columns = ['Aux', 'Dupy', 'Aux2', '_merge'])"
   ]
  },
  {
   "cell_type": "code",
   "execution_count": 20,
   "id": "71fb0146",
   "metadata": {},
   "outputs": [],
   "source": [
    "# Merge data\n",
    "Attendance9821R = pd.read_excel('Datasets/TRANSFERMKT/Attendance9821R.xlsx')\n",
    "ODDS = pd.read_excel('Datasets/odds.xlsx')\n",
    "\n",
    "# MERGE\n",
    "FullTeamProbit = pd.merge(FullTeamProbit, Attendance9821R, on = ['Year', 'Jornada', 'hometeam'],\n",
    "                          validate = 'many_to_many')\n",
    "\n",
    "FullTeamProbit = pd.merge(FullTeamProbit, ODDS, on = ['Year', 'Partido'],\n",
    "                         validate = 'many_to_many')"
   ]
  },
  {
   "cell_type": "code",
   "execution_count": 21,
   "id": "e1617119",
   "metadata": {},
   "outputs": [],
   "source": [
    "# Save data\n",
    "FullTeamProbit.to_excel('Datasets/FullTeamProbit.xlsx')"
   ]
  },
  {
   "cell_type": "code",
   "execution_count": 22,
   "id": "e30fd079",
   "metadata": {},
   "outputs": [],
   "source": [
    "# Keep relevant variables, reorder and sort\n",
    "FullTeamProbit = FullTeamProbit[['Date_x', 'Matchweek', 'Year', 'hometeam', 'awayteam', \n",
    "                    'Partido', 'HomeGoals', 'AwayGoals', 'HomeFouls', 'AwayFouls',\n",
    "                    'HomeFld', 'AwayFld', 'HomeYellow', 'AwayYellow', 'HomeRed', 'AwayRed',\n",
    "                    'HomeOffsides', 'AwayOffsides', 'HomePenConc', 'AwayPenConc', \n",
    "                    'HomePenAtt', 'AwayPenAtt', 'FinalResult', 'HomeEquipo', \n",
    "                    'HomeAnnual Wages EUR', 'HomeMktValue', 'AwayEquipo', \n",
    "                    'AwayAnnual Wages EUR', 'AwayMktValue', 'Attendance', 'IWH', 'IWD', 'IWA']]\n",
    "# Reset index"
   ]
  },
  {
   "cell_type": "code",
   "execution_count": 23,
   "id": "199160d1",
   "metadata": {},
   "outputs": [],
   "source": [
    "# Rename for clarity\n",
    "FullTeamProbit = FullTeamProbit.rename(columns = {'Attendance' : 'AttendanceTransfMkt',\n",
    "                'hometeam' : 'HomeTeam', 'awayteam' : 'AwayTeam', 'Date_x' : 'Date'})"
   ]
  },
  {
   "cell_type": "code",
   "execution_count": 24,
   "id": "2b581e6a",
   "metadata": {},
   "outputs": [],
   "source": [
    "# Save data\n",
    "FullTeamProbit.to_excel('Datasets/FullTeamProbit.xlsx')"
   ]
  },
  {
   "cell_type": "markdown",
   "id": "b9c7ac67",
   "metadata": {},
   "source": [
    "# "
   ]
  },
  {
   "cell_type": "code",
   "execution_count": 25,
   "id": "f4407482",
   "metadata": {},
   "outputs": [],
   "source": [
    "# Import data\n",
    "Final1 = pd.read_excel('Datasets/FullTeamProbit.xlsx')"
   ]
  },
  {
   "cell_type": "code",
   "execution_count": 26,
   "id": "0a530a98",
   "metadata": {},
   "outputs": [],
   "source": [
    "# Duplicate obs / Reshape\n",
    "Final1 = pd.concat([Final1, Final1], ignore_index = True)\n",
    "Final1['Local'] = Final1.duplicated(keep='first').astype(int)\n",
    "\n",
    "# Sort data"
   ]
  },
  {
   "cell_type": "code",
   "execution_count": 27,
   "id": "582ddee2",
   "metadata": {},
   "outputs": [],
   "source": [
    "# Rename columns to have a consistent naming\n",
    "Final1.rename(columns={\n",
    "       'HomeAnnual Wages EUR' : 'HomeAnnualWagesEUR',\n",
    "       'AwayAnnual Wages EUR' : 'AwayAnnualWagesEUR'}, inplace=True)"
   ]
  },
  {
   "cell_type": "code",
   "execution_count": 28,
   "id": "395082ba",
   "metadata": {},
   "outputs": [],
   "source": [
    "vars = ['Team', 'Goals', 'Fouls', 'Fld', 'Yellow',\n",
    "        'Red', 'Offsides', 'PenAtt', 'PenConc',\n",
    "       'AnnualWagesEUR', 'MktValue']\n",
    "\n",
    "for var in vars:\n",
    "    homevar = 'Home' + var\n",
    "    awayvar = 'Away' + var\n",
    "    \n",
    "    Final1[var] = np.where( (Final1['Local'] == 1), Final1[homevar], Final1[awayvar])"
   ]
  },
  {
   "cell_type": "code",
   "execution_count": 29,
   "id": "038b6ba9",
   "metadata": {},
   "outputs": [],
   "source": [
    "# Drop extra variables\n",
    "Final1 = Final1[['Unnamed: 0', 'Date', 'Matchweek', 'Year', 'Partido', 'FinalResult',\n",
    "                'AttendanceTransfMkt', 'IWH', 'IWD', 'IWA', 'Local',\n",
    "                'Team', 'Goals', 'Fouls', 'Fld', 'Yellow', 'Red', 'Offsides', 'PenAtt', \n",
    "                'PenConc', 'AnnualWagesEUR', 'MktValue']]"
   ]
  },
  {
   "cell_type": "code",
   "execution_count": 30,
   "id": "94803d73",
   "metadata": {},
   "outputs": [
    {
     "data": {
      "text/plain": [
       "Index(['Unnamed: 0', 'Date', 'Matchweek', 'Year', 'Partido', 'FinalResult',\n",
       "       'AttendanceTransfMkt', 'IWH', 'IWD', 'IWA', 'Local', 'Team', 'Goals',\n",
       "       'Fouls', 'Fld', 'Yellow', 'Red', 'Offsides', 'PenAtt', 'PenConc',\n",
       "       'AnnualWagesEUR', 'MktValue'],\n",
       "      dtype='object')"
      ]
     },
     "execution_count": 30,
     "metadata": {},
     "output_type": "execute_result"
    }
   ],
   "source": [
    "Final1.columns"
   ]
  },
  {
   "cell_type": "code",
   "execution_count": 31,
   "id": "c1ca8d41",
   "metadata": {},
   "outputs": [],
   "source": [
    "# Create the 'Win' variable\n",
    "Final1['Win'] = np.where(\n",
    "                    ((Final1['FinalResult'] == 1) & (Final1['Local'] == 1)) | \n",
    "                    ((Final1['FinalResult'] == 3) & (Final1['Local'] == 0)),\n",
    "                    1, 0)\n",
    "\n",
    "Final1['Win'] = Final1['Win'].astype(int)"
   ]
  },
  {
   "cell_type": "code",
   "execution_count": 33,
   "id": "f71c3086",
   "metadata": {},
   "outputs": [],
   "source": [
    "# Sort data to ensure correct pairing of home and away teams\n",
    "Final1.sort_values(by=['Date', 'Partido', 'Local'], inplace=True)"
   ]
  },
  {
   "cell_type": "code",
   "execution_count": 35,
   "id": "09149810",
   "metadata": {},
   "outputs": [],
   "source": [
    "# Calculate differences in market value and goals\n"
   ]
  },
  {
   "cell_type": "code",
   "execution_count": 36,
   "id": "607da230",
   "metadata": {},
   "outputs": [],
   "source": [
    "Final1.to_excel('Datasets/Final1.xlsx')"
   ]
  },
  {
   "cell_type": "code",
   "execution_count": null,
   "id": "ea02dfc6",
   "metadata": {},
   "outputs": [],
   "source": [
    "xxxx"
   ]
  },
  {
   "cell_type": "code",
   "execution_count": null,
   "id": "9f8870ae",
   "metadata": {},
   "outputs": [],
   "source": [
    "Final1['GoalDiff'] = Final1.groupby(['date', 'Partido'])['Goals'].diff(periods=1)\n",
    "Final1['GoalDiff'] = Final1.groupby(['date', 'Partido'])['GoalDiff'].transform(lambda x: x.iloc[0] if pd.isnull(x.iloc[0]) else -x)\n",
    "\n",
    "# Create \"Favor\" and \"Contra\" variables for cards\n",
    "Final1['YellowFavor'] = Final1.groupby(['date', 'Partido'])['Yellow'].transform(lambda x: x.iloc[0] if Final1['Local'].iloc[x.index].iloc[0] == 0 else x.iloc[1])\n",
    "Final1['YellowContra'] = Final1.groupby(['date', 'Partido'])['Yellow'].transform(lambda x: x.iloc[0] if Final1['Local'].iloc[x.index].iloc[0] == 1 else x.iloc[1])\n",
    "\n",
    "Final1['RedFavor'] = Final1.groupby(['date', 'Partido'])['Red'].transform(lambda x: x.iloc[0] if Final1['Local'].iloc[x.index].iloc[0] == 0 else x.iloc[1])\n",
    "Final1['RedContra'] = Final1.groupby(['date', 'Partido'])['Red'].transform(lambda x: x.iloc[0] if Final1['Local'].iloc[x.index].iloc[0] == 1 else x.iloc[1])\n",
    "\n",
    "# Display the first few rows of the transformed dataframe\n",
    "print(Final1.head())"
   ]
  },
  {
   "cell_type": "code",
   "execution_count": null,
   "id": "6bde732f",
   "metadata": {},
   "outputs": [],
   "source": []
  },
  {
   "cell_type": "code",
   "execution_count": null,
   "id": "452f2644",
   "metadata": {},
   "outputs": [],
   "source": []
  },
  {
   "cell_type": "code",
   "execution_count": null,
   "id": "4b2dfc40",
   "metadata": {},
   "outputs": [],
   "source": []
  },
  {
   "cell_type": "code",
   "execution_count": null,
   "id": "2ba8e5c6",
   "metadata": {},
   "outputs": [],
   "source": []
  },
  {
   "cell_type": "code",
   "execution_count": null,
   "id": "0068601c",
   "metadata": {},
   "outputs": [],
   "source": []
  },
  {
   "cell_type": "code",
   "execution_count": null,
   "id": "75de2416",
   "metadata": {},
   "outputs": [],
   "source": [
    "# Handle missing data for Fouls, Fld, and Offsides by setting them to missing if the year is before 2005\n",
    "vars = ['Fouls', 'Fld', 'Offsides']\n",
    "\n",
    "for var in vars:\n",
    "    Final1[var] = np.where((Final1['Year'] < 2005), float['nan'], Final1[var])"
   ]
  },
  {
   "cell_type": "code",
   "execution_count": null,
   "id": "77baefca",
   "metadata": {},
   "outputs": [],
   "source": [
    "# Generate variable for difference in bookmaker probabilities (iwh - iwa) based on Local status\n",
    "Final1['DifBookMkr'] = np.where( (DifBookMkr['Local'] == 1), \n",
    "                                Final1['iwh'] - Final1['iwa'],\n",
    "                                Final1['iwa'] - Final1['iwh'])"
   ]
  },
  {
   "cell_type": "code",
   "execution_count": null,
   "id": "f5d7615d",
   "metadata": {},
   "outputs": [],
   "source": [
    "# Using the Buraimo methodology, generate variables for bookmaker probabilities adjusted by epsilon\n",
    "Final1['SumBooker'] = Final1['iwa'] + Final1['iwd'] + Final1['iwh']\n",
    "Final1['epsilon'] = Final1['SumBooker']-1\n",
    "\n",
    "Final1['iwhe'] = Final1['iwh'] / Final1['epsilon']\n",
    "Final1['iwde'] = Final1['iwd'] / Final1['epsilon']\n",
    "Final1['iwae'] = Final1['iwa'] / Final1['epsilon']"
   ]
  },
  {
   "cell_type": "code",
   "execution_count": null,
   "id": "ee7c5062",
   "metadata": {},
   "outputs": [],
   "source": [
    "# Generate difference in adjusted bookmaker probabilities based on Local status\n",
    "Final1['DifBookMaker'] = np.where( (DifBookMkr['Local'] == 1), \n",
    "                                Final1['iwhe'] - Final1['iwae'],\n",
    "                                Final1['iwae'] - Final1['iwhe'])"
   ]
  },
  {
   "cell_type": "code",
   "execution_count": null,
   "id": "1fa7e904",
   "metadata": {},
   "outputs": [],
   "source": [
    "# Generate the square of the quality proxy variables\n",
    "variables = ['DifMktValue', 'DifBookMkr', 'DifBookMaker']\n",
    "\n",
    "for var in variables:\n",
    "    aux = 'Sq' + var\n",
    "    \n",
    "    Final1[aux] = Final1[var]^2"
   ]
  },
  {
   "cell_type": "code",
   "execution_count": null,
   "id": "526c8680",
   "metadata": {},
   "outputs": [],
   "source": [
    "# Generate a variable to indicate if any payments were made during the years 2001-2017\n",
    "Final1['TdePagos'] = np.where( (Final1['Year'] > 2000) & (Final1['Year'] < 2018),\n",
    "                             1, 0)"
   ]
  },
  {
   "cell_type": "markdown",
   "id": "c615a575",
   "metadata": {},
   "source": [
    "# GENERATE TREATMENT VARIABLES"
   ]
  },
  {
   "cell_type": "code",
   "execution_count": null,
   "id": "2d062f5d",
   "metadata": {},
   "outputs": [],
   "source": [
    "# Variable indicating if the team is Barcelona (Equipo == 6)\n",
    "Final1['Barca'] = np.where((Final1['Equipo'] == 6), 1, 0)\n",
    "\n",
    "# Variable indicating if the team is either Barcelona or Real Madrid (Equipo == 6 or 32)\n",
    "Final1['BarcaRM'] = np.where((Final1['Equipo'] == 6) | (Final1['Equipo'] == 32),\n",
    "                             1, 0)\n",
    "\n",
    "# Generate variable indicating whether a club paid the CTA (1 for Barcelona during payment years)\n",
    "Final1['Bribe'] = np.where( (Final1['Barca'] == 1) & ((2000 < Final1['Year'] < 2018)), \n",
    "                          1, 0)"
   ]
  },
  {
   "cell_type": "code",
   "execution_count": null,
   "id": "27cfb5b1",
   "metadata": {},
   "outputs": [],
   "source": []
  },
  {
   "cell_type": "code",
   "execution_count": null,
   "id": "93936f0e",
   "metadata": {},
   "outputs": [],
   "source": [
    "Final1.to_excel('Datasets/Final1.xlsx')"
   ]
  },
  {
   "cell_type": "markdown",
   "id": "357fc17c",
   "metadata": {},
   "source": [
    "# Attendance"
   ]
  },
  {
   "cell_type": "code",
   "execution_count": null,
   "id": "3a91cd8c",
   "metadata": {},
   "outputs": [],
   "source": [
    "# Once performed this once, there's no need to perform this again as it is time consuming\n",
    "dataframes = {}\n",
    "\n",
    "for i in range(1, 101):\n",
    "    # Define the path file and file path\n",
    "    filename = f'FTBLNP{i}.csv'\n",
    "    filepath = os.path.join(r'Data\\FootballLineups\\Attendance', filename)\n",
    "\n",
    "    # Import data\n",
    "    AttendanceFTBLNP = pd.read_csv(filepath, encoding='ISO-8859-1')\n",
    "    \n",
    "    dataframes[filename] = AttendanceFTBLNP\n",
    "    \n",
    "#print(dataframes.keys())"
   ]
  },
  {
   "cell_type": "code",
   "execution_count": null,
   "id": "b3bec479",
   "metadata": {},
   "outputs": [],
   "source": [
    "# Concat dictionary entries in one dataframe\n",
    "AttendanceFTBLNP = pd.concat(dataframes.values(), ignore_index = True)\n",
    "AttendanceFTBLNP.reset_index(inplace = True)\n",
    "AttendanceFTBLNP = AttendanceFTBLNP.drop(columns = 'Unnamed: 0')"
   ]
  },
  {
   "cell_type": "code",
   "execution_count": null,
   "id": "a0b047f1",
   "metadata": {},
   "outputs": [],
   "source": [
    "AuxAttendance = AttendanceFTBLNP['Text'].str.split(' - ', expand = True)\n",
    "AuxAttendance.reset_index(inplace = True)"
   ]
  },
  {
   "cell_type": "code",
   "execution_count": null,
   "id": "e1342b8b",
   "metadata": {},
   "outputs": [],
   "source": [
    "AttendanceFTBLNP = pd.merge(AttendanceFTBLNP, AuxAttendance, on = 'index',\n",
    "                           validate = 'one_to_one')"
   ]
  },
  {
   "cell_type": "code",
   "execution_count": null,
   "id": "9af16a44",
   "metadata": {},
   "outputs": [],
   "source": [
    "AttendanceFTBLNP = AttendanceFTBLNP[AttendanceFTBLNP[0] != 'character(0)']\n",
    "\n",
    "AttendanceFTBLNP[1] = AttendanceFTBLNP[1].str.replace(' Matchday', 'La Liga (Matchweek')"
   ]
  },
  {
   "cell_type": "code",
   "execution_count": null,
   "id": "d5765be0",
   "metadata": {},
   "outputs": [],
   "source": [
    "rango = ['0', '1', '2', '3', '4', '5', '6', '7', '8', '9', '10']\n",
    "\n",
    "for i in rango:\n",
    "    aux1 = i + ' '\n",
    "    auxi = i + ')'\n",
    "    auxs = ' ' + i + ' '\n",
    "    \n",
    "    AttendanceFTBLNP[1] = AttendanceFTBLNP[1].str.replace(aux1, auxi)\n",
    "    AttendanceFTBLNP[0] = AttendanceFTBLNP[0].str.replace(auxs, '')"
   ]
  },
  {
   "cell_type": "code",
   "execution_count": null,
   "id": "0fa08c03",
   "metadata": {},
   "outputs": [],
   "source": [
    "AttendanceFTBLNP[['hometeam', 'awayteam']] = AttendanceFTBLNP[0].str.split(':', n = 1, expand = True)"
   ]
  },
  {
   "cell_type": "code",
   "execution_count": null,
   "id": "3d756b92",
   "metadata": {},
   "outputs": [],
   "source": [
    "AttendanceFTBLNP['awayteam'] = AttendanceFTBLNP['awayteam'].str.replace('La Liga', '')\n",
    "AttendanceFTBLNP['awayteam'] = AttendanceFTBLNP['awayteam'].str.replace('/', '')\n",
    "\n",
    "for i in range(2001, 2023, 1):\n",
    "    AttendanceFTBLNP['awayteam'] = AttendanceFTBLNP['awayteam'].str.replace(str(i), '')\n",
    "\n",
    "AttendanceFTBLNP['awayteam'] = AttendanceFTBLNP['awayteam'].str.replace('  ', '')"
   ]
  },
  {
   "cell_type": "code",
   "execution_count": null,
   "id": "de40a6fa",
   "metadata": {},
   "outputs": [],
   "source": [
    "AttendanceFTBLNP.to_excel('Datasets/AUXXX.xlsx')"
   ]
  },
  {
   "cell_type": "code",
   "execution_count": null,
   "id": "962c5498",
   "metadata": {},
   "outputs": [],
   "source": [
    "# Generate Year data\n",
    "AttendanceFTBLNP['Year'] = AttendanceFTBLNP[0].str[-10: -6]\n",
    "AttendanceFTBLNP['Year'] = AttendanceFTBLNP['Year'].astype(int)"
   ]
  },
  {
   "cell_type": "code",
   "execution_count": null,
   "id": "3e0899e9",
   "metadata": {},
   "outputs": [],
   "source": [
    "# Keep relevant variables\n",
    "AttendanceFTBLNP = AttendanceFTBLNP[['index', 'URL', 0, 1, 3, 'Year', 'hometeam', 'awayteam']] # missign text1"
   ]
  },
  {
   "cell_type": "code",
   "execution_count": null,
   "id": "51d1508d",
   "metadata": {},
   "outputs": [],
   "source": [
    "# Generate Attendance data\n",
    "AttendanceFTBLNP[3] = np.where(\n",
    "    (AttendanceFTBLNP[3].str.contains('Attendance')) | (AttendanceFTBLNP[3].str.contains('Referee')),\n",
    "    AttendanceFTBLNP[3], ''               \n",
    ")\n",
    "\n",
    "AttendanceFTBLNP[3] = AttendanceFTBLNP[3].str.replace('Attendance: ', '')\n",
    "AttendanceFTBLNP[3] = AttendanceFTBLNP[3].str.replace('closed doors', '0')\n",
    "AttendanceFTBLNP[3] = AttendanceFTBLNP[3].str.replace('[a-zA-Z]', '')"
   ]
  },
  {
   "cell_type": "code",
   "execution_count": null,
   "id": "a91cde11",
   "metadata": {},
   "outputs": [],
   "source": [
    "# Split Attendance by : and make adjustments\n",
    "AttendanceFTBLNP[['AttendanceFTBLNP', '31']] = AttendanceFTBLNP[3].str.split(':', n = 1, expand = True)\n",
    "AttendanceFTBLNP['AttendanceFTBLNP'] = AttendanceFTBLNP['AttendanceFTBLNP'].replace('', np.nan)\n",
    "AttendanceFTBLNP['AttendanceFTBLNP'] = AttendanceFTBLNP['AttendanceFTBLNP'].astype(float)\n",
    "\n",
    "# Keep relevant variables\n",
    "AttendanceFTBLNP = AttendanceFTBLNP[['index', 'URL', 0, 1, 'AttendanceFTBLNP', 'Year', 'hometeam', 'awayteam']]"
   ]
  },
  {
   "cell_type": "code",
   "execution_count": null,
   "id": "80eff682",
   "metadata": {},
   "outputs": [],
   "source": [
    "# Clean the name of teams\n",
    "vars = ['hometeam', 'awayteam']\n",
    "def standard_teams(df):\n",
    "    replacements = {\n",
    "        'Ã³' : 'ó', 'Ã±' : 'ñ', 'Ã\\xa0' : 'à', 'Ã©' : 'é',\n",
    "        'Ã\\xad' : 'í'\n",
    "    }\n",
    "    for var in vars:\n",
    "        for old_value, new_value in replacements.items():\n",
    "            df[var] = df[var].str.replace(old_value, new_value, regex = True)\n",
    "\n",
    "# Apply the function\n",
    "standard_teams(AttendanceFTBLNP)"
   ]
  },
  {
   "cell_type": "code",
   "execution_count": null,
   "id": "6eb0392b",
   "metadata": {},
   "outputs": [],
   "source": [
    "# Standarize the names of the teams\n",
    "def standard_teams(df):\n",
    "    replacements = {\n",
    "        ' de Tarragona' : '', 'Hercules' : 'Hércules', \n",
    "        'Malaga' : 'Málaga', 'de Santander' : ' Santander',\n",
    "        'Real Z' : 'Z', ' de Huelva' : '',\n",
    "        ' CD' : '', 'Cadiz' : 'Cádiz',\n",
    "        'Atletico Madrid' : 'Atlético Madrid', ' CF' : '',\n",
    "        'Deportivo Alaves' : 'Alavés', ' de Barcelona' : '',\n",
    "        'Real Betis' : 'Betis'\n",
    "    }\n",
    "    \n",
    "    for var in vars:\n",
    "        for old_value, new_value in replacements.items():\n",
    "            df[var] = df[var].str.replace(old_value, new_value, regex = True)\n",
    "\n",
    "# Apply the function\n",
    "standard_teams(AttendanceFTBLNP)"
   ]
  },
  {
   "cell_type": "code",
   "execution_count": null,
   "id": "572d040c",
   "metadata": {},
   "outputs": [],
   "source": [
    "# Encode data\n",
    "\n",
    "# Define the mapping from matchweek names to numeric IDs\n",
    "jornada_to_matchweek_id = {\n",
    "    \"La Liga (Matchweek 1)\": 1, \"La Liga (Matchweek 2)\": 2,\n",
    "    \"La Liga (Matchweek 3)\": 3, \"La Liga (Matchweek 4)\": 4,\n",
    "    \"La Liga (Matchweek 5)\": 5, \"La Liga (Matchweek 6)\": 6,\n",
    "    \"La Liga (Matchweek 7)\": 7, \"La Liga (Matchweek 8)\": 8,\n",
    "    \"La Liga (Matchweek 9)\": 9, \"La Liga (Matchweek 10)\": 10,\n",
    "    \"La Liga (Matchweek 11)\": 11, \"La Liga (Matchweek 12)\": 12,\n",
    "    \"La Liga (Matchweek 13)\": 13, \"La Liga (Matchweek 14)\": 14,\n",
    "    \"La Liga (Matchweek 15)\": 15, \"La Liga (Matchweek 16)\": 16,\n",
    "    \"La Liga (Matchweek 17)\": 17, \"La Liga (Matchweek 18)\": 18,\n",
    "    \"La Liga (Matchweek 19)\": 19, \"La Liga (Matchweek 20)\": 20,\n",
    "    \"La Liga (Matchweek 21)\": 21, \"La Liga (Matchweek 22)\": 22,\n",
    "    \"La Liga (Matchweek 23)\": 23, \"La Liga (Matchweek 24)\": 24,\n",
    "    \"La Liga (Matchweek 25)\": 25, \"La Liga (Matchweek 26)\": 26,\n",
    "    \"La Liga (Matchweek 27)\": 27, \"La Liga (Matchweek 28)\": 28,\n",
    "    \"La Liga (Matchweek 29)\": 29, \"La Liga (Matchweek 30)\": 30,\n",
    "    \"La Liga (Matchweek 31)\": 31, \"La Liga (Matchweek 32)\": 32,\n",
    "    \"La Liga (Matchweek 33)\": 33, \"La Liga (Matchweek 34)\": 34,\n",
    "    \"La Liga (Matchweek 35)\": 35, \"La Liga (Matchweek 36)\": 36,\n",
    "    \"La Liga (Matchweek 37)\": 37, \"La Liga (Matchweek 38)\": 38\n",
    "}\n",
    "\n",
    "AttendanceFTBLNP.rename(columns = {1 : 'Jornada'}, inplace = True)\n",
    "\n",
    "# Convert 'Jornada' string to numeric 'Matchweek'\n",
    "AttendanceFTBLNP['Matchweek'] = AttendanceFTBLNP['Jornada'].map(jornada_to_matchweek_id)"
   ]
  },
  {
   "cell_type": "code",
   "execution_count": null,
   "id": "9cd60a0e",
   "metadata": {},
   "outputs": [],
   "source": [
    "# We will need to expand the data and duplicate obs\n",
    "AttendanceFTBLNP = pd.concat([AttendanceFTBLNP, AttendanceFTBLNP], ignore_index = True)\n",
    "AttendanceFTBLNP['dupindicator'] = AttendanceFTBLNP.duplicated(keep='first').astype(int)"
   ]
  },
  {
   "cell_type": "code",
   "execution_count": null,
   "id": "84a50750",
   "metadata": {},
   "outputs": [],
   "source": [
    "AttendanceFTBLNP['hometeam'] = np.where(AttendanceFTBLNP['dupindicator'] == 1,\n",
    "                                        '', AttendanceFTBLNP['hometeam'])\n",
    "\n",
    "AttendanceFTBLNP['awayteam'] = np.where(AttendanceFTBLNP['dupindicator'] == 0,\n",
    "                                        '', AttendanceFTBLNP['awayteam'])\n",
    "\n",
    "AttendanceFTBLNP[0] = np.where( (AttendanceFTBLNP['hometeam'] == ''),\n",
    "                               AttendanceFTBLNP['awayteam'],\n",
    "                               AttendanceFTBLNP['hometeam'])"
   ]
  },
  {
   "cell_type": "code",
   "execution_count": null,
   "id": "1fdcfb50",
   "metadata": {},
   "outputs": [],
   "source": [
    "# Encode teams based on variable '0'\n",
    "#AttendanceFTBLNP"
   ]
  },
  {
   "cell_type": "code",
   "execution_count": null,
   "id": "bdf695a2",
   "metadata": {},
   "outputs": [],
   "source": [
    "# Adjust attendance variable\n",
    "AttendanceFTBLNP['AttendanceFTBLNP'] = np.where( (AttendanceFTBLNP['Year'] == 2020) & (AttendanceFTBLNP['Matchweek'] < 37),\n",
    "                             0, AttendanceFTBLNP['AttendanceFTBLNP'])\n",
    "\n",
    "AttendanceFTBLNP['AttendanceFTBLNP'] = np.where( (AttendanceFTBLNP['Year'] == 2020) & ( AttendanceFTBLNP['AttendanceFTBLNP'].isna() ),\n",
    "                             0, AttendanceFTBLNP['AttendanceFTBLNP'])"
   ]
  },
  {
   "cell_type": "code",
   "execution_count": null,
   "id": "e5db7876",
   "metadata": {},
   "outputs": [],
   "source": [
    "# Keep and order variables\n",
    "AttendanceFTBLNP = AttendanceFTBLNP[AttendanceFTBLNP['Year', 'Matchweek', 'Equipo', 'AttendanceFTBLNP']]"
   ]
  },
  {
   "cell_type": "code",
   "execution_count": null,
   "id": "cd7cdf27",
   "metadata": {},
   "outputs": [],
   "source": [
    "# Save data\n",
    "AttendanceFTBLNP.reset_index()\n",
    "AttendanceFTBLNP.to_excel('Datasets/AUXXX.xlsx')"
   ]
  },
  {
   "cell_type": "code",
   "execution_count": null,
   "id": "21b42cbd",
   "metadata": {},
   "outputs": [],
   "source": [
    "# Merge\n",
    "FinalCorr = pd.merge(AttendanceFTBLNP, Final, on = ['Year', 'Matchweek', 'Equipo'],\n",
    "                           validate = 'one_to_one', indicator = True)"
   ]
  },
  {
   "cell_type": "code",
   "execution_count": null,
   "id": "64a74dad",
   "metadata": {},
   "outputs": [],
   "source": [
    "# Import data to merge\n",
    "\n",
    "# Merge\n",
    "FinalCorr = pd.merge(FinalCorr, , on = ['Year', 'Matchweek', 'Equipo'],\n",
    "                    validate = 'one_to_one', indicator = True)"
   ]
  },
  {
   "cell_type": "code",
   "execution_count": null,
   "id": "fde12678",
   "metadata": {},
   "outputs": [],
   "source": [
    "# Minor adjustments\n",
    "FinalCorr['YellowContra'] = np.where(( FinalCorr[] == 'both' ),\n",
    "                                     FinalCorr['YellowContra'] - FinalCorr['SecYCrdHOME'],\n",
    "                                      FinalCorr['YellowContra'] )\n",
    "\n",
    "FinalCorr['YellowContra'] = np.where(( FinalCorr[] == 'both' ),\n",
    "                                     FinalCorr['YellowContra'] - FinalCorr['SecYCrdAWAY'],\n",
    "                                      FinalCorr['YellowContra'] )\n",
    "\n",
    "# Might need to readjust"
   ]
  },
  {
   "cell_type": "code",
   "execution_count": null,
   "id": "c62234b7",
   "metadata": {},
   "outputs": [],
   "source": [
    "# Drop aux variables"
   ]
  },
  {
   "cell_type": "code",
   "execution_count": null,
   "id": "53f9ffd3",
   "metadata": {},
   "outputs": [],
   "source": [
    "# Order variables"
   ]
  },
  {
   "cell_type": "code",
   "execution_count": null,
   "id": "b6928984",
   "metadata": {},
   "outputs": [],
   "source": [
    "# Replace data"
   ]
  },
  {
   "cell_type": "code",
   "execution_count": null,
   "id": "7128612a",
   "metadata": {},
   "outputs": [],
   "source": [
    "# Drop variables"
   ]
  },
  {
   "cell_type": "code",
   "execution_count": null,
   "id": "96eb353a",
   "metadata": {},
   "outputs": [],
   "source": [
    "# Save\n",
    "FinalCorr.reset_index()\n",
    "FinalCorr.to_excel('Datasets/FinalCorr.xlsx')"
   ]
  }
 ],
 "metadata": {
  "kernelspec": {
   "display_name": "Python 3 (ipykernel)",
   "language": "python",
   "name": "python3"
  },
  "language_info": {
   "codemirror_mode": {
    "name": "ipython",
    "version": 3
   },
   "file_extension": ".py",
   "mimetype": "text/x-python",
   "name": "python",
   "nbconvert_exporter": "python",
   "pygments_lexer": "ipython3",
   "version": "3.10.9"
  }
 },
 "nbformat": 4,
 "nbformat_minor": 5
}
