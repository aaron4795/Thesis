{
 "cells": [
  {
   "cell_type": "code",
   "execution_count": 2,
   "id": "edb99666",
   "metadata": {},
   "outputs": [],
   "source": [
    "# Import libraries\n",
    "import pandas as pd\n",
    "import os\n",
    "import numpy as np\n",
    "\n",
    "# Set working directory\n",
    "os.chdir('C:\\\\Users\\\\aaron\\\\Desktop\\\\GitHub\\\\Thesis\\\\Python')"
   ]
  },
  {
   "cell_type": "code",
   "execution_count": 2,
   "id": "5388c09d",
   "metadata": {},
   "outputs": [
    {
     "name": "stdout",
     "output_type": "stream",
     "text": [
      "Index(['Year', 'Matchday', 'Home_Team', 'Away_Team', 'HomeTotPKcon',\n",
      "       'AwayTotPKcon', 'HomeTotPKatt', 'AwayTotPKatt', 'Partido'],\n",
      "      dtype='object')\n",
      "Index(['Year', 'Matchweek', 'Season', 'Home_Team', 'Away_Team', 'Partido',\n",
      "       'Home_Score', 'Home_Yellow_Cards', 'Home_Red_Cards', 'Away_Score',\n",
      "       'Away_Yellow_Cards', 'Away_Red_Cards', 'HomeOff', 'AwayOff',\n",
      "       'HomePKcon', 'AwayPKcon', 'HomePK', 'AwayPK', 'HomePKatt', 'AwayPKatt',\n",
      "       'Date', 'Home_Fouls', 'Away_Fouls', 'AwayFld', 'HomeFld', 'FinalResult',\n",
      "       'HomeEquipo', 'HomeAnnual Wages EUR', 'HomeMktValue', 'AwayEquipo',\n",
      "       'AwayAnnual Wages EUR', 'AwayMktValue'],\n",
      "      dtype='object')\n"
     ]
    }
   ],
   "source": [
    "# Import data\n",
    "PenaltiesConceded = pd.read_excel('Datasets/PenaltiesConceded.xlsx')\n",
    "Merge1 = pd.read_excel('Datasets/Merge1.xlsx', dtype = {'Season' : str})\n",
    "\n",
    "# Visualize columns\n",
    "print(PenaltiesConceded.columns)\n",
    "print(Merge1.columns)"
   ]
  },
  {
   "cell_type": "code",
   "execution_count": 3,
   "id": "9c9cb6aa",
   "metadata": {},
   "outputs": [
    {
     "name": "stdout",
     "output_type": "stream",
     "text": [
      "[2004 2005 2006 2007 2008 2009 2010 2011 2012 2013 1999 2000 2001 1998\n",
      " 2003 2002]\n",
      "['9899' '9900' '0001' '0102' '0203' '0304' '0405' '0506' '0607' '0708'\n",
      " '0809' '0910' '1011' '1112' '1213' '1314' '1415' '1516' '1617' '1718'\n",
      " '1819' '1920' '2021' '2122']\n"
     ]
    }
   ],
   "source": [
    "print(PenaltiesConceded['Year'].unique())\n",
    "print(Merge1['Season'].unique())"
   ]
  },
  {
   "cell_type": "code",
   "execution_count": 4,
   "id": "09a7e89c",
   "metadata": {},
   "outputs": [],
   "source": [
    "# Merge data\n",
    "FullTeamProbit = pd.merge(PenaltiesConceded, Merge1, on = ['Partido', 'Year'],\n",
    "                         indicator = True, validate = 'many_to_many', how = 'outer')\n",
    "\n",
    "FullTeamProbit = FullTeamProbit.drop(columns = ['Home_Team_x', 'Away_Team_x'])\n",
    "FullTeamProbit = FullTeamProbit.rename(columns = {'Home_Team_y' : 'Home_Team', 'Away_Team_y' : 'Away_Team'})\n",
    "\n",
    "FullTeamProbit = FullTeamProbit.sort_values(by = ['Year', 'Matchweek'])"
   ]
  },
  {
   "cell_type": "code",
   "execution_count": 5,
   "id": "dd47ed32",
   "metadata": {},
   "outputs": [],
   "source": [
    "# Set penalty conceded and penalty attempted variables to 0 for years before 2014\n",
    "vars = ['HomePKcon', 'AwayPKcon', 'HomePKatt', 'AwayPKatt']\n",
    "\n",
    "for var in vars:\n",
    "    FullTeamProbit[var] = np.where((FullTeamProbit['Year'] < 2014), \n",
    "                             0, FullTeamProbit[var])\n",
    "    \n",
    "# Replace missing values for total penalties conceded and attempted with 0\n",
    "vars = ['HomeTotPKcon', 'AwayTotPKcon', 'HomeTotPKatt', 'AwayTotPKatt']\n",
    "\n",
    "for var in vars:\n",
    "    FullTeamProbit[var] = np.where((FullTeamProbit[var].isna()),\n",
    "                                  0, FullTeamProbit[var])"
   ]
  },
  {
   "cell_type": "code",
   "execution_count": 6,
   "id": "c9e20dc5",
   "metadata": {},
   "outputs": [],
   "source": [
    "# Generate combined penalty concession and attempt variables for home and away teams\n",
    "FullTeamProbit['HomePenConc'] = FullTeamProbit['HomeTotPKcon'] + FullTeamProbit['HomePKcon']\n",
    "FullTeamProbit['AwayPenConc'] = FullTeamProbit['AwayTotPKcon'] + FullTeamProbit['AwayPKcon']\n",
    "FullTeamProbit['HomePenAtt'] = FullTeamProbit['HomeTotPKatt'] + FullTeamProbit['HomePKatt']\n",
    "FullTeamProbit['AwayPenAtt'] = FullTeamProbit['AwayTotPKatt'] + FullTeamProbit['AwayPKatt']"
   ]
  },
  {
   "cell_type": "code",
   "execution_count": 7,
   "id": "e57f2c1f",
   "metadata": {},
   "outputs": [
    {
     "data": {
      "text/plain": [
       "Index(['Year', 'Matchday', 'HomeTotPKcon', 'AwayTotPKcon', 'HomeTotPKatt',\n",
       "       'AwayTotPKatt', 'Partido', 'Matchweek', 'Season', 'Home_Team',\n",
       "       'Away_Team', 'Home_Score', 'Home_Yellow_Cards', 'Home_Red_Cards',\n",
       "       'Away_Score', 'Away_Yellow_Cards', 'Away_Red_Cards', 'HomeOff',\n",
       "       'AwayOff', 'HomePKcon', 'AwayPKcon', 'HomePK', 'AwayPK', 'HomePKatt',\n",
       "       'AwayPKatt', 'Date', 'Home_Fouls', 'Away_Fouls', 'AwayFld', 'HomeFld',\n",
       "       'FinalResult', 'HomeEquipo', 'HomeAnnual Wages EUR', 'HomeMktValue',\n",
       "       'AwayEquipo', 'AwayAnnual Wages EUR', 'AwayMktValue', '_merge',\n",
       "       'HomePenConc', 'AwayPenConc', 'HomePenAtt', 'AwayPenAtt'],\n",
       "      dtype='object')"
      ]
     },
     "execution_count": 7,
     "metadata": {},
     "output_type": "execute_result"
    }
   ],
   "source": [
    "FullTeamProbit.columns"
   ]
  },
  {
   "cell_type": "code",
   "execution_count": 8,
   "id": "4f78beb6",
   "metadata": {},
   "outputs": [],
   "source": [
    "# Keep relevant variables and order\n",
    "FullTeamProbit = FullTeamProbit[['Home_Team', 'Away_Team', 'Partido', 'Matchweek', 'Season', \n",
    "                                 'Home_Score', 'Home_Yellow_Cards', 'Home_Red_Cards', 'Away_Score',\n",
    "                                 'Away_Yellow_Cards', 'Away_Red_Cards', 'HomePenConc', 'AwayPenConc',\n",
    "                                 'HomePenAtt', 'AwayPenAtt', 'HomeOff', 'AwayOff', 'Date', 'Home_Fouls',\n",
    "                                 'Away_Fouls', 'AwayFld', 'HomeFld', 'FinalResult', 'HomeEquipo',\n",
    "                                 'HomeAnnual Wages EUR', 'HomeMktValue', 'AwayEquipo', 'AwayAnnual Wages EUR', 'AwayMktValue']]"
   ]
  },
  {
   "cell_type": "code",
   "execution_count": 9,
   "id": "108ce580",
   "metadata": {},
   "outputs": [],
   "source": [
    "# Import data\n",
    "MergeFootballLineups = pd.read_excel('Datasets/FootballLineups/MergeFootballLineups.xlsx', \n",
    "                                     dtype = {'Season' : str})"
   ]
  },
  {
   "cell_type": "code",
   "execution_count": null,
   "id": "610aae47",
   "metadata": {},
   "outputs": [],
   "source": []
  },
  {
   "cell_type": "code",
   "execution_count": 10,
   "id": "44384974",
   "metadata": {},
   "outputs": [],
   "source": [
    "# Merge\n",
    "FullTeamProbit = pd.merge(FullTeamProbit, MergeFootballLineups, on = ['Partido', 'Season'],\n",
    "                         how = 'outer', validate = 'many_to_many', indicator = True)"
   ]
  },
  {
   "cell_type": "code",
   "execution_count": 13,
   "id": "91a82dab",
   "metadata": {},
   "outputs": [
    {
     "data": {
      "text/plain": [
       "Index(['Home_Team', 'Away_Team', 'Partido', 'Matchweek', 'Season',\n",
       "       'Home_Score', 'Home_Yellow_Cards', 'Home_Red_Cards', 'Away_Score',\n",
       "       'Away_Yellow_Cards', 'Away_Red_Cards', 'HomePenConc', 'AwayPenConc',\n",
       "       'HomePenAtt', 'AwayPenAtt', 'HomeOff', 'AwayOff', 'Date',\n",
       "       'Home_Fouls_x', 'Away_Fouls_x', 'AwayFld', 'HomeFld', 'FinalResult',\n",
       "       'HomeEquipo', 'HomeAnnual Wages EUR', 'HomeMktValue', 'AwayEquipo',\n",
       "       'AwayAnnual Wages EUR', 'AwayMktValue', 'url', 'hometeam', 'awayteam',\n",
       "       'Home_Fouls_y', 'Home_Offsides', 'Home_Possession', 'Away_Fouls_y',\n",
       "       'Away_Offsides', 'Away_Possession', 'Home_Fld', 'Away_Fld', 'HomeFouls',\n",
       "       'AwayFouls', '_merge'],\n",
       "      dtype='object')"
      ]
     },
     "execution_count": 13,
     "metadata": {},
     "output_type": "execute_result"
    }
   ],
   "source": [
    "FullTeamProbit.columns"
   ]
  },
  {
   "cell_type": "code",
   "execution_count": null,
   "id": "6d18e505",
   "metadata": {},
   "outputs": [],
   "source": [
    "# Replace missing values for various game statistics with 0\n",
    "variables = []\n",
    "for var in variables:\n",
    "    FullTeamProbit[var] = np.where( (FullTeamProbit[var].isna()),\n",
    "                                  0, FullTeamProbit[var])"
   ]
  },
  {
   "cell_type": "code",
   "execution_count": null,
   "id": "ada0c465",
   "metadata": {},
   "outputs": [],
   "source": [
    "# Generate total offsides variables by summing individual offsides counts\n",
    "FullTeamProbit['HomeOffs'] = FullTeamProbit['Home_Off'] + FullTeamProbit['HomeOffsides']\n",
    "FullTeamProbit['AwayOffs'] = FullTeamProbit['Away_Off'] + FullTeamProbit['AwayOffsides']"
   ]
  },
  {
   "cell_type": "code",
   "execution_count": null,
   "id": "e4f3b48d",
   "metadata": {},
   "outputs": [],
   "source": [
    "# Drop vars"
   ]
  },
  {
   "cell_type": "code",
   "execution_count": null,
   "id": "2788e508",
   "metadata": {},
   "outputs": [],
   "source": [
    "# Rename variables for clarity\n",
    "FullTeamProbit = FullTeamProbit.rename(columns = {'Home_Score' : 'HomeGoals', 'Away_Score' : 'AwayGoals',\n",
    "                'Home_Yellow_Cards' : 'HomeYellow', 'Away_Yellow_Cards' : 'AwayYellow',\n",
    "                'Home_Red_Cards' : 'HomeRed', 'Away_Red_Cards' : 'AwayRed',\n",
    "                'Home_Fouls' : 'HomeFouls', 'Away_Fouls' : 'AwayFouls',\n",
    "                'Home_Fld' : 'HomeFld', 'Away_Fld' : 'AwayFld',\n",
    "                'HomeOffs' : 'HomeOffsides', 'AwayOffs' : 'AwayOffsides'})"
   ]
  },
  {
   "cell_type": "code",
   "execution_count": null,
   "id": "d0ce89eb",
   "metadata": {},
   "outputs": [],
   "source": [
    "# Order"
   ]
  },
  {
   "cell_type": "code",
   "execution_count": null,
   "id": "fb79f690",
   "metadata": {},
   "outputs": [],
   "source": [
    "# Define variables and rename\n",
    "FullTeamProbit['Jornada'] = FullTeamProbit['Matchweek']\n",
    "\n",
    "FullTeamProbit = FullTeamProbit.rename(columns = {'Home_Team' : 'hometeam', \n",
    "                                                  'Away_Team' : 'awayteam'})"
   ]
  },
  {
   "cell_type": "code",
   "execution_count": null,
   "id": "0ff642a3",
   "metadata": {},
   "outputs": [],
   "source": []
  },
  {
   "cell_type": "code",
   "execution_count": null,
   "id": "5e50a880",
   "metadata": {},
   "outputs": [],
   "source": [
    "# Define Year variable\n",
    "season_to_year = {\n",
    "    '9899': 1998, '9900': 1999, '0001': 2000, '0102': 2001, '0203': 2002, \n",
    "    '0304': 2003, '0405': 2004, '0506': 2005, '0607': 2006, '0708': 2007, \n",
    "    '0809': 2008, '0910': 2009, '1011': 2010, '1112': 2011, '1213': 2012, \n",
    "    '1314': 2013, '1415': 2014, '1516': 2015, '1617': 2016, '1718': 2017, \n",
    "    '1819': 2018, '1920': 2019, '2021': 2020, '2122': 2021\n",
    "}\n",
    "\n",
    "FullTeamProbit['Year'] = FullTeamProbit['Season'].map(season_to_year)"
   ]
  },
  {
   "cell_type": "code",
   "execution_count": null,
   "id": "a8a57b67",
   "metadata": {},
   "outputs": [],
   "source": [
    "#before dropping it, display the obs\n",
    "#FullTeamProbit = FullTeamProbit[(~FullTeamProbit['hometeam'].isna())]"
   ]
  },
  {
   "cell_type": "code",
   "execution_count": 11,
   "id": "931a3a2c",
   "metadata": {},
   "outputs": [],
   "source": [
    "# Save data\n",
    "FullTeamProbit.to_excel('FullTeamProbit.xlsx')"
   ]
  },
  {
   "cell_type": "code",
   "execution_count": null,
   "id": "71fb0146",
   "metadata": {},
   "outputs": [],
   "source": [
    "# Merge data\n",
    "Attendance9821R = pd.read_excel('Datasets/TRANSFERMKT/Attendance9821R.xlsx')\n",
    "ODDS = pd.read_excel('Datasets/odds.xlsx')\n",
    "\n",
    "###MERGE"
   ]
  },
  {
   "cell_type": "code",
   "execution_count": null,
   "id": "b87a07cb",
   "metadata": {},
   "outputs": [],
   "source": [
    "# Keep relevant variables after merging and reorder and sort\n"
   ]
  },
  {
   "cell_type": "code",
   "execution_count": null,
   "id": "e5f3cd44",
   "metadata": {},
   "outputs": [],
   "source": [
    "# Rename variables for clarity\n",
    "FullTeamProbit = FullTeamProbit.rename(columns = {'hometeam' : 'HomeTeam', \n",
    "                                    'awayteam' : 'AwayTeam', 'Attendance' : 'AttendanceTransfMkt'})"
   ]
  },
  {
   "cell_type": "code",
   "execution_count": null,
   "id": "2b581e6a",
   "metadata": {},
   "outputs": [],
   "source": [
    "# Save data\n",
    "FullTeamProbit.to_excel('Datasets/FullTeamProbit.xlsx')"
   ]
  },
  {
   "cell_type": "markdown",
   "id": "b9c7ac67",
   "metadata": {},
   "source": [
    "# "
   ]
  },
  {
   "cell_type": "code",
   "execution_count": null,
   "id": "f4407482",
   "metadata": {},
   "outputs": [],
   "source": [
    "# Import data\n",
    "Final1 = pd.read_excel('Datasets/FullTeamProbit.xlsx')"
   ]
  },
  {
   "cell_type": "code",
   "execution_count": null,
   "id": "0a530a98",
   "metadata": {},
   "outputs": [],
   "source": [
    "# Duplicate obs / Reshape"
   ]
  },
  {
   "cell_type": "code",
   "execution_count": null,
   "id": "8bbe86ce",
   "metadata": {},
   "outputs": [],
   "source": []
  },
  {
   "cell_type": "code",
   "execution_count": null,
   "id": "c1ca8d41",
   "metadata": {},
   "outputs": [],
   "source": []
  },
  {
   "cell_type": "code",
   "execution_count": null,
   "id": "6bde732f",
   "metadata": {},
   "outputs": [],
   "source": []
  },
  {
   "cell_type": "code",
   "execution_count": null,
   "id": "452f2644",
   "metadata": {},
   "outputs": [],
   "source": []
  },
  {
   "cell_type": "code",
   "execution_count": null,
   "id": "4b2dfc40",
   "metadata": {},
   "outputs": [],
   "source": []
  },
  {
   "cell_type": "code",
   "execution_count": null,
   "id": "2ba8e5c6",
   "metadata": {},
   "outputs": [],
   "source": []
  },
  {
   "cell_type": "code",
   "execution_count": null,
   "id": "0068601c",
   "metadata": {},
   "outputs": [],
   "source": []
  },
  {
   "cell_type": "code",
   "execution_count": null,
   "id": "75de2416",
   "metadata": {},
   "outputs": [],
   "source": [
    "# Handle missing data for Fouls, Fld, and Offsides by setting them to missing if the year is before 2005\n",
    "vars = ['Fouls', 'Fld', 'Offsides']\n",
    "\n",
    "for var in vars:\n",
    "    Final1[var] = np.where((Final1['Year'] < 2005), float['nan'], Final1[var])"
   ]
  },
  {
   "cell_type": "code",
   "execution_count": null,
   "id": "77baefca",
   "metadata": {},
   "outputs": [],
   "source": [
    "# Generate variable for difference in bookmaker probabilities (iwh - iwa) based on Local status\n",
    "Final1['DifBookMkr'] = np.where( (DifBookMkr['Local'] == 1), \n",
    "                                Final1['iwh'] - Final1['iwa'],\n",
    "                                Final1['iwa'] - Final1['iwh'])"
   ]
  },
  {
   "cell_type": "code",
   "execution_count": null,
   "id": "f5d7615d",
   "metadata": {},
   "outputs": [],
   "source": [
    "# Using the Buraimo methodology, generate variables for bookmaker probabilities adjusted by epsilon\n",
    "Final1['SumBooker'] = Final1['iwa'] + Final1['iwd'] + Final1['iwh']\n",
    "Final1['epsilon'] = Final1['SumBooker']-1\n",
    "\n",
    "Final1['iwhe'] = Final1['iwh'] / Final1['epsilon']\n",
    "Final1['iwde'] = Final1['iwd'] / Final1['epsilon']\n",
    "Final1['iwae'] = Final1['iwa'] / Final1['epsilon']"
   ]
  },
  {
   "cell_type": "code",
   "execution_count": null,
   "id": "ee7c5062",
   "metadata": {},
   "outputs": [],
   "source": [
    "# Generate difference in adjusted bookmaker probabilities based on Local status\n",
    "Final1['DifBookMaker'] = np.where( (DifBookMkr['Local'] == 1), \n",
    "                                Final1['iwhe'] - Final1['iwae'],\n",
    "                                Final1['iwae'] - Final1['iwhe'])"
   ]
  },
  {
   "cell_type": "code",
   "execution_count": 1,
   "id": "1fa7e904",
   "metadata": {},
   "outputs": [
    {
     "name": "stdout",
     "output_type": "stream",
     "text": [
      "SqDifMktValue\n",
      "SqDifBookMkr\n",
      "SqDifBookMaker\n"
     ]
    }
   ],
   "source": [
    "# Generate the square of the quality proxy variables\n",
    "variables = ['DifMktValue', 'DifBookMkr', 'DifBookMaker']\n",
    "\n",
    "for var in variables:\n",
    "    aux = 'Sq' + var\n",
    "    \n",
    "    Final1[aux] = Final1[var]^2"
   ]
  },
  {
   "cell_type": "code",
   "execution_count": null,
   "id": "526c8680",
   "metadata": {},
   "outputs": [],
   "source": [
    "# Generate a variable to indicate if any payments were made during the years 2001-2017\n",
    "Final1['TdePagos'] = np.where( (Final1['Year'] > 2000) & (Final1['Year'] < 2018),\n",
    "                             1, 0)"
   ]
  },
  {
   "cell_type": "markdown",
   "id": "c615a575",
   "metadata": {},
   "source": [
    "# GENERATE TREATMENT VARIABLES"
   ]
  },
  {
   "cell_type": "code",
   "execution_count": null,
   "id": "2d062f5d",
   "metadata": {},
   "outputs": [],
   "source": [
    "# Variable indicating if the team is Barcelona (Equipo == 6)\n",
    "Final1['Barca'] = np.where((Final1['Equipo'] == 6), 1, 0)\n",
    "\n",
    "# Variable indicating if the team is either Barcelona or Real Madrid (Equipo == 6 or 32)\n",
    "Final1['BarcaRM'] = np.where((Final1['Equipo'] == 6) | (Final1['Equipo'] == 32),\n",
    "                             1, 0)\n",
    "\n",
    "# Generate variable indicating whether a club paid the CTA (1 for Barcelona during payment years)\n",
    "Final1['Bribe'] = np.where( (Final1['Barca'] == 1) & ((2000 < Final1['Year'] < 2018)), \n",
    "                          1, 0)"
   ]
  },
  {
   "cell_type": "code",
   "execution_count": null,
   "id": "27cfb5b1",
   "metadata": {},
   "outputs": [],
   "source": []
  },
  {
   "cell_type": "code",
   "execution_count": null,
   "id": "93936f0e",
   "metadata": {},
   "outputs": [],
   "source": [
    "Final1.to_excel('Datasets/Final1.xlsx')"
   ]
  },
  {
   "cell_type": "markdown",
   "id": "357fc17c",
   "metadata": {},
   "source": [
    "# Attendance"
   ]
  },
  {
   "cell_type": "code",
   "execution_count": 79,
   "id": "3a91cd8c",
   "metadata": {},
   "outputs": [],
   "source": [
    "# Once performed this once, there's no need to perform this again as it is time consuming\n",
    "\n",
    "dataframes = {}\n",
    "\n",
    "for i in range(1, 101):\n",
    "    # Define the path file and file path\n",
    "    filename = f'FTBLNP{i}.csv'\n",
    "    filepath = os.path.join(r'Data\\FootballLineups\\Attendance', filename)\n",
    "\n",
    "    # Import data\n",
    "    AttendanceFTBLNP = pd.read_csv(filepath, encoding='ISO-8859-1')\n",
    "    \n",
    "    dataframes[filename] = AttendanceFTBLNP\n",
    "    \n",
    "#print(dataframes.keys())"
   ]
  },
  {
   "cell_type": "code",
   "execution_count": 80,
   "id": "b3bec479",
   "metadata": {},
   "outputs": [
    {
     "data": {
      "text/plain": [
       "8007"
      ]
     },
     "execution_count": 80,
     "metadata": {},
     "output_type": "execute_result"
    }
   ],
   "source": [
    "# Concat dictionary entries in one dataframe\n",
    "AttendanceFTBLNP = pd.concat(dataframes.values(), ignore_index = True)\n",
    "\n",
    "len(AttendanceFTBLNP)"
   ]
  },
  {
   "cell_type": "code",
   "execution_count": 81,
   "id": "a0b047f1",
   "metadata": {},
   "outputs": [],
   "source": [
    "AuxAttendance = AttendanceFTBLNP['Text'].str.split(' - ', expand = True)\n",
    "\n",
    "check how you can split it and adding the new columns to the og dataset"
   ]
  },
  {
   "cell_type": "code",
   "execution_count": 82,
   "id": "9af16a44",
   "metadata": {},
   "outputs": [],
   "source": [
    "AuxAttendance = AuxAttendance[AuxAttendance[0] != 'character(0)']\n",
    "\n",
    "AuxAttendance[1] = AuxAttendance[1].str.replace(' Matchday', 'La Liga (Matchday')"
   ]
  },
  {
   "cell_type": "code",
   "execution_count": 83,
   "id": "d5765be0",
   "metadata": {},
   "outputs": [],
   "source": [
    "rango = ['0', '1', '2', '3', '4', '5', '6', '7', '8', '9']\n",
    "\n",
    "for i in rango:\n",
    "    aux1 = i + ' '\n",
    "    auxi = i + ')'\n",
    "    auxs = ' ' + i + ' '\n",
    "    AuxAttendance[1] = AuxAttendance[1].str.replace(aux1, auxi)\n",
    "    AuxAttendance[0] = AuxAttendance[0].str.replace(auxs, '')"
   ]
  },
  {
   "cell_type": "code",
   "execution_count": null,
   "id": "962c5498",
   "metadata": {},
   "outputs": [],
   "source": [
    "# Generate Yeat data"
   ]
  },
  {
   "cell_type": "code",
   "execution_count": 84,
   "id": "51d1508d",
   "metadata": {},
   "outputs": [
    {
     "ename": "TypeError",
     "evalue": "bad operand type for unary ~: 'NoneType'",
     "output_type": "error",
     "traceback": [
      "\u001b[1;31m---------------------------------------------------------------------------\u001b[0m",
      "\u001b[1;31mTypeError\u001b[0m                                 Traceback (most recent call last)",
      "Cell \u001b[1;32mIn[84], line 2\u001b[0m\n\u001b[0;32m      1\u001b[0m \u001b[38;5;66;03m# Generate Attendance data\u001b[39;00m\n\u001b[1;32m----> 2\u001b[0m AuxAttendance[\u001b[38;5;241m3\u001b[39m] \u001b[38;5;241m=\u001b[39m np\u001b[38;5;241m.\u001b[39mwhere( (\u001b[38;5;241;43m~\u001b[39;49m\u001b[43mAuxAttendance\u001b[49m\u001b[43m[\u001b[49m\u001b[38;5;241;43m3\u001b[39;49m\u001b[43m]\u001b[49m\u001b[38;5;241;43m.\u001b[39;49m\u001b[43mstr\u001b[49m\u001b[38;5;241;43m.\u001b[39;49m\u001b[43mcontains\u001b[49m\u001b[43m(\u001b[49m\u001b[38;5;124;43m'\u001b[39;49m\u001b[38;5;124;43mAttendance\u001b[39;49m\u001b[38;5;124;43m'\u001b[39;49m\u001b[43m)\u001b[49m) \u001b[38;5;241m|\u001b[39m \n\u001b[0;32m      3\u001b[0m                               (\u001b[38;5;241m~\u001b[39mAuxAttendance[\u001b[38;5;241m3\u001b[39m]\u001b[38;5;241m.\u001b[39mstr\u001b[38;5;241m.\u001b[39mcontains(\u001b[38;5;124m'\u001b[39m\u001b[38;5;124mReferee\u001b[39m\u001b[38;5;124m'\u001b[39m)), \n\u001b[0;32m      4\u001b[0m                                \u001b[38;5;124m'\u001b[39m\u001b[38;5;124m'\u001b[39m, AuxAttendance[\u001b[38;5;241m3\u001b[39m] )\n",
      "File \u001b[1;32m~\\anaconda3\\lib\\site-packages\\pandas\\core\\generic.py:1522\u001b[0m, in \u001b[0;36mNDFrame.__invert__\u001b[1;34m(self)\u001b[0m\n\u001b[0;32m   1518\u001b[0m \u001b[38;5;28;01mif\u001b[39;00m \u001b[38;5;129;01mnot\u001b[39;00m \u001b[38;5;28mself\u001b[39m\u001b[38;5;241m.\u001b[39msize:\n\u001b[0;32m   1519\u001b[0m     \u001b[38;5;66;03m# inv fails with 0 len\u001b[39;00m\n\u001b[0;32m   1520\u001b[0m     \u001b[38;5;28;01mreturn\u001b[39;00m \u001b[38;5;28mself\u001b[39m\n\u001b[1;32m-> 1522\u001b[0m new_data \u001b[38;5;241m=\u001b[39m \u001b[38;5;28;43mself\u001b[39;49m\u001b[38;5;241;43m.\u001b[39;49m\u001b[43m_mgr\u001b[49m\u001b[38;5;241;43m.\u001b[39;49m\u001b[43mapply\u001b[49m\u001b[43m(\u001b[49m\u001b[43moperator\u001b[49m\u001b[38;5;241;43m.\u001b[39;49m\u001b[43minvert\u001b[49m\u001b[43m)\u001b[49m\n\u001b[0;32m   1523\u001b[0m \u001b[38;5;28;01mreturn\u001b[39;00m \u001b[38;5;28mself\u001b[39m\u001b[38;5;241m.\u001b[39m_constructor(new_data)\u001b[38;5;241m.\u001b[39m__finalize__(\u001b[38;5;28mself\u001b[39m, method\u001b[38;5;241m=\u001b[39m\u001b[38;5;124m\"\u001b[39m\u001b[38;5;124m__invert__\u001b[39m\u001b[38;5;124m\"\u001b[39m)\n",
      "File \u001b[1;32m~\\anaconda3\\lib\\site-packages\\pandas\\core\\internals\\managers.py:350\u001b[0m, in \u001b[0;36mBaseBlockManager.apply\u001b[1;34m(self, f, align_keys, ignore_failures, **kwargs)\u001b[0m\n\u001b[0;32m    348\u001b[0m \u001b[38;5;28;01mtry\u001b[39;00m:\n\u001b[0;32m    349\u001b[0m     \u001b[38;5;28;01mif\u001b[39;00m callable(f):\n\u001b[1;32m--> 350\u001b[0m         applied \u001b[38;5;241m=\u001b[39m b\u001b[38;5;241m.\u001b[39mapply(f, \u001b[38;5;241m*\u001b[39m\u001b[38;5;241m*\u001b[39mkwargs)\n\u001b[0;32m    351\u001b[0m     \u001b[38;5;28;01melse\u001b[39;00m:\n\u001b[0;32m    352\u001b[0m         applied \u001b[38;5;241m=\u001b[39m \u001b[38;5;28mgetattr\u001b[39m(b, f)(\u001b[38;5;241m*\u001b[39m\u001b[38;5;241m*\u001b[39mkwargs)\n",
      "File \u001b[1;32m~\\anaconda3\\lib\\site-packages\\pandas\\core\\internals\\blocks.py:351\u001b[0m, in \u001b[0;36mBlock.apply\u001b[1;34m(self, func, **kwargs)\u001b[0m\n\u001b[0;32m    345\u001b[0m \u001b[38;5;129m@final\u001b[39m\n\u001b[0;32m    346\u001b[0m \u001b[38;5;28;01mdef\u001b[39;00m \u001b[38;5;21mapply\u001b[39m(\u001b[38;5;28mself\u001b[39m, func, \u001b[38;5;241m*\u001b[39m\u001b[38;5;241m*\u001b[39mkwargs) \u001b[38;5;241m-\u001b[39m\u001b[38;5;241m>\u001b[39m \u001b[38;5;28mlist\u001b[39m[Block]:\n\u001b[0;32m    347\u001b[0m     \u001b[38;5;124;03m\"\"\"\u001b[39;00m\n\u001b[0;32m    348\u001b[0m \u001b[38;5;124;03m    apply the function to my values; return a block if we are not\u001b[39;00m\n\u001b[0;32m    349\u001b[0m \u001b[38;5;124;03m    one\u001b[39;00m\n\u001b[0;32m    350\u001b[0m \u001b[38;5;124;03m    \"\"\"\u001b[39;00m\n\u001b[1;32m--> 351\u001b[0m     result \u001b[38;5;241m=\u001b[39m func(\u001b[38;5;28mself\u001b[39m\u001b[38;5;241m.\u001b[39mvalues, \u001b[38;5;241m*\u001b[39m\u001b[38;5;241m*\u001b[39mkwargs)\n\u001b[0;32m    353\u001b[0m     \u001b[38;5;28;01mreturn\u001b[39;00m \u001b[38;5;28mself\u001b[39m\u001b[38;5;241m.\u001b[39m_split_op_result(result)\n",
      "\u001b[1;31mTypeError\u001b[0m: bad operand type for unary ~: 'NoneType'"
     ]
    }
   ],
   "source": [
    "# Generate Attendance data\n",
    "AuxAttendance[3] = np.where( (~AuxAttendance[3].str.contains('Attendance')) | \n",
    "                              (~AuxAttendance[3].str.contains('Referee')), \n",
    "                               '', AuxAttendance[3] )\n",
    "\n",
    "CHANGE CONDITIONS, NOT WORKING\n",
    "\n",
    "AuxAttendance[3] = AuxAttendance[3].str.replace('Attendance: ', '')\n",
    "\n",
    "#JUST KEEP DIGITS\n",
    "AuxAttendance[3] = AuxAttendance[3].str.replace(+t, '')\n",
    "\n",
    "AuxAttendance[3].astype(int)\n",
    "\n",
    "# RENAME"
   ]
  },
  {
   "cell_type": "code",
   "execution_count": null,
   "id": "21b42cbd",
   "metadata": {},
   "outputs": [],
   "source": []
  },
  {
   "cell_type": "code",
   "execution_count": null,
   "id": "9cd60a0e",
   "metadata": {},
   "outputs": [],
   "source": []
  },
  {
   "cell_type": "code",
   "execution_count": null,
   "id": "572d040c",
   "metadata": {},
   "outputs": [],
   "source": []
  },
  {
   "cell_type": "code",
   "execution_count": 78,
   "id": "754986a5",
   "metadata": {},
   "outputs": [],
   "source": [
    "AuxAttendance.to_excel('Datasets/AUXXX.xlsx')"
   ]
  },
  {
   "cell_type": "code",
   "execution_count": null,
   "id": "bdf695a2",
   "metadata": {},
   "outputs": [],
   "source": []
  },
  {
   "cell_type": "code",
   "execution_count": 29,
   "id": "96eb353a",
   "metadata": {},
   "outputs": [
    {
     "ename": "PermissionError",
     "evalue": "[Errno 13] Permission denied: 'Datasets/AttendanceFTBLNP.xlsx'",
     "output_type": "error",
     "traceback": [
      "\u001b[1;31m---------------------------------------------------------------------------\u001b[0m",
      "\u001b[1;31mPermissionError\u001b[0m                           Traceback (most recent call last)",
      "Cell \u001b[1;32mIn[29], line 1\u001b[0m\n\u001b[1;32m----> 1\u001b[0m \u001b[43mAttendanceFTBLNP\u001b[49m\u001b[38;5;241;43m.\u001b[39;49m\u001b[43mto_excel\u001b[49m\u001b[43m(\u001b[49m\u001b[38;5;124;43m'\u001b[39;49m\u001b[38;5;124;43mDatasets/AttendanceFTBLNP.xlsx\u001b[39;49m\u001b[38;5;124;43m'\u001b[39;49m\u001b[43m)\u001b[49m\n",
      "File \u001b[1;32m~\\anaconda3\\lib\\site-packages\\pandas\\util\\_decorators.py:211\u001b[0m, in \u001b[0;36mdeprecate_kwarg.<locals>._deprecate_kwarg.<locals>.wrapper\u001b[1;34m(*args, **kwargs)\u001b[0m\n\u001b[0;32m    209\u001b[0m     \u001b[38;5;28;01melse\u001b[39;00m:\n\u001b[0;32m    210\u001b[0m         kwargs[new_arg_name] \u001b[38;5;241m=\u001b[39m new_arg_value\n\u001b[1;32m--> 211\u001b[0m \u001b[38;5;28;01mreturn\u001b[39;00m func(\u001b[38;5;241m*\u001b[39margs, \u001b[38;5;241m*\u001b[39m\u001b[38;5;241m*\u001b[39mkwargs)\n",
      "File \u001b[1;32m~\\anaconda3\\lib\\site-packages\\pandas\\util\\_decorators.py:211\u001b[0m, in \u001b[0;36mdeprecate_kwarg.<locals>._deprecate_kwarg.<locals>.wrapper\u001b[1;34m(*args, **kwargs)\u001b[0m\n\u001b[0;32m    209\u001b[0m     \u001b[38;5;28;01melse\u001b[39;00m:\n\u001b[0;32m    210\u001b[0m         kwargs[new_arg_name] \u001b[38;5;241m=\u001b[39m new_arg_value\n\u001b[1;32m--> 211\u001b[0m \u001b[38;5;28;01mreturn\u001b[39;00m func(\u001b[38;5;241m*\u001b[39margs, \u001b[38;5;241m*\u001b[39m\u001b[38;5;241m*\u001b[39mkwargs)\n",
      "File \u001b[1;32m~\\anaconda3\\lib\\site-packages\\pandas\\core\\generic.py:2374\u001b[0m, in \u001b[0;36mNDFrame.to_excel\u001b[1;34m(self, excel_writer, sheet_name, na_rep, float_format, columns, header, index, index_label, startrow, startcol, engine, merge_cells, encoding, inf_rep, verbose, freeze_panes, storage_options)\u001b[0m\n\u001b[0;32m   2361\u001b[0m \u001b[38;5;28;01mfrom\u001b[39;00m \u001b[38;5;21;01mpandas\u001b[39;00m\u001b[38;5;21;01m.\u001b[39;00m\u001b[38;5;21;01mio\u001b[39;00m\u001b[38;5;21;01m.\u001b[39;00m\u001b[38;5;21;01mformats\u001b[39;00m\u001b[38;5;21;01m.\u001b[39;00m\u001b[38;5;21;01mexcel\u001b[39;00m \u001b[38;5;28;01mimport\u001b[39;00m ExcelFormatter\n\u001b[0;32m   2363\u001b[0m formatter \u001b[38;5;241m=\u001b[39m ExcelFormatter(\n\u001b[0;32m   2364\u001b[0m     df,\n\u001b[0;32m   2365\u001b[0m     na_rep\u001b[38;5;241m=\u001b[39mna_rep,\n\u001b[1;32m   (...)\u001b[0m\n\u001b[0;32m   2372\u001b[0m     inf_rep\u001b[38;5;241m=\u001b[39minf_rep,\n\u001b[0;32m   2373\u001b[0m )\n\u001b[1;32m-> 2374\u001b[0m \u001b[43mformatter\u001b[49m\u001b[38;5;241;43m.\u001b[39;49m\u001b[43mwrite\u001b[49m\u001b[43m(\u001b[49m\n\u001b[0;32m   2375\u001b[0m \u001b[43m    \u001b[49m\u001b[43mexcel_writer\u001b[49m\u001b[43m,\u001b[49m\n\u001b[0;32m   2376\u001b[0m \u001b[43m    \u001b[49m\u001b[43msheet_name\u001b[49m\u001b[38;5;241;43m=\u001b[39;49m\u001b[43msheet_name\u001b[49m\u001b[43m,\u001b[49m\n\u001b[0;32m   2377\u001b[0m \u001b[43m    \u001b[49m\u001b[43mstartrow\u001b[49m\u001b[38;5;241;43m=\u001b[39;49m\u001b[43mstartrow\u001b[49m\u001b[43m,\u001b[49m\n\u001b[0;32m   2378\u001b[0m \u001b[43m    \u001b[49m\u001b[43mstartcol\u001b[49m\u001b[38;5;241;43m=\u001b[39;49m\u001b[43mstartcol\u001b[49m\u001b[43m,\u001b[49m\n\u001b[0;32m   2379\u001b[0m \u001b[43m    \u001b[49m\u001b[43mfreeze_panes\u001b[49m\u001b[38;5;241;43m=\u001b[39;49m\u001b[43mfreeze_panes\u001b[49m\u001b[43m,\u001b[49m\n\u001b[0;32m   2380\u001b[0m \u001b[43m    \u001b[49m\u001b[43mengine\u001b[49m\u001b[38;5;241;43m=\u001b[39;49m\u001b[43mengine\u001b[49m\u001b[43m,\u001b[49m\n\u001b[0;32m   2381\u001b[0m \u001b[43m    \u001b[49m\u001b[43mstorage_options\u001b[49m\u001b[38;5;241;43m=\u001b[39;49m\u001b[43mstorage_options\u001b[49m\u001b[43m,\u001b[49m\n\u001b[0;32m   2382\u001b[0m \u001b[43m\u001b[49m\u001b[43m)\u001b[49m\n",
      "File \u001b[1;32m~\\anaconda3\\lib\\site-packages\\pandas\\io\\formats\\excel.py:944\u001b[0m, in \u001b[0;36mExcelFormatter.write\u001b[1;34m(self, writer, sheet_name, startrow, startcol, freeze_panes, engine, storage_options)\u001b[0m\n\u001b[0;32m    940\u001b[0m     need_save \u001b[38;5;241m=\u001b[39m \u001b[38;5;28;01mFalse\u001b[39;00m\n\u001b[0;32m    941\u001b[0m \u001b[38;5;28;01melse\u001b[39;00m:\n\u001b[0;32m    942\u001b[0m     \u001b[38;5;66;03m# error: Cannot instantiate abstract class 'ExcelWriter' with abstract\u001b[39;00m\n\u001b[0;32m    943\u001b[0m     \u001b[38;5;66;03m# attributes 'engine', 'save', 'supported_extensions' and 'write_cells'\u001b[39;00m\n\u001b[1;32m--> 944\u001b[0m     writer \u001b[38;5;241m=\u001b[39m \u001b[43mExcelWriter\u001b[49m\u001b[43m(\u001b[49m\u001b[43m  \u001b[49m\u001b[38;5;66;43;03m# type: ignore[abstract]\u001b[39;49;00m\n\u001b[0;32m    945\u001b[0m \u001b[43m        \u001b[49m\u001b[43mwriter\u001b[49m\u001b[43m,\u001b[49m\u001b[43m \u001b[49m\u001b[43mengine\u001b[49m\u001b[38;5;241;43m=\u001b[39;49m\u001b[43mengine\u001b[49m\u001b[43m,\u001b[49m\u001b[43m \u001b[49m\u001b[43mstorage_options\u001b[49m\u001b[38;5;241;43m=\u001b[39;49m\u001b[43mstorage_options\u001b[49m\n\u001b[0;32m    946\u001b[0m \u001b[43m    \u001b[49m\u001b[43m)\u001b[49m\n\u001b[0;32m    947\u001b[0m     need_save \u001b[38;5;241m=\u001b[39m \u001b[38;5;28;01mTrue\u001b[39;00m\n\u001b[0;32m    949\u001b[0m \u001b[38;5;28;01mtry\u001b[39;00m:\n",
      "File \u001b[1;32m~\\anaconda3\\lib\\site-packages\\pandas\\io\\excel\\_xlsxwriter.py:205\u001b[0m, in \u001b[0;36mXlsxWriter.__init__\u001b[1;34m(self, path, engine, date_format, datetime_format, mode, storage_options, if_sheet_exists, engine_kwargs, **kwargs)\u001b[0m\n\u001b[0;32m    202\u001b[0m \u001b[38;5;28;01mif\u001b[39;00m mode \u001b[38;5;241m==\u001b[39m \u001b[38;5;124m\"\u001b[39m\u001b[38;5;124ma\u001b[39m\u001b[38;5;124m\"\u001b[39m:\n\u001b[0;32m    203\u001b[0m     \u001b[38;5;28;01mraise\u001b[39;00m \u001b[38;5;167;01mValueError\u001b[39;00m(\u001b[38;5;124m\"\u001b[39m\u001b[38;5;124mAppend mode is not supported with xlsxwriter!\u001b[39m\u001b[38;5;124m\"\u001b[39m)\n\u001b[1;32m--> 205\u001b[0m \u001b[38;5;28;43msuper\u001b[39;49m\u001b[43m(\u001b[49m\u001b[43m)\u001b[49m\u001b[38;5;241;43m.\u001b[39;49m\u001b[38;5;21;43m__init__\u001b[39;49m\u001b[43m(\u001b[49m\n\u001b[0;32m    206\u001b[0m \u001b[43m    \u001b[49m\u001b[43mpath\u001b[49m\u001b[43m,\u001b[49m\n\u001b[0;32m    207\u001b[0m \u001b[43m    \u001b[49m\u001b[43mengine\u001b[49m\u001b[38;5;241;43m=\u001b[39;49m\u001b[43mengine\u001b[49m\u001b[43m,\u001b[49m\n\u001b[0;32m    208\u001b[0m \u001b[43m    \u001b[49m\u001b[43mdate_format\u001b[49m\u001b[38;5;241;43m=\u001b[39;49m\u001b[43mdate_format\u001b[49m\u001b[43m,\u001b[49m\n\u001b[0;32m    209\u001b[0m \u001b[43m    \u001b[49m\u001b[43mdatetime_format\u001b[49m\u001b[38;5;241;43m=\u001b[39;49m\u001b[43mdatetime_format\u001b[49m\u001b[43m,\u001b[49m\n\u001b[0;32m    210\u001b[0m \u001b[43m    \u001b[49m\u001b[43mmode\u001b[49m\u001b[38;5;241;43m=\u001b[39;49m\u001b[43mmode\u001b[49m\u001b[43m,\u001b[49m\n\u001b[0;32m    211\u001b[0m \u001b[43m    \u001b[49m\u001b[43mstorage_options\u001b[49m\u001b[38;5;241;43m=\u001b[39;49m\u001b[43mstorage_options\u001b[49m\u001b[43m,\u001b[49m\n\u001b[0;32m    212\u001b[0m \u001b[43m    \u001b[49m\u001b[43mif_sheet_exists\u001b[49m\u001b[38;5;241;43m=\u001b[39;49m\u001b[43mif_sheet_exists\u001b[49m\u001b[43m,\u001b[49m\n\u001b[0;32m    213\u001b[0m \u001b[43m    \u001b[49m\u001b[43mengine_kwargs\u001b[49m\u001b[38;5;241;43m=\u001b[39;49m\u001b[43mengine_kwargs\u001b[49m\u001b[43m,\u001b[49m\n\u001b[0;32m    214\u001b[0m \u001b[43m\u001b[49m\u001b[43m)\u001b[49m\n\u001b[0;32m    216\u001b[0m \u001b[38;5;28mself\u001b[39m\u001b[38;5;241m.\u001b[39m_book \u001b[38;5;241m=\u001b[39m Workbook(\u001b[38;5;28mself\u001b[39m\u001b[38;5;241m.\u001b[39m_handles\u001b[38;5;241m.\u001b[39mhandle, \u001b[38;5;241m*\u001b[39m\u001b[38;5;241m*\u001b[39mengine_kwargs)\n",
      "File \u001b[1;32m~\\anaconda3\\lib\\site-packages\\pandas\\io\\excel\\_base.py:1313\u001b[0m, in \u001b[0;36mExcelWriter.__init__\u001b[1;34m(self, path, engine, date_format, datetime_format, mode, storage_options, if_sheet_exists, engine_kwargs, **kwargs)\u001b[0m\n\u001b[0;32m   1309\u001b[0m \u001b[38;5;28mself\u001b[39m\u001b[38;5;241m.\u001b[39m_handles \u001b[38;5;241m=\u001b[39m IOHandles(\n\u001b[0;32m   1310\u001b[0m     cast(IO[\u001b[38;5;28mbytes\u001b[39m], path), compression\u001b[38;5;241m=\u001b[39m{\u001b[38;5;124m\"\u001b[39m\u001b[38;5;124mcompression\u001b[39m\u001b[38;5;124m\"\u001b[39m: \u001b[38;5;28;01mNone\u001b[39;00m}\n\u001b[0;32m   1311\u001b[0m )\n\u001b[0;32m   1312\u001b[0m \u001b[38;5;28;01mif\u001b[39;00m \u001b[38;5;129;01mnot\u001b[39;00m \u001b[38;5;28misinstance\u001b[39m(path, ExcelWriter):\n\u001b[1;32m-> 1313\u001b[0m     \u001b[38;5;28mself\u001b[39m\u001b[38;5;241m.\u001b[39m_handles \u001b[38;5;241m=\u001b[39m \u001b[43mget_handle\u001b[49m\u001b[43m(\u001b[49m\n\u001b[0;32m   1314\u001b[0m \u001b[43m        \u001b[49m\u001b[43mpath\u001b[49m\u001b[43m,\u001b[49m\u001b[43m \u001b[49m\u001b[43mmode\u001b[49m\u001b[43m,\u001b[49m\u001b[43m \u001b[49m\u001b[43mstorage_options\u001b[49m\u001b[38;5;241;43m=\u001b[39;49m\u001b[43mstorage_options\u001b[49m\u001b[43m,\u001b[49m\u001b[43m \u001b[49m\u001b[43mis_text\u001b[49m\u001b[38;5;241;43m=\u001b[39;49m\u001b[38;5;28;43;01mFalse\u001b[39;49;00m\n\u001b[0;32m   1315\u001b[0m \u001b[43m    \u001b[49m\u001b[43m)\u001b[49m\n\u001b[0;32m   1316\u001b[0m \u001b[38;5;28mself\u001b[39m\u001b[38;5;241m.\u001b[39m_cur_sheet \u001b[38;5;241m=\u001b[39m \u001b[38;5;28;01mNone\u001b[39;00m\n\u001b[0;32m   1318\u001b[0m \u001b[38;5;28;01mif\u001b[39;00m date_format \u001b[38;5;129;01mis\u001b[39;00m \u001b[38;5;28;01mNone\u001b[39;00m:\n",
      "File \u001b[1;32m~\\anaconda3\\lib\\site-packages\\pandas\\io\\common.py:865\u001b[0m, in \u001b[0;36mget_handle\u001b[1;34m(path_or_buf, mode, encoding, compression, memory_map, is_text, errors, storage_options)\u001b[0m\n\u001b[0;32m    856\u001b[0m         handle \u001b[38;5;241m=\u001b[39m \u001b[38;5;28mopen\u001b[39m(\n\u001b[0;32m    857\u001b[0m             handle,\n\u001b[0;32m    858\u001b[0m             ioargs\u001b[38;5;241m.\u001b[39mmode,\n\u001b[1;32m   (...)\u001b[0m\n\u001b[0;32m    861\u001b[0m             newline\u001b[38;5;241m=\u001b[39m\u001b[38;5;124m\"\u001b[39m\u001b[38;5;124m\"\u001b[39m,\n\u001b[0;32m    862\u001b[0m         )\n\u001b[0;32m    863\u001b[0m     \u001b[38;5;28;01melse\u001b[39;00m:\n\u001b[0;32m    864\u001b[0m         \u001b[38;5;66;03m# Binary mode\u001b[39;00m\n\u001b[1;32m--> 865\u001b[0m         handle \u001b[38;5;241m=\u001b[39m \u001b[38;5;28;43mopen\u001b[39;49m\u001b[43m(\u001b[49m\u001b[43mhandle\u001b[49m\u001b[43m,\u001b[49m\u001b[43m \u001b[49m\u001b[43mioargs\u001b[49m\u001b[38;5;241;43m.\u001b[39;49m\u001b[43mmode\u001b[49m\u001b[43m)\u001b[49m\n\u001b[0;32m    866\u001b[0m     handles\u001b[38;5;241m.\u001b[39mappend(handle)\n\u001b[0;32m    868\u001b[0m \u001b[38;5;66;03m# Convert BytesIO or file objects passed with an encoding\u001b[39;00m\n",
      "\u001b[1;31mPermissionError\u001b[0m: [Errno 13] Permission denied: 'Datasets/AttendanceFTBLNP.xlsx'"
     ]
    }
   ],
   "source": [
    "AttendanceFTBLNP.to_excel('Datasets/AttendanceFTBLNP.xlsx')"
   ]
  }
 ],
 "metadata": {
  "kernelspec": {
   "display_name": "Python 3 (ipykernel)",
   "language": "python",
   "name": "python3"
  },
  "language_info": {
   "codemirror_mode": {
    "name": "ipython",
    "version": 3
   },
   "file_extension": ".py",
   "mimetype": "text/x-python",
   "name": "python",
   "nbconvert_exporter": "python",
   "pygments_lexer": "ipython3",
   "version": "3.10.9"
  }
 },
 "nbformat": 4,
 "nbformat_minor": 5
}
